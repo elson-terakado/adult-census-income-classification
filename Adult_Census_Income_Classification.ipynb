{
  "cells": [
    {
      "cell_type": "markdown",
      "metadata": {
        "id": "view-in-github",
        "colab_type": "text"
      },
      "source": [
        "<a href=\"https://colab.research.google.com/github/elson-terakado/adult-census-income-classification/blob/main/Adult_Census_Income_Classification.ipynb\" target=\"_parent\"><img src=\"https://colab.research.google.com/assets/colab-badge.svg\" alt=\"Open In Colab\"/></a>"
      ]
    },
    {
      "cell_type": "markdown",
      "source": [
        "# **Adult Census Income | Classification**\n",
        "\n",
        "\n",
        "<a>\n",
        "  <img src=\"data:image/jpeg;base64,/9j/4AAQSkZJRgABAQAAAQABAAD/2wCEAAkGBxMTERUSExMWFhUXFxwbGRgVGSIfHhkfIR4dIiIiIB0bICkgICEmJR8eIT0hJiorLi4vHh8zODMtNygtLisBCgoKDg0OGxAQGy8mICUvLy4rLTItNS0vLy43Ly01NS0tLS01LS8vLi4tLS0vLS0tLS0tLS0tLy0tLS0tLS0tLf/AABEIALQBGAMBIgACEQEDEQH/xAAcAAACAwEBAQEAAAAAAAAAAAAABgQFBwMCAQj/xABEEAACAQMDAgQEBAQDBQUJAAABAgMABBEFEiEGMRMiQVEHFDJhI3GBkRVCUqEzYoIkkrHB4XKistHwJTRDU2N1s8Lx/8QAGQEAAwEBAQAAAAAAAAAAAAAAAAMEAgEF/8QALxEAAgEDAwMCBgIBBQAAAAAAAAECAxESITFBBBNRYXEigaHR4fCRsRQjJDJCwf/aAAwDAQACEQMRAD8A3CiiiunAoqLqF4kMTyyNtRFLMfYDvwOT+lLHQnV/zvipIYxKjFlWPdzFkBSd3rng8+2QM4oSdrhcb819zWedRakk06vHMUWPjkMOQfqTaDnPbnHYelWfUvWSQWPzMQ3MziNA6nAbBJ3hTkDaD29cU6fTyjFPz6bEtHqoVJyguNtdxwFBqmk6jgW0S8clYnVWGR5vN2GBnn/rVhp96k0ayRncjjIP/Q0mztcpyV7X1JVFcYZ1bO1g2CQdpBwR3Bx6/au1B0KKKKACiiigAooooAKKKKACivJYDue/avVABRRRQAUUUUAFFFFABRRRQAUUUUAFFFFABXgsO2eT2pR6/wCsPkBCq7S8j5IdWI8Ncb8bSPNyAM8d/aqTqLUJ5L60lh5QqrQHZ6MoLf7wO37Y45rUIZOwuc8FexplFAorIwKKKKAK/W7AXFvJCTgOuM4zj17VnPwY0wfjXG7kDw8Y/rWN+/2xj9aaPiFrptolRGdHlzh0AO0KVzwSO+4D9ar36uhttNS5jiQSOQoiYrF4jLgMcqMDyjP5YHtTVGWF/Ipzi5Y8oXLuDYEGCD4ak5++avrvRo5NPuIpZI4V8YFZJuFXiPnJI7glc59cVF6gvUneSaNgyPbIQR2/xUB/Ygj9K8fGJ5haQKmfCOfEG0EEjZsByOO7HHrj7VZ1NZunH98HldD06jXn6fk8/ES/eJo7ZAny6RISm3hiS4HbDAAJxtIrnoPVNzDYXLBUYxrF4C7cKu+Qx4O3BIBGeTk85PNF/ZPLYWUtyG8eSaOFyRgmMPMEOMYBKsDn1yKueiNHik00O6ljIvIycfhyyOnb2Y5++BSZSj2NiyMZf5G/AjfDjqV7YXCxQqUMTyck/wCIqEqM5+khSO2fvV/8NOqtq3IuCRECZS7szkMSoZRn08y4UDOSeTmoHwqSCITyzABQlrtLAkbpIWL8eucn8hVzY9HzQ2MkTqjmS4hb8M58gEQbJwOMgn+9JpxVvi5KZz3x3S2JHRvU7tcOlxdI4lP4IHvn7DyAjA2vg5+/dksdfEl28GOBkL5cHK53ZOexxx+VZV0fYvJcRkKSVMTjA7ATxgt+QG7+9PsjqYr2+tyCoim8NhkEOiEHggEeYNz96prU6cW/b6kVGpVlGLW19fYg9T9aXcGppbRQq0RKDlSTJuxuIYHA28jtxtJPFM3WWviztWlUxmU4ESSNgOcjOORnAycfb71+fZpJYg0XiOFYBmUMQG3KG5GcHII70y6npUz6bGSdyWk00OSfVpIFUAH05f7ACp5wSSZfGV2bF0rri3dqkxMYcDEqowYI2OQT6e/6150fXlmmkj8gAP4ZVslx6nHp6H9ftWXdH60thaJvHF4xyTnyorSIzAKD5s7RjjIBp06V07F05BH4bEjjuMyJj+wNap04uEpS+RNXqzjUhGOzepPuOrNt8sH4XgfS8pkHlfnjvjOcLt7859Kgal10seppaZHhDEcnkO7xGxtIOcbRkZ/1d6R7/QpPnGg2Zc8YyPraNmHOcckE+1M+pdNbtbhfwpDGVR3cA7Q+2c8tjA5SPj7j3rVSnCNreDtGrOblfhnXqTVUluASGHgsVGCPNhuTzjZyO43entVp1B1qsFilyqqJZG2okm4rkHzZKjOAAece1UfU1g0cxBIPlLnHs0z4/XzD+9Tet+nC1gFADSiYsmGC8O+ceYgZxjj88U2tGn24WI+jlVdeeXz9+PoXN/1xaxLauW8tyRgk7di45Zg2DgHC/r9qaaz7qXoYTCxVIyViIWXz42xkgt3PJ5btWg1Az1woqk0Pqa3u5J4oWYtA218qR6sMjPcZVh+lcNG6shuLqe2TGYsbW3qRKP5igByQhwD7ZFDVtwGKio8V1GzMiupZfqUMCV/MDkVIoAKKKKACiioWqXohheU48qkgFgu444XJ4yTgfrQlfQG7ak2uF1OERnIJ2qTgdzgZwPvS/o/VSvayXFwFhMWS6E8gfykj6hu7DI59KVerdZ/iOkCWMFSJD4yI27ZsjkfDMBgjhGz25HrWsGnZmVNNXRy10trNrBPDauskdwUYFhwmxjnnAI3bB27gj3p+HT0Ia3YBh8uu2MA8YAwM55PH3rMPg7FIb1pTvKmJ1YnJGQYiuSfXDEjPpnHrWz12axloC+JahRRRWDQUUVRdW6+LK1e4KbyCAq5xuYnA59B6+vAoAouumt7lPDjkSSeJ1VkjYFkVnTdlRyPpHPpVF1loS/wq1k5VkVMgj+aRU3ZzyMbe33pK0LqSG0u/nVikdiWJjLABQ582GHL/AGBC/f3ra9a19YhCQMiTDHKk+T7Y/m5GAfvToSk7RiImoQbqS9hQ1C7FnYW9rbzqsxUSNu2g7HLPjcw2DzN2JBIFX3y8Wq2CxNPllKeI0Yx51HPDDsc5zjB9KVPiNYN8y0u1iHZAhweQI+cfkRVv0TozPZ3KDKC4hUBucElHBIP2z6U6dOPZUuRFOpPvOPAz2ZtLy1jYfiQxsCrNuTDREjJzg8YPfg0iaZ1V4F8qRTwLpikqvmBABUnOTmXdvPc+XHPbmvvQdiw0a+kDFjNFJtUZJyImHHuTlR+grPzpf+1mDafrZcc54BOPzpUYrVX0KXw7amv9c3b+IqhgYwqnBAIJbfzyD6LUyy6gEMEC3BdmmlMSlVz37FvYDtmvF5p0kljaqqEusS7hwD/gkc5+57Un/EzQXae0bIAeOOErk9w/myAMYPiL+eD7Cm5QdOMSSnTmuonJt2+n6ib0/ozwHwrpkt2mtZIIy7rku0jcKA2WIDA4HuPeq3Qr+KwsSs+SLyQo6MWUpEBteQeVtxAZQFwCfTOKpuutWnF4sLhGNoI0iOMkMEjLNnjdlsHDAjgcd8vGtaTLqVnp1x4YeXdGZdpCgIR5zgn3A4GTSXUyleXJXCmoRtEz/rHT40ubsITtiMCpz3UxqOffgCny9a2eZ9IR1RHkExmMgY+N4yu0Xh8dwMZzx2wcVH1/pmGXUZLbxZVa4ETgiMFUEakEE7gTkL3xwSO9Q7rRI4tZkkZztjLXR4GeD4pHf/TmtSs0k/ARert5JetaJaQ/w+we4iMscoLeJuUujS7iPKCq5ywAYjPvXf4na6lpi3t3aC4lxI0ka/ybn4Jzkbm3Hgehz3pC1rqKK6uTdSwMJMr5Ek8jbe27K7uwAO0jIHG081adazi/toNRPkkZxbOg5ClBNJkHvzuHB7fesTi4xRpWbuNmgL80DqiSEsmCyOmCzxQup+liMMWDcdgcVS9A9SSwy3skyjZiSWXYDuMoZRxlsc7iMcenbFMOh3A0zSEmVTM8oSRYgdpJdUyB3JC4LZAPHp61L6V0BWtp5Wbet3+IY8YMZ3O+wkMcspYA9uVPHpRk3H4vY4oJPT3Kbpm5fVVkZ5FE0aKj4jIUhpCykeY+isPzH61A+MeqkzJavGrQoqyZJIO9t69we20HjHqeRU3R9LmsNJnbwSk8hCvknIQDv5TwRufkep+1VHVNs8+n20zQkyYkQsoYkqkLtGTnJ49/U03V2fCdkJjGEZuy1auxqtupzNpyeM3hTSb0JjBwNjlSe5IBAxxk8nHauEOqlLG4gSZvFKsUZc4UHAO1jg5HLdh9u1e+oNLWONCse1RCp7HAd5Mt+pLE4r50hbEzxvtPlkYMcdvwz39uaojTh2G/n8zz51qi6xL2XOwm/Dm9uP4jEPFfaXKSDPD5SQ5b+o5TOTk/evXS1kmnXlxKzmT5QbAAuDIWLRj1O3tu9f1pz+G3T9xbTTNPFsBjAUkqcnxpj/KT/KVP6ir3rLS/FijCR5PzERfA7qG5J+wBJqNuMqiT2PVlkoNrczfQdbgtbo3X4r7t2UwBtDHJy2TvI/Jc9+O1bTG4YBhyCMj8jX5/0iyeRwgQsXjm2DH1FYnPHucj963fTsLGkZI3LGuVzyOMcj9Kd1kUmrbkvQybTvsTaKKKjLzzSh8TbNpLQYBKozO2PQLFJgn/AFYH61cTa7GtwYMNuCls444Gcd89vXtST0p1FNqK3tq+Q0iSNHvIxGDhfD8q5IUkHd3OTxTaalCSk/cROUakZRTvx8yq6R0PxIbnepCtG8Z5xlwYnRfzJz+dMnTPTrxaLPCymOaaOcMJDjBIZFyfQYCnP3zSn11YXFnDHGSjRNOZchcjftAXkjuAjnHbnnNaHqTTvpsbPxKY4zKCMZJA3DaRx5j2ptR5yWujYuC7VN6bJnL4faJNaxSiYKC7RkbWzwsMSnt/mVqbqrtADfLx7zlto5+3p/bFWNTT/wCTKYO8Uwooorho+UtdeaS91bxxRruPzELMMjhA43Hn2BJx9qZarr3Vo4pI4mzukOFwOPbn9aEm9jMpRiryZ+cNC0+WaREjQs0sUwjHHmPhPwMnHfjnFb7eaIZIbZdo3R+GGyewUDI47+tZz8P+n7qK6sDJbyosfzG4shAXhgMkjAySMe/cZrzqvXQ/iYu1Nx4cWU8EEbZANwz9WBnO7BU9hz/SynkpXjwZqRjOOMtmaD1rpUs3y/hJu2O2cEDAKEDuffilvX9Yks9Nt7WOZYbzYpKMQCEyc+ZvIpz/AFEZw2Oarvid1U/zNvHGHCR7JlZZCu9jggEAdgMf7xql6+Z7hkvGiZTLFbbRyQCyzFlU48xBUffkds1uEsrRfBxwSbkjUugdcW5tVBlSSeMATbBjBOcdgFOQPqXKkg4NJ6aRN/Fw/gyeH88zb9h248IHOcYxnjPbPHevPwhjEImuH8kRt1ZpG4TKyzA+Y8eVVGfbP3qInV838V8c3y/JbzxvG3w8YA8H/E3Z9duc8521iXwyaRtaoldea5FPchMyp8sxGVwdzZGSORtIIwG5/IY5ldV9bwG3s5zbh2aUkq67tixsu8KQy+cnbtJ49xVH1pp22UurIyusk4ZTkFHlO3BxycMPt96brzooy28Ks0a+HdtcElS2YjuOzsME5Ukdsr61RWUFTjYioObqyv8AvgpfiZo5luraWCBmEihnZIyefEhXLFR32kDn0HsKm33WHy+qxWkastvHthMSqoUlv5we4C5xgf0mlC76uhfUk1BVmATAWLy4KgYwGz5QRyV2nnPPOQ16taI19Bq3gk2fgRys3GdzLMR5d2d2Wh+2cexpChbf9ZY5aXFzV7ef5uSPMu9nd8Ddnd5mXA9/KMevtWv61amS1nQDLvC6j3JKkYz+dL1vpbXF5HqEbL4LeG/myGwscinjGO7D196k2OtzteFHUCHLANjjH8pD9ju4/f7U+peolb/qtfsRwlGk/iv8TsvuYl1Fp8kUsiMuDEkKuOPKxiTjj757Vpuk2NvFiyvbdmM95NNF/Sg27UZircbgSAPv2FLnXmmzNeagVhkYM1vgqjEHKqOCBzzxx61O686daTVYlDAG4A2k58u1FUZ/JgTxS21JJMrWhL+L2ikR2pjTEcS+EgB7FigVeTnsvf7VI6FuUsNLklnkEKTOGhZvNuLQR8hVyx8wbjGfKT25qz6lvkvLldMw6Oskcnibcg7BvxjIOCON3v6Uq/EzSGht9OtN+4RQT5YDG4xxq2cZOOFPrWJXUFF/qCLUm2v1lZ0hdPHNIL68CQ3EbIzGYSb2bGGG0tjHJ3tgDOM84p4641pbG0jtYbgxzMo2OVJ8gIySVU4z2Bwf07jE7SDexHskjf7iM3/64rROs9JklstPuDgl4LWHk872Vic/bkVyGrs9jUlyMia6LzSWPieJLF4ayttK5bK8gYHB98D14Havlzqfy9re4mSGeSV1h3sFJbH8u7jPPc8AkZrr8IdLMdqZ+Ns4UjHfylwc/vSr8Z0LXo54jtEcD85yh/LuP2FblUtF00uft9if/HvWVW/FrfyWvws1SeKWSG9uCDJt8GOeXc7NznbuJYA8d+Ce2ea1RhxX5Vs4z5nU4MYVxj38RFH/AIs/pX6c1vUBb28s5UsI0LbR3bHoPz7UgqMz6LspFurItG4Ci4ySpGOGHt7nFOGnRS/xCUluMHI4+n+UdvTK/uaTvhz1azXzxOZ3+ackeI2VhYB22j3BAIyNv0r5fZ4j11Pn2txCACv+PkYZuPJ27+mM5yO3rVU5ybenBGqMYqOuz/AyVEub+NJI4mdVkl3eGpPL7Rk4Hrgc0tdfdWPZLGsCRzTMcmNm5Cc+baOcE+Xd2FLvVMbXGp6dNDcApMMpskJUeGwLYK8HO7HHtg1NFXZW9DhJNLvIMj52l+577N/avOtAafbXuzwZXuJ3iIibDQo6yOwJAyrBAOPTAPOOXM6XL8/4uz8PxM7sjt4W3tnPfis2XSZTHqrzyF/ASRvqP+LtkXdj1G3xBz6EcccV9RUU0reDz+hoypueV97L28h0gI7uxe1m3xQWpa4V18zHKyK6kYxxvyMAf86Z365L2V4x2vKnMYVcAIzKqk7wQWQtuIxg8V6+GOjxNa3QwebiWHIPOwbcDnjOfWvHQ/Tyy29yrFlLo0WcdhJHGSceuCBjmlQxwbfFimpl3IpbO9xo6D1VrmxikcYYDYe3m28bsKABuGDgds4pjqBomni3t4oAdwjQLnGM49cVPpD3HrYKKKKDp8rOOoHl+aYb3G58LyfKM7ePb9K0elzWtJkkuUkXG1Qmcn+mQMf7U/paihLXwR9dSlUglHyLWv8AWk1tcWUWGKmNHm+n8TeMYyRlSuN/HfOOO9KOpdPhNVW2D5G+JN23/wCYjHOM+mO2eftWpazoC3F3bTh0/wBmLh1xktuKEAnPGNp7/wBVVWpHT/4vHHJ4vzblJARnYCiuFB+5GT2xwOR65zS2KFF2sLXxF0YO9p8sjTNEGjmaJS2GTwAoYDIU4zx+ftTL8QNKbwbKO3iZlju4vKgLbVw/J74A45PvX34fWUkTXRklZgshQ7iTypOW59+atZOoY7iykuLVt68rkqwxyA3BwRgHOfyNGNp2X7c53PgcpLyKEdrJD0u6SI0bhHJVwQRmYnkHkZH/ABrL/kh834HO3x/D++N+398V+hOmSZbULMgYfThhkMuB33Zz7fpWPwQD+KAYGf4s4/QSjj8vtWZq0mmdpzygpLkbdK6Ze7060dZFTNoIwGzyd4Yf2BrR7gqE2MyjcNi7jjJI7D3P2rPvifDOslitttRBKBGoVMLKWCoQCOMZx7cmlr4qa+z3wiaNSLUjYckEuVjc7vQr9PAwePq5obbSuzsYxUm1uynk0R4tQit3Klo5bSF8E4LMiduO3B5p56pglgsLS3WTzQRqs3hMSN6iJcH7eYkAjnjioEdiJJrfUriZIjc3duRGI2b8SIMhXIzjcy5BPAB7176Y0u7mkv42cMfGTfkgZkWVSTwP6VYfotPjNXUnwKqwbg4omdOtMdNl3O5DvHtLEnAMm1gM+nA4+5quWEs/h54Bb+wPp+lT5dbNlLZ6dKu5ckzBVzkvIWj2tuXGw4ZuO3vXbSoVN1HkfVPMrfcBV4/7x/erKFWyk/d/T8HkdbQeUL82X1/JYdaXky6QhjG4uiLIeT5ChLcg5GcAZ+/3rv0upl0yG5miQzxwt4TlfMFAOwgtk8gLznnvSva9WR3V21q0ziymCQwxrGAyMCgVixB4YgjuT5lyBimGy6ijgvodJUboo4Uh3MpLlwgxkjClNnBOPqPbFee0/Hqe1HRJP2M7a4nD7PHkyBvzvbvs357/APo81qXWenRzafJcSLmWG0nZDkjBeBlbgcHIPrS3HZr/ABYKUG35l1xt42+APLj2x6dq8DqOW61K4sSHWGZJbYLuBWPAdfEC7RySMYz69zgYd1LztZcXEdLHDK75sJ3ROmxy31nE4JSeCcSDJGci6TgjkeVR2/OtZ1mytrkRWCTqj27xSBANxCx48vJHOD7kjg4qj0joN7KSG7M6v8rbygqEI3MTM3fPbEmP9P34VrfXrhLsz7Y/H5Ltt+pQMkYztHAxkANx375VSpOd2uBtesqdl5NX0SxWxso4WkDCJMFz5QeT7k4yT70jdcpFc2NxeMgS5SNIiofOI/GRgdo++efzp+6ktjJbOo9MMc+y8/8AKkW20Px7K5DSRxBl2l3PlXBikBPbA+/pmuxpxlTc3vcVOrUjXjBL4WhQ6P0+28W5+YVmhSzjlYKfMT+BJgYx3bjH3xWi9Ha9/E7WeCc/iDhzGu0bWJ243E8jBBz/AH71y6a6CEMksjzLLFLbRxAKCM7VQE5B7HYCMe/25jdB26aXYS3F6rQEsgcsCxxtTHlXP87P2H9hSVaz8lT3KX4WaUj3byEnMWJFAxjJa4iweO2OfzA/Kq+30OX54Q7D4gYHuM79iyHnP3zWm6zqdnpsXzLRKgkYJmGMbmzufnGOBl259z6muMuhH5h7+KTcSpdE29yYQi85+2e3rin06+Ll6oRWo54+jM4+MmnOLzxiDtkXCn7IoJ/bJP6006IHstMRNrKzyOY24JRGIO4Z9/bjvSrZaVcX1tI000cSQyy+eUtgvMpDDJJwN2w49Axx7VputW6C3gtSyGYhFjUkAvs2l9oJ5woJ/Kl00ozWW1zVfJ05Yb2C61x/kDNHgTFSEVyMswOOBxuJ+oKO/aqrpHV5zb3DXEamYKzqpQJJKApPKAAkZ43Y9TS51/ZlTChGPCtlYj/MZFVv+I5+1U/SKEXUEgPIuIk/R9+f7KR+tVdiLpuS/fQk/wAicakYy8JP72GHprqe5eyuN4bPjYD7iCN+5mAOONuMD2BFaD0/dtLbo7DBxg85zjjOfv3rOj1BBbXLaTHHIUedFaZ2BIkYxjhAoyvAGcg9zgitP0+38OJI852oq598DFSznFwslrcpjCaq5N6W+tyVRRRSikKKKKACoWr3Rit5pQMmON3APqVUn/lU2vEkYIIIBBGCD2IoAx34YazMdRkUpGPHZvGKg5LgSOCMsQOQ/AwOaUL3ULuS7LmdhKzFlkz5kBJICt9Sr6bVIHJ45Nat0Xob2t5cPOqJ4rHwcsuWPi3B8oBznYy/ocehAXtc0ZjrilbdvC8a25WM7Nuxt3IG3HBzW6jTloZjsN/U0s8uj74y4lkjgLNHwQGaMyEY7DaWz9s0sfCKGaSO5EjSGJ1C4JO0EgHK54BKuD9+DzTTY6k0tzNbYKoVZFGRhMAgEAAdxzjNTujun/koWh8TxMspJ27cYijjxjJ/oz+tbknTWL30YuFSNVXjtqjPusuoHSeOKyvQiW5IkBbb59xJzkDxQO21d3IPFPWi6Zp9yq3cEUbbpTMHAIPi/wAxIPIOecH15781hnUVo0chyCC3iOcgg/40q5we2do/9Gte+H0DQWN0ACu2eYx5z2CrjGe44712pFWTNRdtA6o6gKahBbtbJKoZGUuMtuJ+qP0BXGfXt6Uq/GbTYkmSRVw8scrscnll8BAcflxgcfrS/JPKuU8V8OFZhuOG3qrcjPJIPOe9ar0ncmPTt0o8QwtIgzySFcgAZ/ID9B7U2t0+MY29vckodTlKWW2/sKvxN0ZkmtViZkhbEaqHPBZ2Lnv/AJl5/wDKuuldQyQarHbGPAKRwzbdv4kpAJmYhdzNuJXk9sn1xVlpBiupws6ySZkMkZZiBGwycDaeQQPsPKOO9durLcW08urKY3EMITw/XxNxAJI7YLLn14/Kl1I9t4y8DqNZVY5R8n3VYba61a3CSwNJBu8aMk7zxxjjaxX1GcipjNZw38VvlvFYySAl12hnAG0gnOWAyBj0rH7Dqbwbw3qW48cu7kFz4eXzv2pjcpOW7uwGTx2xpsuhi51O1vlR/CkijmLjGFYDKjOO3lX/AHj78LjJrS/A2dOMrNq4s6D00i6ubbecQlSDgZPg/LSD/e7fanPWdIWG/fVJAvgRW+XxkuXXPIXGDxtHerbXrNIo5biKJBMQcyBfNhtoY7h5s7VXnP8AKPakbr7VLn5C1CuyAhy+CfOqbAobPLA7uQeD61qV3HP5GVNZ9v0uaB0v1DFfQfMQq6jcVKyABgRjvtJHYg8E96XumrRJtUub2PARd8W1lw278Hzrxgqdj+bPO4+5pI+GV3cSyzWokxHNbzKFwAiuAmGCqAF+vnA5zznijpiOaxgvbuErvTECjvy8qKpweDt83f3H3rEVdMY2abZdVWd1cS2SMWcBgwKkK2OGCt64/wCozSZYaXE2qGIrlDLcIRk/SsS4Hv8AzHnvSPYdSTwzm4iSIT+Yu+3lx3fKk7F3YydiqfbFbbqer2lt4E0keGuJAqMkYJ3OBySOewAJ78D2pqfavblCp0+5b0dxT1jrxRqGwXMYsVDRzDYd27DAkeXccHHmHlwD+vH4mv8AK2sdvEA8c5LyeJzkJ4QXBXGOdpyPb9KUtQ6dZdR+VIXcSiHngs8bEHt7jJNaJ1VCLiD5OOIyTwfL5O0YKl494Vj3GBkj7fbg2sltz9zrSbu9+Dp8M9aZ9PJm2IsDBFI4ATYhXOT3G7H349arviwzTWsM8EmYlZs7GwCxKhcj7Df+X615WT5axt7SSDazRI83OGDdhyARuG0cnPAAqToQguV+SliJiYlwd53FhjuVx6e3t65zTF07w7v7YmfWR73a+XO4hdbm6hW2ieWQolupGWJUlpJipPoW2In3GB2qwfqa6g0+1iLzb/GdvE8Qhiqt5UJIJKkk+vZQORxTt8TdFee3t4ojGCshAEjhc5idQAW7knAx35r11Z000tlbLmJDbgGRpDgKqwsp8wB4DEH0HGfSpotZXZc1oVvUNko0qOe3BhWRlndN7HzOqjGT3A/QcA1H6l0qcajpifMNkxqv1t3i2lj9y24c+uOagR9TSDUvE+aj/h+7AXcuwR7cACH6wwOOdv3ztq3696za3u7URDciqJSVZcSq+RtyVOBgbtwPOR+dNvKyXuKxWTl7Fz8S7NPk5Z9v4gVEDc/SZUOMdu9Jtjtgg1GZFG63ELxE87HIdQ33xvJwcir/AK/6kiMq2LPGIGx8y+/Dxcqy4Hv2PZv071bX/R0b2t3FDIQ10i+Z/Mo2jy4wAcev611VMaWL5/AuVHKqp8L8mJTa3c+IWZgZwSPFKqZQe3D4zkdge4HAIGK3X4eapLc2Eck53SgujHGM7XK5OOM4Azj1rE7+yxfzZ5Vb7wyPfdJJ/wAkP7it56U0hrS38FmDHxJXyowMPIzAc+wIFTFRdUUUUAFFFFABRRRQBmXxBnuRfQ+HngDwfIDhvLkjI5JJVcflT5quqRW0JnnfZGuNzEE4yQBwAT3NcdV0NJ5oZmZgYTkAYwfMjc5/7A/elH4xQTmCFo2YIrNvCtjJO0LkZ5/m/KmuSmox8CYwcZSl5LXqO+gs1mnkn8M3C7YtqEsG2AbgBycY3Z4rNfhzqMVhdtLcXMYjkUqfDYvuYlSHfaPKBzy+G83bvjp1lYTG205JmZmW3u3yTkkLh15/7ASkq0h3lgewjkbj/LGzD+4FLbbeoyEVFae5o/xZgdruZlVmBsY+VBI/94X1FaZpl/FKGtwSWRArjBHpg8/Y5FcLSZl0yN1PmFqpB+4jBpV0CWX5oDxGOHw/+cZ2+b39+c1RTp9yDfgkr9R26sYpb7i51Tp6R3dwiAgRG2ROewMaj9ewrS76W0tlS2kkEZuJG2KSSWZnBODg48zAc8cgVy1Lo+3nlklcyBpDGW2kY/D4GOPUcH/lWafEbUrg6kyiTiORUh8qkxnZExKkjIOXByOeB7CuufcxSe34NQo4OTa3/I6dKWXmkdc70G5BxjcfGTHPpSx0pot3dWuoWzMo8SQZLBQDKsil2OwZywHtjgVonT92i2EV1LtXNukkrhQM+XcThR9ycD3NQOhdbspzOLRXRt/iSLJnLFs+YZYjBx2GMe1Zq1HNydjfT0VSgomP6fpLT35iXaPFmuY0yeAyoxGcDgeZff1raentct1ddNV8zwRKrAKdvkVQcMRg44/9A4Qj0zc2dz8wXgBje9uFXxPOVMQ2kIRzyOR6UsWOtXcd34gkzMred9i7nAIyrNtyQcYwfYewpcIZXHOVi90nqtptUZ3jcLdbYWTxSVRH2KrKuO/0n/U/vw7fEqwiXS5eAWhjGwnuoLJn98Uv2ujR2+qzSywMlrECVcq2wbFtimG9SGzgDJJBHODVVfTxS3pu2nRoTIGIcZfbkfh+ERk8eX+nHc9xTVTz22/9J6lVU3drV/0SOl7lLSw1C6jjHixXUsUTDGYw4iB75BA2q2D32getNPTtqmoaYnlWF2kRpGVF/EaKRWLELgZfbn7bvXFXklvBeWUqwFVSdH86p2YjBYrxlgffB4r70hNF8skcTFhEAhYrtyQO+Oe/fvSbNJ6bMdlG6V99vUxTpvRPmLqOEvt+YFymcZ2EROAe/PJzjjtTJ8XNJk+agbJ8MxLEPN7E7uP9S/nx7Ve9E9LRGWG9gu1mjjkuO0ZXJfK48x9PfHPGOKZ+sdKt5YvGuA5WBWfEZwT2J/P6RXajyaSOx0V2U2ldDkSW91LKwljWAumActFEyHzZ5zkHP2+/FZ09ozJrMnmB8Mu55PO5Vz/+UfsftTv09rKXcAnQMqkkYbuCDz24x96zQ9SXi62dqoIWl2nEa7WhyoMhlxk+UBt27GVC+mK7GpKGUX4sYlTjPGS83GzreybzS8bSsaD3yGc/8CKj9JWZVjKxVVhklVyxwBlUHc+nerrrbabbl0XMiAF3CgkngZYgZpJ+IFvcwafKu3CS3ZMmAGBjI8uTzty4X2Oce9UKt/oWvrsQS6b/AHalZ23v6kb4u6tJ81HFtjaJArpkHO/uTkEZGCvHambqC/km0CSaTAkaHz7eBkMA2B7HB/elXU9Du7rT7B/AMkgjmBKqqnb5RFnt/KBg/r61o0Ws2zXT6aEO5Y95GweHtOOP+8PTHfnNTX0Vj0uWYGLAfOfLnOBOYz74D7T+taponTZurTSpwUAhjUsGGS43RkAforDn3/OlG2iB1McDP8Xl5x6CQHH5fanfrjqP5d47aCQwsm1m2oCu30Uf8cYA+4pzym1GIuU4wjlIUeuunm/igBK/7RIjevZ3CAHj0I/anbV9Tkt2toBuPhImdrYEhAAKnI7ff7156hvLN7RdVZWJRV8LOeHEnlDKp5w/fntmougXranFBPhDJDJtnwCoJDRtlQ2SQUz+uRWac4qSU1tcx1EZypt03roL990TevdTSrEDHJfRSqd6/R+KxbGc4G8DHfOcA1sdAFFTlSCiiigAooooAKKKKACoGr6XFcx+FKCVyDgEjkduRU+igBT660qE2E0mwF4LWZYmJOUDJhh39Qo7+1Zd0FpkUl9bxuoKSWspkBJ82fFU/lxjtjtW36zYi4t5YCcCWNk3AZxuBGcfbNKGh/DoW8scnzBbZbPCR4eMlix3A7jgeY+XnsPNQAw9PavDOHjiAURHYoyDuQcKy4J8h7A/aqmIfJvNd3A2RKsnm4JO6YlQAOcnI/eqfoy3W1W9uuW8ESjaBjcFOcZ/0f8Ae+1UI6jkvdPuoZi7EXEDBmwMK86Dw8KB9P8AV67vTFUNYtqO2hKl3FGct1crtL16OLUzqLXLGN3cmMBvFKtnCMv0YTI7MR5BtyeKeOr9GlvJrW4tlEkRjQ7wwHBngcHkg/QGP6Y9hWSWNjvuhD/9Rlx+Wf8Ayp51fq17fTLC2gnMM7W8UrPsyPDKsAM4bkkZwFPC84B55UWNmh0ddBh+KvUslskcESIwmV/E3gkbBgFcAjvuPPoBx3yM/wClOq/k5wYIEVHZRLuLOxXOOGONoGeOO/cnjDR1bN8/ax38QJiS2nWQtgFZN0YA25PfDHjIwPypN6W0SWeSSFEy5hjcDIGVM0DZyTj6TnHf078Vqmo4BK9x26mtLl9ciTOY3KBVO3HhbfxV55w22XI7n9qqNKjgTVp2mVfCSW9L5GQERVbt/lznH3FO1tqSzasVe2w0IIjm3NxwwyR9JDb2A9ef2tNUvI5ZXsnGBLEyMyjzAuvocY+n198VlKW1uPoYdSC1vzb5iRedYfPWV3E7JvEqMgRWGYvFQDdu/mBIzj3FKN1bbZ3iH8shT9mIpv8Ah/pVunjNc4UNKsKCXgOz+G4AyOTuQYx96p72AeLK2PN/ENufsWkOP3Aqvp5JXiiPrIXakOGhq8emypGxXFyyAjuB4gHf9/3qBpnzE0c6RyMC8TrwcYPByCOzYzz35ps07VrVprmygAEkeWYArh2fJbbhskqxAbIGCQKopL5tNtZJJY1Mj+EscTSKviYRQ3PONvJ/T70mFZOElbVs7U6eSrQabslr40+4u9CX89tpt7eZZx+GsalvpfJBIByBxIjHjnH2rpfdQT3OmQOXdWRnDtnBk2BME7QBzvzjtkU7abZWY011t2WK3ljfL79yrldjEsx/lxjv3FQtQsI/4M8du4uAEOx48Nuy+Tjbn8uPalQmu4nbkrqxbptehnUt/P8AI3I8VysqqpBJwMSxA49ACGKkexNKZjcP8tvO3xNu3J253Yzt7d62jROmVuLK4t5leINdMQQuGwrowxuHY7cVls9oPnHfPI1Ax49P8Rj/AMq5WkpTdg6eLjTSZaahNcfwmyAdvCSSZD2Iyrkp3/pVWx7CtZl0ZrrTUtrpnDlI/EZcbyyFW9QRkleePU1Q9V6FBaaWYysk4SVpFUMFYmQsDyFPCq5PA/l59a9dUa1LPp1vJHuheeRVdQ3K+VyVyMEcgexx3HOK5FZJRNzlgnIkdA9UCY/KCJlWGIBGLZJVML58AAMeDxx3rN9Ktrr+JpGzTeIsySMMtnOUdsj8nyfsfavVrq9znekzAxjfkHGcY+rH19/5s8ZrRp+njHfz6isyZCO/hbfMuYUQZOfeMnt606tDtPTkn6aq6sdeCi616ijsdRjjjsIXyyzMxX8R3clcxkcbuMZOcn2712+KemgSLLu5dXOMdtiD7+tZW+qXK5zPJlwHY7zk7lBznuCQRkjv2rTeiHjfTZPnVMot53iTJJIDJGdoOR/URz2GPak0ZuM0xteClTd9Dtd3cMqXOjqPEZI5HiIJBaYF5NmMY8pI53YODTP8O9GNrZKjRlJGdy4J5+tgvqR9IWomi9PqdRfUFVfCkj3RnJ3BmC5JX9X/AH/KnOsVN/79xsLY6bcH2iiismgooooAKKKKACiiigAooooAKKKKAOM0SspVgGVgQQRkEHuCKVugOnHtEn8VUDvLkFTk7dqcE4/qDHFN9FdvwFjCOnx/7Qtf/uN1/wAIKu/jJovnW53D8RQu3Hbwo55Dzn+bIHbjHrWlR6LbKwdYIgwdnDBFyHbhmBx9Tep9cVz13QILtVSdSwXdjDFfqRkP0kfysf7V2csjkVYVf4OY9CmRAXMsPihVXnzKpwAM5Ix+tKWgWc8RupDHIgGlqAzKV5KRepHfyt9+D7Vs9rAsaLGowqKFUewAwK+yxBgVYAgjBB5BH3FdhPEzOOSPz+0TB3iDsBEZCvPYoGOQOwPl7itjv44oZheTyRRxiNVLSEL5iTg5PHqB+lI2lhF1MtJt2C5vi5YcbRGCc/YZP714+L2ttJHbrHse1kRZM4+stu2YIIYYCk8Y781T1NR3VvH9kfS0U07+f6Ln4r2EkwsmjlKqZdnlJwS4BVvL/TtPP+birGToaPLM0zDNwJzkDAxnIyfzPm/tSrZ9YzjS4lJKSF2RZI1UbUj8Mjy8DkOF4xwM/n2666wguLNLVvEjkmVXY43Km1yMPjBIYqfpBxwcehXFVME1sUS7cpuL3RddL9L+Fq15d7W8JvNE+5SrmTzSdueG49P1ql+IOo2+oQO0TMDaTCNgyYyZGC5Bz28jD3/L1gdKa8iWFxp8MkhnKSPG6qQvIG5Y/wCcEDLZIHO48esH4cGZ9QRWZ5IwzLIrZZT5JCCwPGQyDBPrisxhjd+Bjd9CV1LqkFvptvpbB28WNJ2dMfh7nMijafrORgjK8c5zxU74RdRQRP8Aw9RITK7SLI2BlggyuwE7RtTOdxyc9uKhfFvTGWeWbwyIxHbqjY8ucy5UHtkBRwO2R71C+GGmSG8gkEbHw7hxI2Po/AfG728xx+dKbvqbGif4ggakCLlPkVyjLsO7dgjcPLuPmx5gdu3PrUN+gbn5nd4kHmv/AJgKXOTEGLEgbeTyBj+9Kc3Ssnzxs/Jv4j7nbvaBnHOM4yp5xTt1Bc3K6rEFHKbRF5Mnbt8wBxzuw4z+eMYNP7SbsnwInVwV2ubEX4z2zGWKTzYjjG3Hbcz88+/A/auHw30bxLaVn3BVKTpjsXCzoe45GMZxzwKaOrJjeKIYFDvFcwvwy8qreZuSMBSatOhdLkh02G3mUo4Vwy5BI3Mx7gkdjXLuEbPc7eNTVaozrovSUnnSJy22a2ctjGRiRl44/wAg757mvfTt7cS6zKrgDxt6TYTB8PbhR9toKc+uBnNPnT3Ry2sscolLmOFo8FQM5dnz34+rGKkWHTHhahNfeLnxVK+HtxtyIR9Wef8AC9h9X251VrKcn4sL6ei6cUmtTGet9FSC4uolZiLaG3Ck4y3kiTzYA9DnjFP+r6f8qCInbZK3jOpxgtJxjGMFQEGAc1L6p+HjXU11KtwE+YSJQDHnaUK5P1DOQv25NXvVFnmKIBdxEsYPGTt5HP2rPTyUaibDrIOdGSRy6IndkcOxYAqVz6Ag8D7cdqZ6yzXNUu7WLTxBGcsdzY3AyMOFjbHcEMeD67fbl30LqaG6lnijyDC2MkriQdtyYJyueM/lXK+s20a6VNUop+C9ooopJQFFFFABRRRQAUUUUAFFFFABRRRQAUUUUAFFFFABRRRQAu9d2hk065CtsIjL5HBwhDkZH9QXH60gXvTs0mj2QRGnczhzgZZYykvBJ52hj2+9bDRXctLHLa3EDUOmi2l20awfirGm5QADkxjdnkc7lXOfakf4jaSYpGbwyoC2wBxxlknLgHtncua3akP4xr/sMR9rmP8A8Lj/AJ0ynUekTDgruXIjfDKzb5u1lCHCy3Cu2D5cQLgMfTknv7mmjpC0eyS9uA0UvkQIsbk875TzwMDzrz+ftUbpTUWhtr5kUMz38qYbJGNoJzgg9s1M6dvwknhLGNkhCtuO4gnIXBwAACexBP3qntOaciKr1UadSNPzv6eBY1vVZLjSZEcO3hzxMHdy7HeXGCcDscAfninL4TxkfxDIIPzrjn7f/wBq86K0N7SAxyBN5bOU542qO5A9QT+v3pkqWq4ubx2LaKkoJS3FeXpBDf8Az3itu8RH2YGPLE0eM9+d2f0qdeaGsl3FdFyDGMbccHiQd/8AX/arnNFYzZpxTF3QdJ8K5nfaQpACk+vLZ/4L+9MOK+mvtdnNyd2Zp0o044xCiiisjApZ+Ihl/h1x4Pcphs4+jPnHPuuR788c0zVwurdZEaNwGRgQwPqD3FCdncGZlpupR/K6fBeBSwBYPvC+Cv8A8ElV+rjAx7DJ71TfD2GGwvJnmlA2P8qvAG4tIy55bhR4W49+49qYOtdCiS5twAwjKEEKM7VUIoAz7D3rxrVxHPayTSL5raZZx+GPMN3+GcMO5PLd8H1qqVJSgprbn+SRV8ajpy+X8GoUVUdL6t83aRXGNpdeR7MCQ2OTxkHH2xVvUjVisKKKK6AUUUUAFFFFABRRRQAUUUUAFFFFABRRRQAUUUUAFFFFABXKWFWGGUMMg4IzyOR39q60UAUXUenK0JK4XZ4jkAfUTG4Pb1yc5+1LHSenb5Pqxt8KXt984/60+XcO+N0zjcpXPtkYqq0HRDbuzF92URe2PpHJ71VSrY0pRvrwefX6XOvCdtOS9oooqU9AKKKKACiiigAooooAKKKKAOU0YZSpGQRgj3zWUa41zbSQ23gtsuXdZAmC0iNGqso4IBGWcfdR6VrdLfW2mSSwK9uB8xE6mJjnK5ZQxGD/AE57+ma3CbScfIqdKMpKT3Vzv0TOHsYNqMoVdgDd8L5c/rjNX1cLa3WNQiKFUdgOwrtWG022hkU0kmfaKKKDoUUUUAFFFFABRRRQAUUUUAFFFFABRRRQAUUUUAFFFFABRRRQAUUUUAFFFFABRRRQAUUUUAFFFFABRRRQAUUUUAFFFFABRRRQAUUUUAf/2Q==\" width=\"400\" />\n",
        "</a>\n",
        "\n",
        "Output: predict if the income is greater or lower than 50K"
      ],
      "metadata": {
        "id": "evJs_zoBsVli"
      },
      "id": "evJs_zoBsVli"
    },
    {
      "cell_type": "code",
      "source": [
        "'''\n",
        "\n",
        "* Dúvidas:\n",
        "\n",
        "- vale fazer one-hot encoding para categorias que bastante concentração de algum income? RESP.: mais comum one-hot encoding, ordinal encoding...label encoding, binary encoding é mais difícil; target encoding tomar cuidado com overfitting (para isso dá para fazer cross-validation); frequency encoding é difícil de usar também\n",
        "- ideias de feature engineering? o que extrair do EDA? RESP.: por exemplo tem SHAP para entender importância das variáveis...também existem métodos de escolha de variáveis (forward, backward e Exhaustive Feature Selection)\n",
        "- como tratar imbalanced data? RESP.: oversampling, undersampling, class weighting; mas os modelos ensemble costumam já tratar isso\n",
        "\n",
        "- tratamento de erro para quando não tiver coluna para dropar, ignorar\n",
        "\n",
        "\n",
        "* Sugestões Feature Engineering:\n",
        "\n",
        "Renda de Capital Total: Combinar capital-gain e capital-loss em uma única variável subtraindo a perda de capital do ganho de capital.\n",
        "Educação por Idade: Divisão de education-num pela idade para saber o quão \"educada\" uma pessoa é para sua idade.\n",
        "Índices Socio-Econômicos (PIB per Capita, IDH): Trazer uma variável numérica pode ser melhor para ver a distância de desenvolvimento dos países. Mas também pode ser criada uma variável categórica (1º Mundo, 2º Mundo, 3º Mundo)\n",
        "workclass / occupation: is there a trustable resource to bring average wage, for example?\n",
        "\n",
        "'''"
      ],
      "metadata": {
        "id": "Fn7y8bdmH_hi"
      },
      "id": "Fn7y8bdmH_hi",
      "execution_count": null,
      "outputs": []
    },
    {
      "cell_type": "code",
      "source": [
        "#!pip uninstall shap\n",
        "!pip install shap\n",
        "\n",
        "#pip cache purge (pra apagar cache de todos os seus pacotes)\n",
        "#!pip cache remove shap #(apaga só do shap)"
      ],
      "metadata": {
        "id": "Q4Tz7wZ6OsMW"
      },
      "id": "Q4Tz7wZ6OsMW",
      "execution_count": null,
      "outputs": []
    },
    {
      "cell_type": "code",
      "source": [
        "!pip install requests beautifulsoup4"
      ],
      "metadata": {
        "colab": {
          "base_uri": "https://localhost:8080/"
        },
        "id": "hku4h8ImjUHh",
        "outputId": "ea103219-2b9a-4923-e247-b28575da547e"
      },
      "id": "hku4h8ImjUHh",
      "execution_count": null,
      "outputs": [
        {
          "output_type": "stream",
          "name": "stdout",
          "text": [
            "Requirement already satisfied: requests in /usr/local/lib/python3.10/dist-packages (2.27.1)\n",
            "Requirement already satisfied: beautifulsoup4 in /usr/local/lib/python3.10/dist-packages (4.11.2)\n",
            "Requirement already satisfied: urllib3<1.27,>=1.21.1 in /usr/local/lib/python3.10/dist-packages (from requests) (1.26.16)\n",
            "Requirement already satisfied: certifi>=2017.4.17 in /usr/local/lib/python3.10/dist-packages (from requests) (2023.5.7)\n",
            "Requirement already satisfied: charset-normalizer~=2.0.0 in /usr/local/lib/python3.10/dist-packages (from requests) (2.0.12)\n",
            "Requirement already satisfied: idna<4,>=2.5 in /usr/local/lib/python3.10/dist-packages (from requests) (3.4)\n",
            "Requirement already satisfied: soupsieve>1.2 in /usr/local/lib/python3.10/dist-packages (from beautifulsoup4) (2.4.1)\n"
          ]
        }
      ]
    },
    {
      "cell_type": "code",
      "execution_count": null,
      "id": "3010a20a",
      "metadata": {
        "id": "3010a20a",
        "colab": {
          "base_uri": "https://localhost:8080/"
        },
        "outputId": "fe259d23-f541-48f7-9609-77835ee74170"
      },
      "outputs": [
        {
          "output_type": "stream",
          "name": "stdout",
          "text": [
            "Mounted at /content/drive\n"
          ]
        }
      ],
      "source": [
        "import pandas as pd\n",
        "import numpy as np\n",
        "import matplotlib.pyplot as plt\n",
        "import seaborn as sns\n",
        "#import shap\n",
        "\n",
        "import requests\n",
        "from bs4 import BeautifulSoup\n",
        "\n",
        "from google.colab import drive\n",
        "drive.mount('/content/drive')\n",
        "\n",
        "from sklearn.linear_model import LogisticRegression\n",
        "from sklearn.tree import DecisionTreeClassifier\n",
        "from sklearn.ensemble import RandomForestClassifier\n",
        "from sklearn.svm import SVC\n",
        "from sklearn.naive_bayes import GaussianNB\n",
        "from sklearn.neighbors import KNeighborsClassifier\n",
        "import xgboost as xgb\n",
        "\n",
        "from sklearn.preprocessing import LabelEncoder\n",
        "\n",
        "from sklearn.metrics import accuracy_score"
      ]
    },
    {
      "cell_type": "code",
      "source": [
        "filename = '/content/drive/MyDrive/Data_Science/adult-all.csv'\n",
        "columns = [\n",
        "    \"age\",\n",
        "    \"workclass\",\n",
        "    \"fnlwgt\",\n",
        "    \"education\",\n",
        "    \"education.num\",\n",
        "    \"marital.status\",\n",
        "    \"occupation\",\n",
        "    \"relationship\",\n",
        "    \"race\",\n",
        "    \"sex\",\n",
        "    \"capital.gain\",\n",
        "    \"capital.loss\",\n",
        "    \"hours.per.week\",\n",
        "    \"native.country\",\n",
        "    \"income\"\n",
        "]\n",
        "\n",
        "df = pd.read_csv(filename, header=None, names=columns)\n",
        "df.head(2)"
      ],
      "metadata": {
        "colab": {
          "base_uri": "https://localhost:8080/",
          "height": 112
        },
        "id": "TbA3mBFQCaH8",
        "outputId": "1cc8ab5d-0afa-4fcb-950b-822682f48c0f"
      },
      "id": "TbA3mBFQCaH8",
      "execution_count": null,
      "outputs": [
        {
          "output_type": "execute_result",
          "data": {
            "text/plain": [
              "   age         workclass  fnlwgt  education  education.num  \\\n",
              "0   39         State-gov   77516  Bachelors             13   \n",
              "1   50  Self-emp-not-inc   83311  Bachelors             13   \n",
              "\n",
              "       marital.status       occupation   relationship   race   sex  \\\n",
              "0       Never-married     Adm-clerical  Not-in-family  White  Male   \n",
              "1  Married-civ-spouse  Exec-managerial        Husband  White  Male   \n",
              "\n",
              "   capital.gain  capital.loss  hours.per.week native.country income  \n",
              "0          2174             0              40  United-States  <=50K  \n",
              "1             0             0              13  United-States  <=50K  "
            ],
            "text/html": [
              "\n",
              "  <div id=\"df-d32fa0e3-7ea0-48c1-9898-9405d64c4f97\">\n",
              "    <div class=\"colab-df-container\">\n",
              "      <div>\n",
              "<style scoped>\n",
              "    .dataframe tbody tr th:only-of-type {\n",
              "        vertical-align: middle;\n",
              "    }\n",
              "\n",
              "    .dataframe tbody tr th {\n",
              "        vertical-align: top;\n",
              "    }\n",
              "\n",
              "    .dataframe thead th {\n",
              "        text-align: right;\n",
              "    }\n",
              "</style>\n",
              "<table border=\"1\" class=\"dataframe\">\n",
              "  <thead>\n",
              "    <tr style=\"text-align: right;\">\n",
              "      <th></th>\n",
              "      <th>age</th>\n",
              "      <th>workclass</th>\n",
              "      <th>fnlwgt</th>\n",
              "      <th>education</th>\n",
              "      <th>education.num</th>\n",
              "      <th>marital.status</th>\n",
              "      <th>occupation</th>\n",
              "      <th>relationship</th>\n",
              "      <th>race</th>\n",
              "      <th>sex</th>\n",
              "      <th>capital.gain</th>\n",
              "      <th>capital.loss</th>\n",
              "      <th>hours.per.week</th>\n",
              "      <th>native.country</th>\n",
              "      <th>income</th>\n",
              "    </tr>\n",
              "  </thead>\n",
              "  <tbody>\n",
              "    <tr>\n",
              "      <th>0</th>\n",
              "      <td>39</td>\n",
              "      <td>State-gov</td>\n",
              "      <td>77516</td>\n",
              "      <td>Bachelors</td>\n",
              "      <td>13</td>\n",
              "      <td>Never-married</td>\n",
              "      <td>Adm-clerical</td>\n",
              "      <td>Not-in-family</td>\n",
              "      <td>White</td>\n",
              "      <td>Male</td>\n",
              "      <td>2174</td>\n",
              "      <td>0</td>\n",
              "      <td>40</td>\n",
              "      <td>United-States</td>\n",
              "      <td>&lt;=50K</td>\n",
              "    </tr>\n",
              "    <tr>\n",
              "      <th>1</th>\n",
              "      <td>50</td>\n",
              "      <td>Self-emp-not-inc</td>\n",
              "      <td>83311</td>\n",
              "      <td>Bachelors</td>\n",
              "      <td>13</td>\n",
              "      <td>Married-civ-spouse</td>\n",
              "      <td>Exec-managerial</td>\n",
              "      <td>Husband</td>\n",
              "      <td>White</td>\n",
              "      <td>Male</td>\n",
              "      <td>0</td>\n",
              "      <td>0</td>\n",
              "      <td>13</td>\n",
              "      <td>United-States</td>\n",
              "      <td>&lt;=50K</td>\n",
              "    </tr>\n",
              "  </tbody>\n",
              "</table>\n",
              "</div>\n",
              "      <button class=\"colab-df-convert\" onclick=\"convertToInteractive('df-d32fa0e3-7ea0-48c1-9898-9405d64c4f97')\"\n",
              "              title=\"Convert this dataframe to an interactive table.\"\n",
              "              style=\"display:none;\">\n",
              "        \n",
              "  <svg xmlns=\"http://www.w3.org/2000/svg\" height=\"24px\"viewBox=\"0 0 24 24\"\n",
              "       width=\"24px\">\n",
              "    <path d=\"M0 0h24v24H0V0z\" fill=\"none\"/>\n",
              "    <path d=\"M18.56 5.44l.94 2.06.94-2.06 2.06-.94-2.06-.94-.94-2.06-.94 2.06-2.06.94zm-11 1L8.5 8.5l.94-2.06 2.06-.94-2.06-.94L8.5 2.5l-.94 2.06-2.06.94zm10 10l.94 2.06.94-2.06 2.06-.94-2.06-.94-.94-2.06-.94 2.06-2.06.94z\"/><path d=\"M17.41 7.96l-1.37-1.37c-.4-.4-.92-.59-1.43-.59-.52 0-1.04.2-1.43.59L10.3 9.45l-7.72 7.72c-.78.78-.78 2.05 0 2.83L4 21.41c.39.39.9.59 1.41.59.51 0 1.02-.2 1.41-.59l7.78-7.78 2.81-2.81c.8-.78.8-2.07 0-2.86zM5.41 20L4 18.59l7.72-7.72 1.47 1.35L5.41 20z\"/>\n",
              "  </svg>\n",
              "      </button>\n",
              "      \n",
              "  <style>\n",
              "    .colab-df-container {\n",
              "      display:flex;\n",
              "      flex-wrap:wrap;\n",
              "      gap: 12px;\n",
              "    }\n",
              "\n",
              "    .colab-df-convert {\n",
              "      background-color: #E8F0FE;\n",
              "      border: none;\n",
              "      border-radius: 50%;\n",
              "      cursor: pointer;\n",
              "      display: none;\n",
              "      fill: #1967D2;\n",
              "      height: 32px;\n",
              "      padding: 0 0 0 0;\n",
              "      width: 32px;\n",
              "    }\n",
              "\n",
              "    .colab-df-convert:hover {\n",
              "      background-color: #E2EBFA;\n",
              "      box-shadow: 0px 1px 2px rgba(60, 64, 67, 0.3), 0px 1px 3px 1px rgba(60, 64, 67, 0.15);\n",
              "      fill: #174EA6;\n",
              "    }\n",
              "\n",
              "    [theme=dark] .colab-df-convert {\n",
              "      background-color: #3B4455;\n",
              "      fill: #D2E3FC;\n",
              "    }\n",
              "\n",
              "    [theme=dark] .colab-df-convert:hover {\n",
              "      background-color: #434B5C;\n",
              "      box-shadow: 0px 1px 3px 1px rgba(0, 0, 0, 0.15);\n",
              "      filter: drop-shadow(0px 1px 2px rgba(0, 0, 0, 0.3));\n",
              "      fill: #FFFFFF;\n",
              "    }\n",
              "  </style>\n",
              "\n",
              "      <script>\n",
              "        const buttonEl =\n",
              "          document.querySelector('#df-d32fa0e3-7ea0-48c1-9898-9405d64c4f97 button.colab-df-convert');\n",
              "        buttonEl.style.display =\n",
              "          google.colab.kernel.accessAllowed ? 'block' : 'none';\n",
              "\n",
              "        async function convertToInteractive(key) {\n",
              "          const element = document.querySelector('#df-d32fa0e3-7ea0-48c1-9898-9405d64c4f97');\n",
              "          const dataTable =\n",
              "            await google.colab.kernel.invokeFunction('convertToInteractive',\n",
              "                                                     [key], {});\n",
              "          if (!dataTable) return;\n",
              "\n",
              "          const docLinkHtml = 'Like what you see? Visit the ' +\n",
              "            '<a target=\"_blank\" href=https://colab.research.google.com/notebooks/data_table.ipynb>data table notebook</a>'\n",
              "            + ' to learn more about interactive tables.';\n",
              "          element.innerHTML = '';\n",
              "          dataTable['output_type'] = 'display_data';\n",
              "          await google.colab.output.renderOutput(dataTable, element);\n",
              "          const docLink = document.createElement('div');\n",
              "          docLink.innerHTML = docLinkHtml;\n",
              "          element.appendChild(docLink);\n",
              "        }\n",
              "      </script>\n",
              "    </div>\n",
              "  </div>\n",
              "  "
            ]
          },
          "metadata": {},
          "execution_count": 7
        }
      ]
    },
    {
      "cell_type": "code",
      "source": [
        "# Checking if it's an imbalanced data\n",
        "count = df['income'].value_counts()\n",
        "proportion = df['income'].value_counts(normalize=True)\n",
        "\n",
        "result = pd.DataFrame({'Count': count, 'Proportion': proportion})\n",
        "\n",
        "print(result)"
      ],
      "metadata": {
        "colab": {
          "base_uri": "https://localhost:8080/"
        },
        "id": "p07cwVGqKpUY",
        "outputId": "47f8eff1-ab74-4b06-824b-a211eed08d7b"
      },
      "id": "p07cwVGqKpUY",
      "execution_count": null,
      "outputs": [
        {
          "output_type": "stream",
          "name": "stdout",
          "text": [
            "       Count  Proportion\n",
            "<=50K  37155    0.760718\n",
            ">50K   11687    0.239282\n"
          ]
        }
      ]
    },
    {
      "cell_type": "markdown",
      "source": [
        "# **Data Cleaning**"
      ],
      "metadata": {
        "id": "0_QmaOtgIeqi"
      },
      "id": "0_QmaOtgIeqi"
    },
    {
      "cell_type": "code",
      "source": [
        "df.info()"
      ],
      "metadata": {
        "colab": {
          "base_uri": "https://localhost:8080/"
        },
        "id": "Rzui882KIYlU",
        "outputId": "c664edd6-4961-4ef3-c9ed-83f03f9fbb90"
      },
      "id": "Rzui882KIYlU",
      "execution_count": null,
      "outputs": [
        {
          "output_type": "stream",
          "name": "stdout",
          "text": [
            "<class 'pandas.core.frame.DataFrame'>\n",
            "RangeIndex: 48842 entries, 0 to 48841\n",
            "Data columns (total 15 columns):\n",
            " #   Column          Non-Null Count  Dtype \n",
            "---  ------          --------------  ----- \n",
            " 0   age             48842 non-null  int64 \n",
            " 1   workclass       48842 non-null  object\n",
            " 2   fnlwgt          48842 non-null  int64 \n",
            " 3   education       48842 non-null  object\n",
            " 4   education.num   48842 non-null  int64 \n",
            " 5   marital.status  48842 non-null  object\n",
            " 6   occupation      48842 non-null  object\n",
            " 7   relationship    48842 non-null  object\n",
            " 8   race            48842 non-null  object\n",
            " 9   sex             48842 non-null  object\n",
            " 10  capital.gain    48842 non-null  int64 \n",
            " 11  capital.loss    48842 non-null  int64 \n",
            " 12  hours.per.week  48842 non-null  int64 \n",
            " 13  native.country  48842 non-null  object\n",
            " 14  income          48842 non-null  object\n",
            "dtypes: int64(6), object(9)\n",
            "memory usage: 5.6+ MB\n"
          ]
        }
      ]
    },
    {
      "cell_type": "code",
      "source": [
        "df = df.drop('fnlwgt', axis=1)\n",
        "#df = df.drop('education', axis=1)\n",
        "df.head(2)"
      ],
      "metadata": {
        "colab": {
          "base_uri": "https://localhost:8080/",
          "height": 112
        },
        "id": "CvYQbiJYJDjp",
        "outputId": "fb9e9de6-d7a8-4d54-c7a5-0c01f04e9bed"
      },
      "id": "CvYQbiJYJDjp",
      "execution_count": null,
      "outputs": [
        {
          "output_type": "execute_result",
          "data": {
            "text/plain": [
              "   age         workclass  education  education.num      marital.status  \\\n",
              "0   39         State-gov  Bachelors             13       Never-married   \n",
              "1   50  Self-emp-not-inc  Bachelors             13  Married-civ-spouse   \n",
              "\n",
              "        occupation   relationship   race   sex  capital.gain  capital.loss  \\\n",
              "0     Adm-clerical  Not-in-family  White  Male          2174             0   \n",
              "1  Exec-managerial        Husband  White  Male             0             0   \n",
              "\n",
              "   hours.per.week native.country income  \n",
              "0              40  United-States  <=50K  \n",
              "1              13  United-States  <=50K  "
            ],
            "text/html": [
              "\n",
              "  <div id=\"df-df224edd-c5a3-48a2-b878-82f2213db4e1\">\n",
              "    <div class=\"colab-df-container\">\n",
              "      <div>\n",
              "<style scoped>\n",
              "    .dataframe tbody tr th:only-of-type {\n",
              "        vertical-align: middle;\n",
              "    }\n",
              "\n",
              "    .dataframe tbody tr th {\n",
              "        vertical-align: top;\n",
              "    }\n",
              "\n",
              "    .dataframe thead th {\n",
              "        text-align: right;\n",
              "    }\n",
              "</style>\n",
              "<table border=\"1\" class=\"dataframe\">\n",
              "  <thead>\n",
              "    <tr style=\"text-align: right;\">\n",
              "      <th></th>\n",
              "      <th>age</th>\n",
              "      <th>workclass</th>\n",
              "      <th>education</th>\n",
              "      <th>education.num</th>\n",
              "      <th>marital.status</th>\n",
              "      <th>occupation</th>\n",
              "      <th>relationship</th>\n",
              "      <th>race</th>\n",
              "      <th>sex</th>\n",
              "      <th>capital.gain</th>\n",
              "      <th>capital.loss</th>\n",
              "      <th>hours.per.week</th>\n",
              "      <th>native.country</th>\n",
              "      <th>income</th>\n",
              "    </tr>\n",
              "  </thead>\n",
              "  <tbody>\n",
              "    <tr>\n",
              "      <th>0</th>\n",
              "      <td>39</td>\n",
              "      <td>State-gov</td>\n",
              "      <td>Bachelors</td>\n",
              "      <td>13</td>\n",
              "      <td>Never-married</td>\n",
              "      <td>Adm-clerical</td>\n",
              "      <td>Not-in-family</td>\n",
              "      <td>White</td>\n",
              "      <td>Male</td>\n",
              "      <td>2174</td>\n",
              "      <td>0</td>\n",
              "      <td>40</td>\n",
              "      <td>United-States</td>\n",
              "      <td>&lt;=50K</td>\n",
              "    </tr>\n",
              "    <tr>\n",
              "      <th>1</th>\n",
              "      <td>50</td>\n",
              "      <td>Self-emp-not-inc</td>\n",
              "      <td>Bachelors</td>\n",
              "      <td>13</td>\n",
              "      <td>Married-civ-spouse</td>\n",
              "      <td>Exec-managerial</td>\n",
              "      <td>Husband</td>\n",
              "      <td>White</td>\n",
              "      <td>Male</td>\n",
              "      <td>0</td>\n",
              "      <td>0</td>\n",
              "      <td>13</td>\n",
              "      <td>United-States</td>\n",
              "      <td>&lt;=50K</td>\n",
              "    </tr>\n",
              "  </tbody>\n",
              "</table>\n",
              "</div>\n",
              "      <button class=\"colab-df-convert\" onclick=\"convertToInteractive('df-df224edd-c5a3-48a2-b878-82f2213db4e1')\"\n",
              "              title=\"Convert this dataframe to an interactive table.\"\n",
              "              style=\"display:none;\">\n",
              "        \n",
              "  <svg xmlns=\"http://www.w3.org/2000/svg\" height=\"24px\"viewBox=\"0 0 24 24\"\n",
              "       width=\"24px\">\n",
              "    <path d=\"M0 0h24v24H0V0z\" fill=\"none\"/>\n",
              "    <path d=\"M18.56 5.44l.94 2.06.94-2.06 2.06-.94-2.06-.94-.94-2.06-.94 2.06-2.06.94zm-11 1L8.5 8.5l.94-2.06 2.06-.94-2.06-.94L8.5 2.5l-.94 2.06-2.06.94zm10 10l.94 2.06.94-2.06 2.06-.94-2.06-.94-.94-2.06-.94 2.06-2.06.94z\"/><path d=\"M17.41 7.96l-1.37-1.37c-.4-.4-.92-.59-1.43-.59-.52 0-1.04.2-1.43.59L10.3 9.45l-7.72 7.72c-.78.78-.78 2.05 0 2.83L4 21.41c.39.39.9.59 1.41.59.51 0 1.02-.2 1.41-.59l7.78-7.78 2.81-2.81c.8-.78.8-2.07 0-2.86zM5.41 20L4 18.59l7.72-7.72 1.47 1.35L5.41 20z\"/>\n",
              "  </svg>\n",
              "      </button>\n",
              "      \n",
              "  <style>\n",
              "    .colab-df-container {\n",
              "      display:flex;\n",
              "      flex-wrap:wrap;\n",
              "      gap: 12px;\n",
              "    }\n",
              "\n",
              "    .colab-df-convert {\n",
              "      background-color: #E8F0FE;\n",
              "      border: none;\n",
              "      border-radius: 50%;\n",
              "      cursor: pointer;\n",
              "      display: none;\n",
              "      fill: #1967D2;\n",
              "      height: 32px;\n",
              "      padding: 0 0 0 0;\n",
              "      width: 32px;\n",
              "    }\n",
              "\n",
              "    .colab-df-convert:hover {\n",
              "      background-color: #E2EBFA;\n",
              "      box-shadow: 0px 1px 2px rgba(60, 64, 67, 0.3), 0px 1px 3px 1px rgba(60, 64, 67, 0.15);\n",
              "      fill: #174EA6;\n",
              "    }\n",
              "\n",
              "    [theme=dark] .colab-df-convert {\n",
              "      background-color: #3B4455;\n",
              "      fill: #D2E3FC;\n",
              "    }\n",
              "\n",
              "    [theme=dark] .colab-df-convert:hover {\n",
              "      background-color: #434B5C;\n",
              "      box-shadow: 0px 1px 3px 1px rgba(0, 0, 0, 0.15);\n",
              "      filter: drop-shadow(0px 1px 2px rgba(0, 0, 0, 0.3));\n",
              "      fill: #FFFFFF;\n",
              "    }\n",
              "  </style>\n",
              "\n",
              "      <script>\n",
              "        const buttonEl =\n",
              "          document.querySelector('#df-df224edd-c5a3-48a2-b878-82f2213db4e1 button.colab-df-convert');\n",
              "        buttonEl.style.display =\n",
              "          google.colab.kernel.accessAllowed ? 'block' : 'none';\n",
              "\n",
              "        async function convertToInteractive(key) {\n",
              "          const element = document.querySelector('#df-df224edd-c5a3-48a2-b878-82f2213db4e1');\n",
              "          const dataTable =\n",
              "            await google.colab.kernel.invokeFunction('convertToInteractive',\n",
              "                                                     [key], {});\n",
              "          if (!dataTable) return;\n",
              "\n",
              "          const docLinkHtml = 'Like what you see? Visit the ' +\n",
              "            '<a target=\"_blank\" href=https://colab.research.google.com/notebooks/data_table.ipynb>data table notebook</a>'\n",
              "            + ' to learn more about interactive tables.';\n",
              "          element.innerHTML = '';\n",
              "          dataTable['output_type'] = 'display_data';\n",
              "          await google.colab.output.renderOutput(dataTable, element);\n",
              "          const docLink = document.createElement('div');\n",
              "          docLink.innerHTML = docLinkHtml;\n",
              "          element.appendChild(docLink);\n",
              "        }\n",
              "      </script>\n",
              "    </div>\n",
              "  </div>\n",
              "  "
            ]
          },
          "metadata": {},
          "execution_count": 9
        }
      ]
    },
    {
      "cell_type": "code",
      "source": [
        "df = df.drop_duplicates()\n",
        "df.shape"
      ],
      "metadata": {
        "colab": {
          "base_uri": "https://localhost:8080/"
        },
        "id": "roOAlllXJcqR",
        "outputId": "def075a8-a43b-4511-f945-1a41f413fc2a"
      },
      "id": "roOAlllXJcqR",
      "execution_count": null,
      "outputs": [
        {
          "output_type": "execute_result",
          "data": {
            "text/plain": [
              "(42468, 14)"
            ]
          },
          "metadata": {},
          "execution_count": 10
        }
      ]
    },
    {
      "cell_type": "code",
      "source": [
        "df.isnull().sum()"
      ],
      "metadata": {
        "colab": {
          "base_uri": "https://localhost:8080/"
        },
        "id": "sRXB0IUbJw0f",
        "outputId": "de806dfa-a4b4-442a-8d30-31ed81927814"
      },
      "id": "sRXB0IUbJw0f",
      "execution_count": null,
      "outputs": [
        {
          "output_type": "execute_result",
          "data": {
            "text/plain": [
              "age               0\n",
              "workclass         0\n",
              "education         0\n",
              "education.num     0\n",
              "marital.status    0\n",
              "occupation        0\n",
              "relationship      0\n",
              "race              0\n",
              "sex               0\n",
              "capital.gain      0\n",
              "capital.loss      0\n",
              "hours.per.week    0\n",
              "native.country    0\n",
              "income            0\n",
              "dtype: int64"
            ]
          },
          "metadata": {},
          "execution_count": 11
        }
      ]
    },
    {
      "cell_type": "code",
      "source": [
        "df.isna().sum()"
      ],
      "metadata": {
        "colab": {
          "base_uri": "https://localhost:8080/"
        },
        "id": "c-j0yyHYKWbA",
        "outputId": "ecaf79c6-edf9-4300-b2cd-5b595256d4a3"
      },
      "id": "c-j0yyHYKWbA",
      "execution_count": null,
      "outputs": [
        {
          "output_type": "execute_result",
          "data": {
            "text/plain": [
              "age               0\n",
              "workclass         0\n",
              "education         0\n",
              "education.num     0\n",
              "marital.status    0\n",
              "occupation        0\n",
              "relationship      0\n",
              "race              0\n",
              "sex               0\n",
              "capital.gain      0\n",
              "capital.loss      0\n",
              "hours.per.week    0\n",
              "native.country    0\n",
              "income            0\n",
              "dtype: int64"
            ]
          },
          "metadata": {},
          "execution_count": 12
        }
      ]
    },
    {
      "cell_type": "markdown",
      "source": [
        "# **Splitting the dataset**"
      ],
      "metadata": {
        "id": "WGwSw4ksBLNG"
      },
      "id": "WGwSw4ksBLNG"
    },
    {
      "cell_type": "code",
      "source": [
        "split_ratio = 0.8\n",
        "train_df = df.sample(frac=split_ratio, random_state=42)\n",
        "test_df = df.drop(train_df.index)"
      ],
      "metadata": {
        "id": "yy1UXDopGXCa"
      },
      "id": "yy1UXDopGXCa",
      "execution_count": null,
      "outputs": []
    },
    {
      "cell_type": "code",
      "source": [
        "# Transform income into numeric\n",
        "train_df['income'].replace('<=50K', 0, inplace=True)\n",
        "train_df['income'].replace('>50K', 1, inplace=True)\n",
        "\n",
        "test_df['income'].replace('<=50K', 0, inplace=True)\n",
        "test_df['income'].replace('>50K', 1, inplace=True)"
      ],
      "metadata": {
        "id": "xrEATV0-o6L3"
      },
      "id": "xrEATV0-o6L3",
      "execution_count": null,
      "outputs": []
    },
    {
      "cell_type": "markdown",
      "source": [
        "# **EDA & Data Preparation**\n",
        "\n"
      ],
      "metadata": {
        "id": "KeO_8c7qY6U0"
      },
      "id": "KeO_8c7qY6U0"
    },
    {
      "cell_type": "markdown",
      "source": [
        "## Checklist"
      ],
      "metadata": {
        "id": "_tVGzuidhrAp"
      },
      "id": "_tVGzuidhrAp"
    },
    {
      "cell_type": "code",
      "source": [
        "'''\n",
        " 0   age             48842 non-null  int64  -------------------- OK (one-hot encoding)\n",
        " 1   workclass       48842 non-null  object -------------------- OK (one-hot encoding)\n",
        " 2   education       48842 non-null  object -------------------- OK (deleted)\n",
        " 3   education.num   48842 non-null  int64  -------------------- OK (ordinal encoding)\n",
        " 4   marital.status  48842 non-null  object -------------------- OK (one-hot encoding)\n",
        " 5   occupation      48842 non-null  object -------------------- OK (one-hot encoding)\n",
        " 6   relationship    48842 non-null  object -------------------- OK (one-hot encoding)\n",
        " 7   race            48842 non-null  object -------------------- OK (one-hot encoding)\n",
        " 8   sex             48842 non-null  object -------------------- OK (one-hot encoding)\n",
        " 9   capital.gain    48842 non-null  int64  --------------------\n",
        " 10  capital.loss    48842 non-null  int64  --------------------\n",
        " 11  hours.per.week  48842 non-null  int64  -------------------- OK (one-hot encoding)\n",
        " 12  native.country  48842 non-null  object -------------------- OK (one-hot encoding of continent)\n",
        " 13  income          48842 non-null  int64  -------------------- OK (income)\n",
        "'''"
      ],
      "metadata": {
        "id": "dQxuqY7ch8-8"
      },
      "id": "dQxuqY7ch8-8",
      "execution_count": null,
      "outputs": []
    },
    {
      "cell_type": "markdown",
      "source": [
        "## Intro"
      ],
      "metadata": {
        "id": "6qdhegr9hdrv"
      },
      "id": "6qdhegr9hdrv"
    },
    {
      "cell_type": "code",
      "source": [
        "df.describe()"
      ],
      "metadata": {
        "colab": {
          "base_uri": "https://localhost:8080/",
          "height": 300
        },
        "id": "nMIVXrQHYXud",
        "outputId": "881e79c6-e810-4eed-a29f-3adb5f63f025"
      },
      "id": "nMIVXrQHYXud",
      "execution_count": null,
      "outputs": [
        {
          "output_type": "execute_result",
          "data": {
            "text/plain": [
              "                age  education.num  capital.gain  capital.loss  \\\n",
              "count  48842.000000   48842.000000  48842.000000  48842.000000   \n",
              "mean      38.643585      10.078089   1079.067626     87.502314   \n",
              "std       13.710510       2.570973   7452.019058    403.004552   \n",
              "min       17.000000       1.000000      0.000000      0.000000   \n",
              "25%       28.000000       9.000000      0.000000      0.000000   \n",
              "50%       37.000000      10.000000      0.000000      0.000000   \n",
              "75%       48.000000      12.000000      0.000000      0.000000   \n",
              "max       90.000000      16.000000  99999.000000   4356.000000   \n",
              "\n",
              "       hours.per.week        income  \n",
              "count    48842.000000  48842.000000  \n",
              "mean        40.422382      0.239282  \n",
              "std         12.391444      0.426649  \n",
              "min          1.000000      0.000000  \n",
              "25%         40.000000      0.000000  \n",
              "50%         40.000000      0.000000  \n",
              "75%         45.000000      0.000000  \n",
              "max         99.000000      1.000000  "
            ],
            "text/html": [
              "\n",
              "  <div id=\"df-12a00ca3-5e75-4f93-95a2-b54f1d4ef15d\">\n",
              "    <div class=\"colab-df-container\">\n",
              "      <div>\n",
              "<style scoped>\n",
              "    .dataframe tbody tr th:only-of-type {\n",
              "        vertical-align: middle;\n",
              "    }\n",
              "\n",
              "    .dataframe tbody tr th {\n",
              "        vertical-align: top;\n",
              "    }\n",
              "\n",
              "    .dataframe thead th {\n",
              "        text-align: right;\n",
              "    }\n",
              "</style>\n",
              "<table border=\"1\" class=\"dataframe\">\n",
              "  <thead>\n",
              "    <tr style=\"text-align: right;\">\n",
              "      <th></th>\n",
              "      <th>age</th>\n",
              "      <th>education.num</th>\n",
              "      <th>capital.gain</th>\n",
              "      <th>capital.loss</th>\n",
              "      <th>hours.per.week</th>\n",
              "      <th>income</th>\n",
              "    </tr>\n",
              "  </thead>\n",
              "  <tbody>\n",
              "    <tr>\n",
              "      <th>count</th>\n",
              "      <td>48842.000000</td>\n",
              "      <td>48842.000000</td>\n",
              "      <td>48842.000000</td>\n",
              "      <td>48842.000000</td>\n",
              "      <td>48842.000000</td>\n",
              "      <td>48842.000000</td>\n",
              "    </tr>\n",
              "    <tr>\n",
              "      <th>mean</th>\n",
              "      <td>38.643585</td>\n",
              "      <td>10.078089</td>\n",
              "      <td>1079.067626</td>\n",
              "      <td>87.502314</td>\n",
              "      <td>40.422382</td>\n",
              "      <td>0.239282</td>\n",
              "    </tr>\n",
              "    <tr>\n",
              "      <th>std</th>\n",
              "      <td>13.710510</td>\n",
              "      <td>2.570973</td>\n",
              "      <td>7452.019058</td>\n",
              "      <td>403.004552</td>\n",
              "      <td>12.391444</td>\n",
              "      <td>0.426649</td>\n",
              "    </tr>\n",
              "    <tr>\n",
              "      <th>min</th>\n",
              "      <td>17.000000</td>\n",
              "      <td>1.000000</td>\n",
              "      <td>0.000000</td>\n",
              "      <td>0.000000</td>\n",
              "      <td>1.000000</td>\n",
              "      <td>0.000000</td>\n",
              "    </tr>\n",
              "    <tr>\n",
              "      <th>25%</th>\n",
              "      <td>28.000000</td>\n",
              "      <td>9.000000</td>\n",
              "      <td>0.000000</td>\n",
              "      <td>0.000000</td>\n",
              "      <td>40.000000</td>\n",
              "      <td>0.000000</td>\n",
              "    </tr>\n",
              "    <tr>\n",
              "      <th>50%</th>\n",
              "      <td>37.000000</td>\n",
              "      <td>10.000000</td>\n",
              "      <td>0.000000</td>\n",
              "      <td>0.000000</td>\n",
              "      <td>40.000000</td>\n",
              "      <td>0.000000</td>\n",
              "    </tr>\n",
              "    <tr>\n",
              "      <th>75%</th>\n",
              "      <td>48.000000</td>\n",
              "      <td>12.000000</td>\n",
              "      <td>0.000000</td>\n",
              "      <td>0.000000</td>\n",
              "      <td>45.000000</td>\n",
              "      <td>0.000000</td>\n",
              "    </tr>\n",
              "    <tr>\n",
              "      <th>max</th>\n",
              "      <td>90.000000</td>\n",
              "      <td>16.000000</td>\n",
              "      <td>99999.000000</td>\n",
              "      <td>4356.000000</td>\n",
              "      <td>99.000000</td>\n",
              "      <td>1.000000</td>\n",
              "    </tr>\n",
              "  </tbody>\n",
              "</table>\n",
              "</div>\n",
              "      <button class=\"colab-df-convert\" onclick=\"convertToInteractive('df-12a00ca3-5e75-4f93-95a2-b54f1d4ef15d')\"\n",
              "              title=\"Convert this dataframe to an interactive table.\"\n",
              "              style=\"display:none;\">\n",
              "        \n",
              "  <svg xmlns=\"http://www.w3.org/2000/svg\" height=\"24px\"viewBox=\"0 0 24 24\"\n",
              "       width=\"24px\">\n",
              "    <path d=\"M0 0h24v24H0V0z\" fill=\"none\"/>\n",
              "    <path d=\"M18.56 5.44l.94 2.06.94-2.06 2.06-.94-2.06-.94-.94-2.06-.94 2.06-2.06.94zm-11 1L8.5 8.5l.94-2.06 2.06-.94-2.06-.94L8.5 2.5l-.94 2.06-2.06.94zm10 10l.94 2.06.94-2.06 2.06-.94-2.06-.94-.94-2.06-.94 2.06-2.06.94z\"/><path d=\"M17.41 7.96l-1.37-1.37c-.4-.4-.92-.59-1.43-.59-.52 0-1.04.2-1.43.59L10.3 9.45l-7.72 7.72c-.78.78-.78 2.05 0 2.83L4 21.41c.39.39.9.59 1.41.59.51 0 1.02-.2 1.41-.59l7.78-7.78 2.81-2.81c.8-.78.8-2.07 0-2.86zM5.41 20L4 18.59l7.72-7.72 1.47 1.35L5.41 20z\"/>\n",
              "  </svg>\n",
              "      </button>\n",
              "      \n",
              "  <style>\n",
              "    .colab-df-container {\n",
              "      display:flex;\n",
              "      flex-wrap:wrap;\n",
              "      gap: 12px;\n",
              "    }\n",
              "\n",
              "    .colab-df-convert {\n",
              "      background-color: #E8F0FE;\n",
              "      border: none;\n",
              "      border-radius: 50%;\n",
              "      cursor: pointer;\n",
              "      display: none;\n",
              "      fill: #1967D2;\n",
              "      height: 32px;\n",
              "      padding: 0 0 0 0;\n",
              "      width: 32px;\n",
              "    }\n",
              "\n",
              "    .colab-df-convert:hover {\n",
              "      background-color: #E2EBFA;\n",
              "      box-shadow: 0px 1px 2px rgba(60, 64, 67, 0.3), 0px 1px 3px 1px rgba(60, 64, 67, 0.15);\n",
              "      fill: #174EA6;\n",
              "    }\n",
              "\n",
              "    [theme=dark] .colab-df-convert {\n",
              "      background-color: #3B4455;\n",
              "      fill: #D2E3FC;\n",
              "    }\n",
              "\n",
              "    [theme=dark] .colab-df-convert:hover {\n",
              "      background-color: #434B5C;\n",
              "      box-shadow: 0px 1px 3px 1px rgba(0, 0, 0, 0.15);\n",
              "      filter: drop-shadow(0px 1px 2px rgba(0, 0, 0, 0.3));\n",
              "      fill: #FFFFFF;\n",
              "    }\n",
              "  </style>\n",
              "\n",
              "      <script>\n",
              "        const buttonEl =\n",
              "          document.querySelector('#df-12a00ca3-5e75-4f93-95a2-b54f1d4ef15d button.colab-df-convert');\n",
              "        buttonEl.style.display =\n",
              "          google.colab.kernel.accessAllowed ? 'block' : 'none';\n",
              "\n",
              "        async function convertToInteractive(key) {\n",
              "          const element = document.querySelector('#df-12a00ca3-5e75-4f93-95a2-b54f1d4ef15d');\n",
              "          const dataTable =\n",
              "            await google.colab.kernel.invokeFunction('convertToInteractive',\n",
              "                                                     [key], {});\n",
              "          if (!dataTable) return;\n",
              "\n",
              "          const docLinkHtml = 'Like what you see? Visit the ' +\n",
              "            '<a target=\"_blank\" href=https://colab.research.google.com/notebooks/data_table.ipynb>data table notebook</a>'\n",
              "            + ' to learn more about interactive tables.';\n",
              "          element.innerHTML = '';\n",
              "          dataTable['output_type'] = 'display_data';\n",
              "          await google.colab.output.renderOutput(dataTable, element);\n",
              "          const docLink = document.createElement('div');\n",
              "          docLink.innerHTML = docLinkHtml;\n",
              "          element.appendChild(docLink);\n",
              "        }\n",
              "      </script>\n",
              "    </div>\n",
              "  </div>\n",
              "  "
            ]
          },
          "metadata": {},
          "execution_count": 8
        }
      ]
    },
    {
      "cell_type": "code",
      "source": [
        "# Distribution of continuous variables\n",
        "\n",
        "continuous_vars =  [\n",
        "    'age', 'education.num', 'capital.gain', 'capital.loss', 'hours.per.week', 'income'\n",
        "    ]\n",
        "fig, axes = plt.subplots(2,4) # create figure and axes\n",
        "\n",
        "for i, el in enumerate(list(df[continuous_vars].columns.values)):\n",
        "  a = df.boxplot(el, ax=axes.flatten()[i], fontsize='medium')\n",
        "\n",
        "fig.set_size_inches(8, 5)\n",
        "plt.tight_layout()\n",
        "\n",
        "plt.show()"
      ],
      "metadata": {
        "colab": {
          "base_uri": "https://localhost:8080/",
          "height": 507
        },
        "id": "QkKAxdQvjSut",
        "outputId": "43161cc7-d374-454f-9338-dce38890b06a"
      },
      "id": "QkKAxdQvjSut",
      "execution_count": null,
      "outputs": [
        {
          "output_type": "display_data",
          "data": {
            "text/plain": [
              "<Figure size 800x500 with 8 Axes>"
            ],
            "image/png": "[encoded data removed]"
          },
          "metadata": {}
        }
      ]
    },
    {
      "cell_type": "code",
      "source": [
        "continuous_vars =  ['workclass','marital.status','occupation','relationship','race','sex','native.country']\n",
        "\n",
        "# Create subplots\n",
        "fig, axs = plt.subplots(len(continuous_vars), figsize=(6, len(continuous_vars) * 5))\n",
        "\n",
        "# Iterate over the categorical variables\n",
        "for i, cat_var in enumerate(continuous_vars):\n",
        "    # Group the data based on the categorical variable and calculate the count of each category for the binary variable\n",
        "    grouped_data = df.groupby([cat_var, 'income']).size().unstack()\n",
        "\n",
        "    # Plot the bar chart\n",
        "    ax = axs[i]\n",
        "    grouped_data.plot(kind='bar', stacked=False, ax=ax)\n",
        "\n",
        "    # Set chart labels and title\n",
        "    ax.set_xlabel(cat_var)\n",
        "    ax.set_ylabel('Count')\n",
        "    ax.set_title(f'Income Distribution by {cat_var}')\n",
        "\n",
        "# Adjust the layout\n",
        "plt.tight_layout()\n",
        "\n",
        "# Show the chart\n",
        "plt.show()"
      ],
      "metadata": {
        "colab": {
          "base_uri": "https://localhost:8080/",
          "height": 1000
        },
        "id": "Uqw7sFRnvRE9",
        "outputId": "81a2097a-fef4-4b0f-e91e-b85dbed24ba6"
      },
      "id": "Uqw7sFRnvRE9",
      "execution_count": null,
      "outputs": [
        {
          "output_type": "display_data",
          "data": {
            "text/plain": [
              "<Figure size 600x3500 with 7 Axes>"
            ],
            "image/png": "[encoded data removed]"
          },
          "metadata": {}
        }
      ]
    },
    {
      "cell_type": "code",
      "source": [
        "# Define the list of columns and the income variable\n",
        "columns = ['age', 'education.num', 'capital.gain', 'capital.loss', 'hours.per.week']\n",
        "income_column = 'income'\n",
        "\n",
        "# Create histograms for each column\n",
        "for column in columns:\n",
        "    # Separate the data based on income categories\n",
        "    income_0 = df[df[income_column] == 0]\n",
        "    income_1 = df[df[income_column] == 1]\n",
        "\n",
        "    # Plot the histograms\n",
        "    plt.hist(income_0[column], alpha=0.5, label='Income <=50K')\n",
        "    plt.hist(income_1[column], alpha=0.5, label='Income >50K')\n",
        "\n",
        "    # Set the plot labels and title\n",
        "    plt.xlabel(column)\n",
        "    plt.ylabel('Frequency')\n",
        "    plt.title(f\"Histogram: {column} vs {income_column}\")\n",
        "\n",
        "    # Add a legend\n",
        "    plt.legend()\n",
        "\n",
        "    # Display the plot\n",
        "    plt.show()"
      ],
      "metadata": {
        "colab": {
          "base_uri": "https://localhost:8080/",
          "height": 1000
        },
        "id": "Pnd-mDjylsxc",
        "outputId": "9fced67d-88a3-4ec7-e3d8-c4d4304a1a8b"
      },
      "id": "Pnd-mDjylsxc",
      "execution_count": null,
      "outputs": [
        {
          "output_type": "display_data",
          "data": {
            "text/plain": [
              "<Figure size 640x480 with 1 Axes>"
            ],
            "image/png": "[encoded data removed]"
          },
          "metadata": {}
        },
        {
          "output_type": "display_data",
          "data": {
            "text/plain": [
              "<Figure size 640x480 with 1 Axes>"
            ],
            "image/png": "[encoded data removed]"
          },
          "metadata": {}
        },
        {
          "output_type": "display_data",
          "data": {
            "text/plain": [
              "<Figure size 640x480 with 1 Axes>"
            ],
            "image/png": "[encoded data removed]"
          },
          "metadata": {}
        },
        {
          "output_type": "display_data",
          "data": {
            "text/plain": [
              "<Figure size 640x480 with 1 Axes>"
            ],
            "image/png": "[encoded data removed]"
          },
          "metadata": {}
        },
        {
          "output_type": "display_data",
          "data": {
            "text/plain": [
              "<Figure size 640x480 with 1 Axes>"
            ],
            "image/png": "[encoded data removed]"
          },
          "metadata": {}
        }
      ]
    },
    {
      "cell_type": "code",
      "source": [
        "df.head(2)"
      ],
      "metadata": {
        "colab": {
          "base_uri": "https://localhost:8080/",
          "height": 112
        },
        "id": "5WDejeYSZJhB",
        "outputId": "2c016653-2480-4ef2-dbd1-59c29827719f"
      },
      "id": "5WDejeYSZJhB",
      "execution_count": null,
      "outputs": [
        {
          "output_type": "execute_result",
          "data": {
            "text/plain": [
              "   age         workclass  education  education.num      marital.status  \\\n",
              "0   39         State-gov  Bachelors             13       Never-married   \n",
              "1   50  Self-emp-not-inc  Bachelors             13  Married-civ-spouse   \n",
              "\n",
              "        occupation   relationship   race   sex  capital.gain  capital.loss  \\\n",
              "0     Adm-clerical  Not-in-family  White  Male          2174             0   \n",
              "1  Exec-managerial        Husband  White  Male             0             0   \n",
              "\n",
              "   hours.per.week native.country income  \n",
              "0              40  United-States  <=50K  \n",
              "1              13  United-States  <=50K  "
            ],
            "text/html": [
              "\n",
              "  <div id=\"df-4dca36dc-9d02-439c-b45a-118f405610d1\">\n",
              "    <div class=\"colab-df-container\">\n",
              "      <div>\n",
              "<style scoped>\n",
              "    .dataframe tbody tr th:only-of-type {\n",
              "        vertical-align: middle;\n",
              "    }\n",
              "\n",
              "    .dataframe tbody tr th {\n",
              "        vertical-align: top;\n",
              "    }\n",
              "\n",
              "    .dataframe thead th {\n",
              "        text-align: right;\n",
              "    }\n",
              "</style>\n",
              "<table border=\"1\" class=\"dataframe\">\n",
              "  <thead>\n",
              "    <tr style=\"text-align: right;\">\n",
              "      <th></th>\n",
              "      <th>age</th>\n",
              "      <th>workclass</th>\n",
              "      <th>education</th>\n",
              "      <th>education.num</th>\n",
              "      <th>marital.status</th>\n",
              "      <th>occupation</th>\n",
              "      <th>relationship</th>\n",
              "      <th>race</th>\n",
              "      <th>sex</th>\n",
              "      <th>capital.gain</th>\n",
              "      <th>capital.loss</th>\n",
              "      <th>hours.per.week</th>\n",
              "      <th>native.country</th>\n",
              "      <th>income</th>\n",
              "    </tr>\n",
              "  </thead>\n",
              "  <tbody>\n",
              "    <tr>\n",
              "      <th>0</th>\n",
              "      <td>39</td>\n",
              "      <td>State-gov</td>\n",
              "      <td>Bachelors</td>\n",
              "      <td>13</td>\n",
              "      <td>Never-married</td>\n",
              "      <td>Adm-clerical</td>\n",
              "      <td>Not-in-family</td>\n",
              "      <td>White</td>\n",
              "      <td>Male</td>\n",
              "      <td>2174</td>\n",
              "      <td>0</td>\n",
              "      <td>40</td>\n",
              "      <td>United-States</td>\n",
              "      <td>&lt;=50K</td>\n",
              "    </tr>\n",
              "    <tr>\n",
              "      <th>1</th>\n",
              "      <td>50</td>\n",
              "      <td>Self-emp-not-inc</td>\n",
              "      <td>Bachelors</td>\n",
              "      <td>13</td>\n",
              "      <td>Married-civ-spouse</td>\n",
              "      <td>Exec-managerial</td>\n",
              "      <td>Husband</td>\n",
              "      <td>White</td>\n",
              "      <td>Male</td>\n",
              "      <td>0</td>\n",
              "      <td>0</td>\n",
              "      <td>13</td>\n",
              "      <td>United-States</td>\n",
              "      <td>&lt;=50K</td>\n",
              "    </tr>\n",
              "  </tbody>\n",
              "</table>\n",
              "</div>\n",
              "      <button class=\"colab-df-convert\" onclick=\"convertToInteractive('df-4dca36dc-9d02-439c-b45a-118f405610d1')\"\n",
              "              title=\"Convert this dataframe to an interactive table.\"\n",
              "              style=\"display:none;\">\n",
              "        \n",
              "  <svg xmlns=\"http://www.w3.org/2000/svg\" height=\"24px\"viewBox=\"0 0 24 24\"\n",
              "       width=\"24px\">\n",
              "    <path d=\"M0 0h24v24H0V0z\" fill=\"none\"/>\n",
              "    <path d=\"M18.56 5.44l.94 2.06.94-2.06 2.06-.94-2.06-.94-.94-2.06-.94 2.06-2.06.94zm-11 1L8.5 8.5l.94-2.06 2.06-.94-2.06-.94L8.5 2.5l-.94 2.06-2.06.94zm10 10l.94 2.06.94-2.06 2.06-.94-2.06-.94-.94-2.06-.94 2.06-2.06.94z\"/><path d=\"M17.41 7.96l-1.37-1.37c-.4-.4-.92-.59-1.43-.59-.52 0-1.04.2-1.43.59L10.3 9.45l-7.72 7.72c-.78.78-.78 2.05 0 2.83L4 21.41c.39.39.9.59 1.41.59.51 0 1.02-.2 1.41-.59l7.78-7.78 2.81-2.81c.8-.78.8-2.07 0-2.86zM5.41 20L4 18.59l7.72-7.72 1.47 1.35L5.41 20z\"/>\n",
              "  </svg>\n",
              "      </button>\n",
              "      \n",
              "  <style>\n",
              "    .colab-df-container {\n",
              "      display:flex;\n",
              "      flex-wrap:wrap;\n",
              "      gap: 12px;\n",
              "    }\n",
              "\n",
              "    .colab-df-convert {\n",
              "      background-color: #E8F0FE;\n",
              "      border: none;\n",
              "      border-radius: 50%;\n",
              "      cursor: pointer;\n",
              "      display: none;\n",
              "      fill: #1967D2;\n",
              "      height: 32px;\n",
              "      padding: 0 0 0 0;\n",
              "      width: 32px;\n",
              "    }\n",
              "\n",
              "    .colab-df-convert:hover {\n",
              "      background-color: #E2EBFA;\n",
              "      box-shadow: 0px 1px 2px rgba(60, 64, 67, 0.3), 0px 1px 3px 1px rgba(60, 64, 67, 0.15);\n",
              "      fill: #174EA6;\n",
              "    }\n",
              "\n",
              "    [theme=dark] .colab-df-convert {\n",
              "      background-color: #3B4455;\n",
              "      fill: #D2E3FC;\n",
              "    }\n",
              "\n",
              "    [theme=dark] .colab-df-convert:hover {\n",
              "      background-color: #434B5C;\n",
              "      box-shadow: 0px 1px 3px 1px rgba(0, 0, 0, 0.15);\n",
              "      filter: drop-shadow(0px 1px 2px rgba(0, 0, 0, 0.3));\n",
              "      fill: #FFFFFF;\n",
              "    }\n",
              "  </style>\n",
              "\n",
              "      <script>\n",
              "        const buttonEl =\n",
              "          document.querySelector('#df-4dca36dc-9d02-439c-b45a-118f405610d1 button.colab-df-convert');\n",
              "        buttonEl.style.display =\n",
              "          google.colab.kernel.accessAllowed ? 'block' : 'none';\n",
              "\n",
              "        async function convertToInteractive(key) {\n",
              "          const element = document.querySelector('#df-4dca36dc-9d02-439c-b45a-118f405610d1');\n",
              "          const dataTable =\n",
              "            await google.colab.kernel.invokeFunction('convertToInteractive',\n",
              "                                                     [key], {});\n",
              "          if (!dataTable) return;\n",
              "\n",
              "          const docLinkHtml = 'Like what you see? Visit the ' +\n",
              "            '<a target=\"_blank\" href=https://colab.research.google.com/notebooks/data_table.ipynb>data table notebook</a>'\n",
              "            + ' to learn more about interactive tables.';\n",
              "          element.innerHTML = '';\n",
              "          dataTable['output_type'] = 'display_data';\n",
              "          await google.colab.output.renderOutput(dataTable, element);\n",
              "          const docLink = document.createElement('div');\n",
              "          docLink.innerHTML = docLinkHtml;\n",
              "          element.appendChild(docLink);\n",
              "        }\n",
              "      </script>\n",
              "    </div>\n",
              "  </div>\n",
              "  "
            ]
          },
          "metadata": {},
          "execution_count": 54
        }
      ]
    },
    {
      "cell_type": "code",
      "source": [
        "df.corr()"
      ],
      "metadata": {
        "colab": {
          "base_uri": "https://localhost:8080/",
          "height": 292
        },
        "id": "NP9oNVecgJp0",
        "outputId": "6a7962fc-44bf-4bf7-8444-79c65ec1fa9f"
      },
      "id": "NP9oNVecgJp0",
      "execution_count": null,
      "outputs": [
        {
          "output_type": "stream",
          "name": "stderr",
          "text": [
            "<ipython-input-9-2f6f6606aa2c>:1: FutureWarning: The default value of numeric_only in DataFrame.corr is deprecated. In a future version, it will default to False. Select only valid columns or specify the value of numeric_only to silence this warning.\n",
            "  df.corr()\n"
          ]
        },
        {
          "output_type": "execute_result",
          "data": {
            "text/plain": [
              "                     age  education.num  capital.gain  capital.loss  \\\n",
              "age             1.000000       0.030940      0.077229      0.056944   \n",
              "education.num   0.030940       1.000000      0.125146      0.080972   \n",
              "capital.gain    0.077229       0.125146      1.000000     -0.031441   \n",
              "capital.loss    0.056944       0.080972     -0.031441      1.000000   \n",
              "hours.per.week  0.071558       0.143689      0.082157      0.054467   \n",
              "income          0.230369       0.332613      0.223013      0.147554   \n",
              "\n",
              "                hours.per.week    income  \n",
              "age                   0.071558  0.230369  \n",
              "education.num         0.143689  0.332613  \n",
              "capital.gain          0.082157  0.223013  \n",
              "capital.loss          0.054467  0.147554  \n",
              "hours.per.week        1.000000  0.227687  \n",
              "income                0.227687  1.000000  "
            ],
            "text/html": [
              "\n",
              "  <div id=\"df-026d8408-62d1-40da-ac86-7719285e23bb\">\n",
              "    <div class=\"colab-df-container\">\n",
              "      <div>\n",
              "<style scoped>\n",
              "    .dataframe tbody tr th:only-of-type {\n",
              "        vertical-align: middle;\n",
              "    }\n",
              "\n",
              "    .dataframe tbody tr th {\n",
              "        vertical-align: top;\n",
              "    }\n",
              "\n",
              "    .dataframe thead th {\n",
              "        text-align: right;\n",
              "    }\n",
              "</style>\n",
              "<table border=\"1\" class=\"dataframe\">\n",
              "  <thead>\n",
              "    <tr style=\"text-align: right;\">\n",
              "      <th></th>\n",
              "      <th>age</th>\n",
              "      <th>education.num</th>\n",
              "      <th>capital.gain</th>\n",
              "      <th>capital.loss</th>\n",
              "      <th>hours.per.week</th>\n",
              "      <th>income</th>\n",
              "    </tr>\n",
              "  </thead>\n",
              "  <tbody>\n",
              "    <tr>\n",
              "      <th>age</th>\n",
              "      <td>1.000000</td>\n",
              "      <td>0.030940</td>\n",
              "      <td>0.077229</td>\n",
              "      <td>0.056944</td>\n",
              "      <td>0.071558</td>\n",
              "      <td>0.230369</td>\n",
              "    </tr>\n",
              "    <tr>\n",
              "      <th>education.num</th>\n",
              "      <td>0.030940</td>\n",
              "      <td>1.000000</td>\n",
              "      <td>0.125146</td>\n",
              "      <td>0.080972</td>\n",
              "      <td>0.143689</td>\n",
              "      <td>0.332613</td>\n",
              "    </tr>\n",
              "    <tr>\n",
              "      <th>capital.gain</th>\n",
              "      <td>0.077229</td>\n",
              "      <td>0.125146</td>\n",
              "      <td>1.000000</td>\n",
              "      <td>-0.031441</td>\n",
              "      <td>0.082157</td>\n",
              "      <td>0.223013</td>\n",
              "    </tr>\n",
              "    <tr>\n",
              "      <th>capital.loss</th>\n",
              "      <td>0.056944</td>\n",
              "      <td>0.080972</td>\n",
              "      <td>-0.031441</td>\n",
              "      <td>1.000000</td>\n",
              "      <td>0.054467</td>\n",
              "      <td>0.147554</td>\n",
              "    </tr>\n",
              "    <tr>\n",
              "      <th>hours.per.week</th>\n",
              "      <td>0.071558</td>\n",
              "      <td>0.143689</td>\n",
              "      <td>0.082157</td>\n",
              "      <td>0.054467</td>\n",
              "      <td>1.000000</td>\n",
              "      <td>0.227687</td>\n",
              "    </tr>\n",
              "    <tr>\n",
              "      <th>income</th>\n",
              "      <td>0.230369</td>\n",
              "      <td>0.332613</td>\n",
              "      <td>0.223013</td>\n",
              "      <td>0.147554</td>\n",
              "      <td>0.227687</td>\n",
              "      <td>1.000000</td>\n",
              "    </tr>\n",
              "  </tbody>\n",
              "</table>\n",
              "</div>\n",
              "      <button class=\"colab-df-convert\" onclick=\"convertToInteractive('df-026d8408-62d1-40da-ac86-7719285e23bb')\"\n",
              "              title=\"Convert this dataframe to an interactive table.\"\n",
              "              style=\"display:none;\">\n",
              "        \n",
              "  <svg xmlns=\"http://www.w3.org/2000/svg\" height=\"24px\"viewBox=\"0 0 24 24\"\n",
              "       width=\"24px\">\n",
              "    <path d=\"M0 0h24v24H0V0z\" fill=\"none\"/>\n",
              "    <path d=\"M18.56 5.44l.94 2.06.94-2.06 2.06-.94-2.06-.94-.94-2.06-.94 2.06-2.06.94zm-11 1L8.5 8.5l.94-2.06 2.06-.94-2.06-.94L8.5 2.5l-.94 2.06-2.06.94zm10 10l.94 2.06.94-2.06 2.06-.94-2.06-.94-.94-2.06-.94 2.06-2.06.94z\"/><path d=\"M17.41 7.96l-1.37-1.37c-.4-.4-.92-.59-1.43-.59-.52 0-1.04.2-1.43.59L10.3 9.45l-7.72 7.72c-.78.78-.78 2.05 0 2.83L4 21.41c.39.39.9.59 1.41.59.51 0 1.02-.2 1.41-.59l7.78-7.78 2.81-2.81c.8-.78.8-2.07 0-2.86zM5.41 20L4 18.59l7.72-7.72 1.47 1.35L5.41 20z\"/>\n",
              "  </svg>\n",
              "      </button>\n",
              "      \n",
              "  <style>\n",
              "    .colab-df-container {\n",
              "      display:flex;\n",
              "      flex-wrap:wrap;\n",
              "      gap: 12px;\n",
              "    }\n",
              "\n",
              "    .colab-df-convert {\n",
              "      background-color: #E8F0FE;\n",
              "      border: none;\n",
              "      border-radius: 50%;\n",
              "      cursor: pointer;\n",
              "      display: none;\n",
              "      fill: #1967D2;\n",
              "      height: 32px;\n",
              "      padding: 0 0 0 0;\n",
              "      width: 32px;\n",
              "    }\n",
              "\n",
              "    .colab-df-convert:hover {\n",
              "      background-color: #E2EBFA;\n",
              "      box-shadow: 0px 1px 2px rgba(60, 64, 67, 0.3), 0px 1px 3px 1px rgba(60, 64, 67, 0.15);\n",
              "      fill: #174EA6;\n",
              "    }\n",
              "\n",
              "    [theme=dark] .colab-df-convert {\n",
              "      background-color: #3B4455;\n",
              "      fill: #D2E3FC;\n",
              "    }\n",
              "\n",
              "    [theme=dark] .colab-df-convert:hover {\n",
              "      background-color: #434B5C;\n",
              "      box-shadow: 0px 1px 3px 1px rgba(0, 0, 0, 0.15);\n",
              "      filter: drop-shadow(0px 1px 2px rgba(0, 0, 0, 0.3));\n",
              "      fill: #FFFFFF;\n",
              "    }\n",
              "  </style>\n",
              "\n",
              "      <script>\n",
              "        const buttonEl =\n",
              "          document.querySelector('#df-026d8408-62d1-40da-ac86-7719285e23bb button.colab-df-convert');\n",
              "        buttonEl.style.display =\n",
              "          google.colab.kernel.accessAllowed ? 'block' : 'none';\n",
              "\n",
              "        async function convertToInteractive(key) {\n",
              "          const element = document.querySelector('#df-026d8408-62d1-40da-ac86-7719285e23bb');\n",
              "          const dataTable =\n",
              "            await google.colab.kernel.invokeFunction('convertToInteractive',\n",
              "                                                     [key], {});\n",
              "          if (!dataTable) return;\n",
              "\n",
              "          const docLinkHtml = 'Like what you see? Visit the ' +\n",
              "            '<a target=\"_blank\" href=https://colab.research.google.com/notebooks/data_table.ipynb>data table notebook</a>'\n",
              "            + ' to learn more about interactive tables.';\n",
              "          element.innerHTML = '';\n",
              "          dataTable['output_type'] = 'display_data';\n",
              "          await google.colab.output.renderOutput(dataTable, element);\n",
              "          const docLink = document.createElement('div');\n",
              "          docLink.innerHTML = docLinkHtml;\n",
              "          element.appendChild(docLink);\n",
              "        }\n",
              "      </script>\n",
              "    </div>\n",
              "  </div>\n",
              "  "
            ]
          },
          "metadata": {},
          "execution_count": 9
        }
      ]
    },
    {
      "cell_type": "markdown",
      "source": [
        "## Age"
      ],
      "metadata": {
        "id": "Nbs3KNLdhiv1"
      },
      "id": "Nbs3KNLdhiv1"
    },
    {
      "cell_type": "code",
      "source": [
        "df['age'].describe()"
      ],
      "metadata": {
        "colab": {
          "base_uri": "https://localhost:8080/"
        },
        "id": "-jcEJ7AIu0LY",
        "outputId": "6b24fd91-74ac-44e3-c9a3-cdf21e2560d8"
      },
      "id": "-jcEJ7AIu0LY",
      "execution_count": null,
      "outputs": [
        {
          "output_type": "execute_result",
          "data": {
            "text/plain": [
              "count    48842.000000\n",
              "mean        38.643585\n",
              "std         13.710510\n",
              "min         17.000000\n",
              "25%         28.000000\n",
              "50%         37.000000\n",
              "75%         48.000000\n",
              "max         90.000000\n",
              "Name: age, dtype: float64"
            ]
          },
          "metadata": {},
          "execution_count": 24
        }
      ]
    },
    {
      "cell_type": "code",
      "source": [
        "'''\n",
        "Infants (0-1 year), Toddlers (1-2 years), Toddlers (2-3 years), Preschoolers (3-5 years), Middle Childhood (6-8 years),\n",
        "Middle Childhood (9-11 years), Young Teens (12-14 years), Teenagers (15-17 years)\n",
        "young or early adulthood (approximately aged 20–39), middle adulthood (40–59), and old age (60+). Old age is typically divided into\n",
        "the periods of young old (60–75) and old old (75 and up)\n",
        "'''\n",
        "\n",
        "def transform_to_categorical_age(df, column_name):\n",
        "    # Define the age ranges and corresponding labels\n",
        "    age_ranges = [(0, 17), (20, 39), (40, 59), (60, 74), (75, float('inf'))]\n",
        "    age_labels = ['child_teenager', 'young_adulthodd', 'middle_adulthood', 'young_old', 'old_old']\n",
        "    #age_labels = [1, 2, 3, 4, 5]\n",
        "\n",
        "    # Apply the transformation and substitution\n",
        "    df['age.category'] = pd.cut(df[column_name], bins=[0, 17, 39, 59, 74, float('inf')], labels=age_labels, include_lowest=True)\n",
        "\n",
        "    return df"
      ],
      "metadata": {
        "id": "fQPPPQsmuyAV"
      },
      "id": "fQPPPQsmuyAV",
      "execution_count": null,
      "outputs": []
    },
    {
      "cell_type": "code",
      "source": [
        "train_df = transform_to_categorical_age(train_df, 'age')\n",
        "test_df = transform_to_categorical_age(test_df, 'age')"
      ],
      "metadata": {
        "id": "Sy9XkTl-h9Ah"
      },
      "id": "Sy9XkTl-h9Ah",
      "execution_count": null,
      "outputs": []
    },
    {
      "cell_type": "code",
      "source": [
        "train_df = pd.get_dummies(train_df, columns=['age.category'])\n",
        "test_df = pd.get_dummies(test_df, columns=['age.category'])"
      ],
      "metadata": {
        "id": "4uVXkUelqiEV"
      },
      "id": "4uVXkUelqiEV",
      "execution_count": null,
      "outputs": []
    },
    {
      "cell_type": "code",
      "source": [
        "train_df = train_df.drop('age', axis=1)\n",
        "test_df = test_df.drop('age', axis=1)"
      ],
      "metadata": {
        "id": "w72ymlscnhRH"
      },
      "id": "w72ymlscnhRH",
      "execution_count": null,
      "outputs": []
    },
    {
      "cell_type": "markdown",
      "source": [
        "## Workclass"
      ],
      "metadata": {
        "id": "MDEayfBZnOZT"
      },
      "id": "MDEayfBZnOZT"
    },
    {
      "cell_type": "code",
      "source": [
        "df['workclass'].unique()"
      ],
      "metadata": {
        "colab": {
          "base_uri": "https://localhost:8080/"
        },
        "id": "WUYn1ZOgz7FR",
        "outputId": "4c74aa39-19bf-4059-fb5a-30236611ed8c"
      },
      "id": "WUYn1ZOgz7FR",
      "execution_count": null,
      "outputs": [
        {
          "output_type": "execute_result",
          "data": {
            "text/plain": [
              "array(['State-gov', 'Self-emp-not-inc', 'Private', 'Federal-gov',\n",
              "       'Local-gov', '?', 'Self-emp-inc', 'Without-pay', 'Never-worked'],\n",
              "      dtype=object)"
            ]
          },
          "metadata": {},
          "execution_count": 8
        }
      ]
    },
    {
      "cell_type": "code",
      "source": [
        "train_df = pd.get_dummies(train_df, columns=['workclass'])\n",
        "test_df = pd.get_dummies(test_df, columns=['workclass'])"
      ],
      "metadata": {
        "id": "0oFnq91Ns09H"
      },
      "id": "0oFnq91Ns09H",
      "execution_count": null,
      "outputs": []
    },
    {
      "cell_type": "code",
      "source": [
        "train_df.info()"
      ],
      "metadata": {
        "colab": {
          "base_uri": "https://localhost:8080/"
        },
        "id": "ALCwnpcfs43-",
        "outputId": "952a0d78-0151-4d4c-a70f-2e3bed8ec674"
      },
      "id": "ALCwnpcfs43-",
      "execution_count": null,
      "outputs": [
        {
          "output_type": "stream",
          "name": "stdout",
          "text": [
            "<class 'pandas.core.frame.DataFrame'>\n",
            "Int64Index: 33974 entries, 40654 to 38123\n",
            "Data columns (total 32 columns):\n",
            " #   Column                      Non-Null Count  Dtype   \n",
            "---  ------                      --------------  -----   \n",
            " 0   education.num               33974 non-null  int64   \n",
            " 1   marital.status              33974 non-null  object  \n",
            " 2   occupation                  33974 non-null  object  \n",
            " 3   relationship                33974 non-null  object  \n",
            " 4   capital.gain                33974 non-null  int64   \n",
            " 5   capital.loss                33974 non-null  int64   \n",
            " 6   income                      33974 non-null  int64   \n",
            " 7   age.encoded                 33974 non-null  category\n",
            " 8   continent_Asia              33974 non-null  uint8   \n",
            " 9   continent_Europe            33974 non-null  uint8   \n",
            " 10  continent_North America     33974 non-null  uint8   \n",
            " 11  continent_Oceania           33974 non-null  uint8   \n",
            " 12  continent_South America     33974 non-null  uint8   \n",
            " 13  sex_Female                  33974 non-null  uint8   \n",
            " 14  sex_Male                    33974 non-null  uint8   \n",
            " 15  race_Amer-Indian-Eskimo     33974 non-null  uint8   \n",
            " 16  race_Asian-Pac-Islander     33974 non-null  uint8   \n",
            " 17  race_Black                  33974 non-null  uint8   \n",
            " 18  race_Other                  33974 non-null  uint8   \n",
            " 19  race_White                  33974 non-null  uint8   \n",
            " 20  hpw.category_Part-time      33974 non-null  uint8   \n",
            " 21  hpw.category_Full-time      33974 non-null  uint8   \n",
            " 22  hpw.category_Over-time      33974 non-null  uint8   \n",
            " 23  workclass_?                 33974 non-null  uint8   \n",
            " 24  workclass_Federal-gov       33974 non-null  uint8   \n",
            " 25  workclass_Local-gov         33974 non-null  uint8   \n",
            " 26  workclass_Never-worked      33974 non-null  uint8   \n",
            " 27  workclass_Private           33974 non-null  uint8   \n",
            " 28  workclass_Self-emp-inc      33974 non-null  uint8   \n",
            " 29  workclass_Self-emp-not-inc  33974 non-null  uint8   \n",
            " 30  workclass_State-gov         33974 non-null  uint8   \n",
            " 31  workclass_Without-pay       33974 non-null  uint8   \n",
            "dtypes: category(1), int64(4), object(3), uint8(24)\n",
            "memory usage: 2.9+ MB\n"
          ]
        }
      ]
    },
    {
      "cell_type": "code",
      "source": [
        "train_df = train_df.drop('workclass_?', axis=1)\n",
        "test_df = test_df.drop('workclass_?', axis=1)"
      ],
      "metadata": {
        "id": "H4Z3iYo8s3MU"
      },
      "id": "H4Z3iYo8s3MU",
      "execution_count": null,
      "outputs": []
    },
    {
      "cell_type": "markdown",
      "source": [
        "## Education & Education.num"
      ],
      "metadata": {
        "id": "6NjZTJk1nSlL"
      },
      "id": "6NjZTJk1nSlL"
    },
    {
      "cell_type": "code",
      "source": [
        "unique_values = df.groupby('education')['education.num'].unique()\n",
        "unique_values.sort_values()"
      ],
      "metadata": {
        "colab": {
          "base_uri": "https://localhost:8080/"
        },
        "id": "NCbxz3hanIOg",
        "outputId": "2542456f-3314-42ef-bdf1-b82c7cf05f09"
      },
      "id": "NCbxz3hanIOg",
      "execution_count": null,
      "outputs": [
        {
          "output_type": "execute_result",
          "data": {
            "text/plain": [
              "education\n",
              "Preschool        [1]\n",
              "1st-4th          [2]\n",
              "5th-6th          [3]\n",
              "7th-8th          [4]\n",
              "9th              [5]\n",
              "10th             [6]\n",
              "11th             [7]\n",
              "12th             [8]\n",
              "HS-grad          [9]\n",
              "Some-college    [10]\n",
              "Assoc-voc       [11]\n",
              "Assoc-acdm      [12]\n",
              "Bachelors       [13]\n",
              "Masters         [14]\n",
              "Prof-school     [15]\n",
              "Doctorate       [16]\n",
              "Name: education.num, dtype: object"
            ]
          },
          "metadata": {},
          "execution_count": 21
        }
      ]
    },
    {
      "cell_type": "code",
      "source": [
        "train_df = train_df.drop('education', axis=1)\n",
        "test_df = test_df.drop('education', axis=1)"
      ],
      "metadata": {
        "id": "C2Csdntuqb4s"
      },
      "id": "C2Csdntuqb4s",
      "execution_count": null,
      "outputs": []
    },
    {
      "cell_type": "markdown",
      "source": [
        "## Marital.status"
      ],
      "metadata": {
        "id": "EUv5AZCuniKv"
      },
      "id": "EUv5AZCuniKv"
    },
    {
      "cell_type": "code",
      "source": [
        "train_df = pd.get_dummies(train_df, columns=['marital.status'])\n",
        "test_df = pd.get_dummies(test_df, columns=['marital.status'])"
      ],
      "metadata": {
        "id": "q3OwPIIQtgC1"
      },
      "id": "q3OwPIIQtgC1",
      "execution_count": null,
      "outputs": []
    },
    {
      "cell_type": "code",
      "source": [
        "#train_df = train_df.drop('workclass_?', axis=1)\n",
        "#test_df = test_df.drop('workclass_?', axis=1)"
      ],
      "metadata": {
        "colab": {
          "base_uri": "https://localhost:8080/",
          "height": 328
        },
        "id": "0lbNTUz-tih9",
        "outputId": "857f0e0a-cda0-4f6f-9b67-8ad9114d991b"
      },
      "id": "0lbNTUz-tih9",
      "execution_count": null,
      "outputs": [
        {
          "output_type": "error",
          "ename": "KeyError",
          "evalue": "ignored",
          "traceback": [
            "\u001b[0;31m---------------------------------------------------------------------------\u001b[0m",
            "\u001b[0;31mKeyError\u001b[0m                                  Traceback (most recent call last)",
            "\u001b[0;32m<ipython-input-24-c99b587aefe1>\u001b[0m in \u001b[0;36m<cell line: 1>\u001b[0;34m()\u001b[0m\n\u001b[0;32m----> 1\u001b[0;31m \u001b[0mtrain_df\u001b[0m \u001b[0;34m=\u001b[0m \u001b[0mtrain_df\u001b[0m\u001b[0;34m.\u001b[0m\u001b[0mdrop\u001b[0m\u001b[0;34m(\u001b[0m\u001b[0;34m'workclass_?'\u001b[0m\u001b[0;34m,\u001b[0m \u001b[0maxis\u001b[0m\u001b[0;34m=\u001b[0m\u001b[0;36m1\u001b[0m\u001b[0;34m)\u001b[0m\u001b[0;34m\u001b[0m\u001b[0;34m\u001b[0m\u001b[0m\n\u001b[0m\u001b[1;32m      2\u001b[0m \u001b[0mtest_df\u001b[0m \u001b[0;34m=\u001b[0m \u001b[0mtest_df\u001b[0m\u001b[0;34m.\u001b[0m\u001b[0mdrop\u001b[0m\u001b[0;34m(\u001b[0m\u001b[0;34m'workclass_?'\u001b[0m\u001b[0;34m,\u001b[0m \u001b[0maxis\u001b[0m\u001b[0;34m=\u001b[0m\u001b[0;36m1\u001b[0m\u001b[0;34m)\u001b[0m\u001b[0;34m\u001b[0m\u001b[0;34m\u001b[0m\u001b[0m\n",
            "\u001b[0;32m/usr/local/lib/python3.10/dist-packages/pandas/util/_decorators.py\u001b[0m in \u001b[0;36mwrapper\u001b[0;34m(*args, **kwargs)\u001b[0m\n\u001b[1;32m    329\u001b[0m                     \u001b[0mstacklevel\u001b[0m\u001b[0;34m=\u001b[0m\u001b[0mfind_stack_level\u001b[0m\u001b[0;34m(\u001b[0m\u001b[0;34m)\u001b[0m\u001b[0;34m,\u001b[0m\u001b[0;34m\u001b[0m\u001b[0;34m\u001b[0m\u001b[0m\n\u001b[1;32m    330\u001b[0m                 )\n\u001b[0;32m--> 331\u001b[0;31m             \u001b[0;32mreturn\u001b[0m \u001b[0mfunc\u001b[0m\u001b[0;34m(\u001b[0m\u001b[0;34m*\u001b[0m\u001b[0margs\u001b[0m\u001b[0;34m,\u001b[0m \u001b[0;34m**\u001b[0m\u001b[0mkwargs\u001b[0m\u001b[0;34m)\u001b[0m\u001b[0;34m\u001b[0m\u001b[0;34m\u001b[0m\u001b[0m\n\u001b[0m\u001b[1;32m    332\u001b[0m \u001b[0;34m\u001b[0m\u001b[0m\n\u001b[1;32m    333\u001b[0m         \u001b[0;31m# error: \"Callable[[VarArg(Any), KwArg(Any)], Any]\" has no\u001b[0m\u001b[0;34m\u001b[0m\u001b[0;34m\u001b[0m\u001b[0m\n",
            "\u001b[0;32m/usr/local/lib/python3.10/dist-packages/pandas/core/frame.py\u001b[0m in \u001b[0;36mdrop\u001b[0;34m(self, labels, axis, index, columns, level, inplace, errors)\u001b[0m\n\u001b[1;32m   5397\u001b[0m                 \u001b[0mweight\u001b[0m  \u001b[0;36m1.0\u001b[0m     \u001b[0;36m0.8\u001b[0m\u001b[0;34m\u001b[0m\u001b[0;34m\u001b[0m\u001b[0m\n\u001b[1;32m   5398\u001b[0m         \"\"\"\n\u001b[0;32m-> 5399\u001b[0;31m         return super().drop(\n\u001b[0m\u001b[1;32m   5400\u001b[0m             \u001b[0mlabels\u001b[0m\u001b[0;34m=\u001b[0m\u001b[0mlabels\u001b[0m\u001b[0;34m,\u001b[0m\u001b[0;34m\u001b[0m\u001b[0;34m\u001b[0m\u001b[0m\n\u001b[1;32m   5401\u001b[0m             \u001b[0maxis\u001b[0m\u001b[0;34m=\u001b[0m\u001b[0maxis\u001b[0m\u001b[0;34m,\u001b[0m\u001b[0;34m\u001b[0m\u001b[0;34m\u001b[0m\u001b[0m\n",
            "\u001b[0;32m/usr/local/lib/python3.10/dist-packages/pandas/util/_decorators.py\u001b[0m in \u001b[0;36mwrapper\u001b[0;34m(*args, **kwargs)\u001b[0m\n\u001b[1;32m    329\u001b[0m                     \u001b[0mstacklevel\u001b[0m\u001b[0;34m=\u001b[0m\u001b[0mfind_stack_level\u001b[0m\u001b[0;34m(\u001b[0m\u001b[0;34m)\u001b[0m\u001b[0;34m,\u001b[0m\u001b[0;34m\u001b[0m\u001b[0;34m\u001b[0m\u001b[0m\n\u001b[1;32m    330\u001b[0m                 )\n\u001b[0;32m--> 331\u001b[0;31m             \u001b[0;32mreturn\u001b[0m \u001b[0mfunc\u001b[0m\u001b[0;34m(\u001b[0m\u001b[0;34m*\u001b[0m\u001b[0margs\u001b[0m\u001b[0;34m,\u001b[0m \u001b[0;34m**\u001b[0m\u001b[0mkwargs\u001b[0m\u001b[0;34m)\u001b[0m\u001b[0;34m\u001b[0m\u001b[0;34m\u001b[0m\u001b[0m\n\u001b[0m\u001b[1;32m    332\u001b[0m \u001b[0;34m\u001b[0m\u001b[0m\n\u001b[1;32m    333\u001b[0m         \u001b[0;31m# error: \"Callable[[VarArg(Any), KwArg(Any)], Any]\" has no\u001b[0m\u001b[0;34m\u001b[0m\u001b[0;34m\u001b[0m\u001b[0m\n",
            "\u001b[0;32m/usr/local/lib/python3.10/dist-packages/pandas/core/generic.py\u001b[0m in \u001b[0;36mdrop\u001b[0;34m(self, labels, axis, index, columns, level, inplace, errors)\u001b[0m\n\u001b[1;32m   4503\u001b[0m         \u001b[0;32mfor\u001b[0m \u001b[0maxis\u001b[0m\u001b[0;34m,\u001b[0m \u001b[0mlabels\u001b[0m \u001b[0;32min\u001b[0m \u001b[0maxes\u001b[0m\u001b[0;34m.\u001b[0m\u001b[0mitems\u001b[0m\u001b[0;34m(\u001b[0m\u001b[0;34m)\u001b[0m\u001b[0;34m:\u001b[0m\u001b[0;34m\u001b[0m\u001b[0;34m\u001b[0m\u001b[0m\n\u001b[1;32m   4504\u001b[0m             \u001b[0;32mif\u001b[0m \u001b[0mlabels\u001b[0m \u001b[0;32mis\u001b[0m \u001b[0;32mnot\u001b[0m \u001b[0;32mNone\u001b[0m\u001b[0;34m:\u001b[0m\u001b[0;34m\u001b[0m\u001b[0;34m\u001b[0m\u001b[0m\n\u001b[0;32m-> 4505\u001b[0;31m                 \u001b[0mobj\u001b[0m \u001b[0;34m=\u001b[0m \u001b[0mobj\u001b[0m\u001b[0;34m.\u001b[0m\u001b[0m_drop_axis\u001b[0m\u001b[0;34m(\u001b[0m\u001b[0mlabels\u001b[0m\u001b[0;34m,\u001b[0m \u001b[0maxis\u001b[0m\u001b[0;34m,\u001b[0m \u001b[0mlevel\u001b[0m\u001b[0;34m=\u001b[0m\u001b[0mlevel\u001b[0m\u001b[0;34m,\u001b[0m \u001b[0merrors\u001b[0m\u001b[0;34m=\u001b[0m\u001b[0merrors\u001b[0m\u001b[0;34m)\u001b[0m\u001b[0;34m\u001b[0m\u001b[0;34m\u001b[0m\u001b[0m\n\u001b[0m\u001b[1;32m   4506\u001b[0m \u001b[0;34m\u001b[0m\u001b[0m\n\u001b[1;32m   4507\u001b[0m         \u001b[0;32mif\u001b[0m \u001b[0minplace\u001b[0m\u001b[0;34m:\u001b[0m\u001b[0;34m\u001b[0m\u001b[0;34m\u001b[0m\u001b[0m\n",
            "\u001b[0;32m/usr/local/lib/python3.10/dist-packages/pandas/core/generic.py\u001b[0m in \u001b[0;36m_drop_axis\u001b[0;34m(self, labels, axis, level, errors, only_slice)\u001b[0m\n\u001b[1;32m   4544\u001b[0m                 \u001b[0mnew_axis\u001b[0m \u001b[0;34m=\u001b[0m \u001b[0maxis\u001b[0m\u001b[0;34m.\u001b[0m\u001b[0mdrop\u001b[0m\u001b[0;34m(\u001b[0m\u001b[0mlabels\u001b[0m\u001b[0;34m,\u001b[0m \u001b[0mlevel\u001b[0m\u001b[0;34m=\u001b[0m\u001b[0mlevel\u001b[0m\u001b[0;34m,\u001b[0m \u001b[0merrors\u001b[0m\u001b[0;34m=\u001b[0m\u001b[0merrors\u001b[0m\u001b[0;34m)\u001b[0m\u001b[0;34m\u001b[0m\u001b[0;34m\u001b[0m\u001b[0m\n\u001b[1;32m   4545\u001b[0m             \u001b[0;32melse\u001b[0m\u001b[0;34m:\u001b[0m\u001b[0;34m\u001b[0m\u001b[0;34m\u001b[0m\u001b[0m\n\u001b[0;32m-> 4546\u001b[0;31m                 \u001b[0mnew_axis\u001b[0m \u001b[0;34m=\u001b[0m \u001b[0maxis\u001b[0m\u001b[0;34m.\u001b[0m\u001b[0mdrop\u001b[0m\u001b[0;34m(\u001b[0m\u001b[0mlabels\u001b[0m\u001b[0;34m,\u001b[0m \u001b[0merrors\u001b[0m\u001b[0;34m=\u001b[0m\u001b[0merrors\u001b[0m\u001b[0;34m)\u001b[0m\u001b[0;34m\u001b[0m\u001b[0;34m\u001b[0m\u001b[0m\n\u001b[0m\u001b[1;32m   4547\u001b[0m             \u001b[0mindexer\u001b[0m \u001b[0;34m=\u001b[0m \u001b[0maxis\u001b[0m\u001b[0;34m.\u001b[0m\u001b[0mget_indexer\u001b[0m\u001b[0;34m(\u001b[0m\u001b[0mnew_axis\u001b[0m\u001b[0;34m)\u001b[0m\u001b[0;34m\u001b[0m\u001b[0;34m\u001b[0m\u001b[0m\n\u001b[1;32m   4548\u001b[0m \u001b[0;34m\u001b[0m\u001b[0m\n",
            "\u001b[0;32m/usr/local/lib/python3.10/dist-packages/pandas/core/indexes/base.py\u001b[0m in \u001b[0;36mdrop\u001b[0;34m(self, labels, errors)\u001b[0m\n\u001b[1;32m   6932\u001b[0m         \u001b[0;32mif\u001b[0m \u001b[0mmask\u001b[0m\u001b[0;34m.\u001b[0m\u001b[0many\u001b[0m\u001b[0;34m(\u001b[0m\u001b[0;34m)\u001b[0m\u001b[0;34m:\u001b[0m\u001b[0;34m\u001b[0m\u001b[0;34m\u001b[0m\u001b[0m\n\u001b[1;32m   6933\u001b[0m             \u001b[0;32mif\u001b[0m \u001b[0merrors\u001b[0m \u001b[0;34m!=\u001b[0m \u001b[0;34m\"ignore\"\u001b[0m\u001b[0;34m:\u001b[0m\u001b[0;34m\u001b[0m\u001b[0;34m\u001b[0m\u001b[0m\n\u001b[0;32m-> 6934\u001b[0;31m                 \u001b[0;32mraise\u001b[0m \u001b[0mKeyError\u001b[0m\u001b[0;34m(\u001b[0m\u001b[0;34mf\"{list(labels[mask])} not found in axis\"\u001b[0m\u001b[0;34m)\u001b[0m\u001b[0;34m\u001b[0m\u001b[0;34m\u001b[0m\u001b[0m\n\u001b[0m\u001b[1;32m   6935\u001b[0m             \u001b[0mindexer\u001b[0m \u001b[0;34m=\u001b[0m \u001b[0mindexer\u001b[0m\u001b[0;34m[\u001b[0m\u001b[0;34m~\u001b[0m\u001b[0mmask\u001b[0m\u001b[0;34m]\u001b[0m\u001b[0;34m\u001b[0m\u001b[0;34m\u001b[0m\u001b[0m\n\u001b[1;32m   6936\u001b[0m         \u001b[0;32mreturn\u001b[0m \u001b[0mself\u001b[0m\u001b[0;34m.\u001b[0m\u001b[0mdelete\u001b[0m\u001b[0;34m(\u001b[0m\u001b[0mindexer\u001b[0m\u001b[0;34m)\u001b[0m\u001b[0;34m\u001b[0m\u001b[0;34m\u001b[0m\u001b[0m\n",
            "\u001b[0;31mKeyError\u001b[0m: \"['workclass_?'] not found in axis\""
          ]
        }
      ]
    },
    {
      "cell_type": "markdown",
      "source": [
        "## Occupation"
      ],
      "metadata": {
        "id": "APRU87-wnlR4"
      },
      "id": "APRU87-wnlR4"
    },
    {
      "cell_type": "code",
      "source": [
        "df['occupation'].unique()"
      ],
      "metadata": {
        "colab": {
          "base_uri": "https://localhost:8080/"
        },
        "id": "ldht8NsR0Epb",
        "outputId": "4f882daa-e2c7-49d1-96e0-10a00f1fc850"
      },
      "id": "ldht8NsR0Epb",
      "execution_count": null,
      "outputs": [
        {
          "output_type": "execute_result",
          "data": {
            "text/plain": [
              "array(['Adm-clerical', 'Exec-managerial', 'Handlers-cleaners',\n",
              "       'Prof-specialty', 'Other-service', 'Sales', 'Craft-repair',\n",
              "       'Transport-moving', 'Farming-fishing', 'Machine-op-inspct',\n",
              "       'Tech-support', '?', 'Protective-serv', 'Armed-Forces',\n",
              "       'Priv-house-serv'], dtype=object)"
            ]
          },
          "metadata": {},
          "execution_count": 9
        }
      ]
    },
    {
      "cell_type": "code",
      "source": [
        "train_df = pd.get_dummies(train_df, columns=['occupation'])\n",
        "test_df = pd.get_dummies(test_df, columns=['occupation'])"
      ],
      "metadata": {
        "id": "1ah3a2xmtqej"
      },
      "id": "1ah3a2xmtqej",
      "execution_count": null,
      "outputs": []
    },
    {
      "cell_type": "code",
      "source": [
        "train_df = train_df.drop('occupation_?', axis=1)\n",
        "test_df = test_df.drop('occupation_?', axis=1)"
      ],
      "metadata": {
        "id": "uHL70Em2tsbo"
      },
      "id": "uHL70Em2tsbo",
      "execution_count": null,
      "outputs": []
    },
    {
      "cell_type": "markdown",
      "source": [
        "## Relationship"
      ],
      "metadata": {
        "id": "cNJ4UeP7nmHw"
      },
      "id": "cNJ4UeP7nmHw"
    },
    {
      "cell_type": "code",
      "source": [
        "train_df = pd.get_dummies(train_df, columns=['relationship'])\n",
        "test_df = pd.get_dummies(test_df, columns=['relationship'])"
      ],
      "metadata": {
        "id": "6pnJrXTut35q"
      },
      "id": "6pnJrXTut35q",
      "execution_count": null,
      "outputs": []
    },
    {
      "cell_type": "markdown",
      "source": [
        "## Race"
      ],
      "metadata": {
        "id": "5jlcwEw-nrKz"
      },
      "id": "5jlcwEw-nrKz"
    },
    {
      "cell_type": "code",
      "source": [
        "df['race'].value_counts()"
      ],
      "metadata": {
        "colab": {
          "base_uri": "https://localhost:8080/"
        },
        "id": "tdrkyENGp4VU",
        "outputId": "e25a15d4-b85e-4761-9ef1-8a59d9498d87"
      },
      "id": "tdrkyENGp4VU",
      "execution_count": null,
      "outputs": [
        {
          "output_type": "execute_result",
          "data": {
            "text/plain": [
              "White                 35541\n",
              "Black                  4536\n",
              "Asian-Pac-Islander     1515\n",
              "Amer-Indian-Eskimo      470\n",
              "Other                   406\n",
              "Name: race, dtype: int64"
            ]
          },
          "metadata": {},
          "execution_count": 73
        }
      ]
    },
    {
      "cell_type": "code",
      "source": [
        "train_df = pd.get_dummies(train_df, columns=['race'])\n",
        "test_df = pd.get_dummies(test_df, columns=['race'])"
      ],
      "metadata": {
        "id": "KH9ETLLBqCRX"
      },
      "id": "KH9ETLLBqCRX",
      "execution_count": null,
      "outputs": []
    },
    {
      "cell_type": "markdown",
      "source": [
        "## Sex"
      ],
      "metadata": {
        "id": "PQ3fBS5GnvTr"
      },
      "id": "PQ3fBS5GnvTr"
    },
    {
      "cell_type": "code",
      "source": [
        "train_df = pd.get_dummies(train_df, columns=['sex'])\n",
        "test_df = pd.get_dummies(test_df, columns=['sex'])"
      ],
      "metadata": {
        "id": "Sey5hHF1ZMSy"
      },
      "id": "Sey5hHF1ZMSy",
      "execution_count": null,
      "outputs": []
    },
    {
      "cell_type": "markdown",
      "source": [
        "## Capital.gain"
      ],
      "metadata": {
        "id": "sB5wd-dznxyg"
      },
      "id": "sB5wd-dznxyg"
    },
    {
      "cell_type": "code",
      "source": [
        "'''\n",
        "Definition: Capital gain is the profit one earns on the sale of an asset like stocks, bonds or real estate. It results in capital gain when the\n",
        "selling price of an asset exceeds its purchase price. It is the difference between the selling price (higher) and cost price (lower) of the asset.\n",
        "'''"
      ],
      "metadata": {
        "id": "T4SJp_8PyjOw"
      },
      "id": "T4SJp_8PyjOw",
      "execution_count": null,
      "outputs": []
    },
    {
      "cell_type": "markdown",
      "source": [
        "## Capital.loss"
      ],
      "metadata": {
        "id": "94jIb-66n4Ap"
      },
      "id": "94jIb-66n4Ap"
    },
    {
      "cell_type": "code",
      "source": [
        "'''\n",
        "A capital loss is the loss incurred when a capital asset, such as an investment or real estate, decreases in value. This loss is not realized\n",
        "until the asset is sold for a price that is lower than the original purchase price.\n",
        "'''"
      ],
      "metadata": {
        "id": "miaNz9vEyu2N"
      },
      "id": "miaNz9vEyu2N",
      "execution_count": null,
      "outputs": []
    },
    {
      "cell_type": "markdown",
      "source": [
        "## Hours.per.week"
      ],
      "metadata": {
        "id": "DfORkO1Un4Iv"
      },
      "id": "DfORkO1Un4Iv"
    },
    {
      "cell_type": "code",
      "source": [
        "'''\n",
        "Full-time employment is 35 hours or more per week.\n",
        "Part-time employment is 1–34 hours per week.\n",
        "Over-time: working more than 55 hours a week\n",
        "'''"
      ],
      "metadata": {
        "id": "9DXwdW78wT3j"
      },
      "id": "9DXwdW78wT3j",
      "execution_count": null,
      "outputs": []
    },
    {
      "cell_type": "code",
      "source": [
        "def transform_to_categorical_hpw(df, column_name):\n",
        "    # Define the age ranges and corresponding labels\n",
        "    hpw_ranges = [(0, 34), (35, 55), (56, float('inf'))]\n",
        "    hpw_labels = ['Part-time', 'Full-time', 'Over-time']\n",
        "\n",
        "    # Apply the transformation and substitution\n",
        "    df['hpw.category'] = pd.cut(df[column_name], bins=[0, 34, 55, float('inf')], labels=hpw_labels, include_lowest=True)\n",
        "\n",
        "    return df"
      ],
      "metadata": {
        "id": "m6U3TRudwxTg"
      },
      "id": "m6U3TRudwxTg",
      "execution_count": null,
      "outputs": []
    },
    {
      "cell_type": "code",
      "source": [
        "train_df = transform_to_categorical_hpw(train_df, 'hours.per.week')\n",
        "test_df = transform_to_categorical_hpw(test_df, 'hours.per.week')"
      ],
      "metadata": {
        "id": "JKIfGOGkq_Kg"
      },
      "id": "JKIfGOGkq_Kg",
      "execution_count": null,
      "outputs": []
    },
    {
      "cell_type": "code",
      "source": [
        "train_df = pd.get_dummies(train_df, columns=['hpw.category'])\n",
        "test_df = pd.get_dummies(test_df, columns=['hpw.category'])"
      ],
      "metadata": {
        "id": "5vYK-rxCrBMV"
      },
      "id": "5vYK-rxCrBMV",
      "execution_count": null,
      "outputs": []
    },
    {
      "cell_type": "code",
      "source": [
        "train_df = train_df.drop('hours.per.week', axis=1)\n",
        "test_df = test_df.drop('hours.per.week', axis=1)"
      ],
      "metadata": {
        "id": "VEU7JNZOrDfH"
      },
      "id": "VEU7JNZOrDfH",
      "execution_count": null,
      "outputs": []
    },
    {
      "cell_type": "markdown",
      "source": [
        "## Native.country / continent"
      ],
      "metadata": {
        "id": "O-qXKCRPn-Dj"
      },
      "id": "O-qXKCRPn-Dj"
    },
    {
      "cell_type": "code",
      "source": [
        "df['native.country'].unique()"
      ],
      "metadata": {
        "colab": {
          "base_uri": "https://localhost:8080/"
        },
        "id": "6y8lvJ9FxDVI",
        "outputId": "ff2c239a-9584-438b-baac-822e18777033"
      },
      "id": "6y8lvJ9FxDVI",
      "execution_count": null,
      "outputs": [
        {
          "output_type": "execute_result",
          "data": {
            "text/plain": [
              "array(['United-States', 'Cuba', 'Jamaica', 'India', '?', 'Mexico',\n",
              "       'South', 'Puerto-Rico', 'Honduras', 'England', 'Canada', 'Germany',\n",
              "       'Iran', 'Philippines', 'Italy', 'Poland', 'Columbia', 'Cambodia',\n",
              "       'Thailand', 'Ecuador', 'Laos', 'Taiwan', 'Haiti', 'Portugal',\n",
              "       'Dominican-Republic', 'El-Salvador', 'France', 'Guatemala',\n",
              "       'China', 'Japan', 'Yugoslavia', 'Peru',\n",
              "       'Outlying-US(Guam-USVI-etc)', 'Scotland', 'Trinadad&Tobago',\n",
              "       'Greece', 'Nicaragua', 'Vietnam', 'Hong', 'Ireland', 'Hungary',\n",
              "       'Holand-Netherlands'], dtype=object)"
            ]
          },
          "metadata": {},
          "execution_count": 137
        }
      ]
    },
    {
      "cell_type": "code",
      "source": [
        "country_to_continent = {\n",
        "    'United-States': 'North America',\n",
        "    'Cuba': 'North America',\n",
        "    'Jamaica': 'North America',\n",
        "    'India': 'Asia',\n",
        "    '?': 'Unknown',\n",
        "    'Mexico': 'North America',\n",
        "    'South': 'Asia',\n",
        "    'Puerto-Rico': 'North America',\n",
        "    'Honduras': 'North America',\n",
        "    'England': 'Europe',\n",
        "    'Canada': 'North America',\n",
        "    'Germany': 'Europe',\n",
        "    'Iran': 'Asia',\n",
        "    'Philippines': 'Asia',\n",
        "    'Italy': 'Europe',\n",
        "    'Poland': 'Europe',\n",
        "    'Columbia': 'South America',\n",
        "    'Cambodia': 'Asia',\n",
        "    'Thailand': 'Asia',\n",
        "    'Ecuador': 'South America',\n",
        "    'Laos': 'Asia',\n",
        "    'Taiwan': 'Asia',\n",
        "    'Haiti': 'North America',\n",
        "    'Portugal': 'Europe',\n",
        "    'Dominican-Republic': 'North America',\n",
        "    'El-Salvador': 'North America',\n",
        "    'France': 'Europe',\n",
        "    'Guatemala': 'North America',\n",
        "    'China': 'Asia',\n",
        "    'Japan': 'Asia',\n",
        "    'Yugoslavia': 'Europe',\n",
        "    'Peru': 'South America',\n",
        "    'Outlying-US(Guam-USVI-etc)': 'Oceania',\n",
        "    'Scotland': 'Europe',\n",
        "    'Trinadad&Tobago': 'North America',\n",
        "    'Greece': 'Europe',\n",
        "    'Nicaragua': 'North America',\n",
        "    'Vietnam': 'Asia',\n",
        "    'Hong': 'Asia',\n",
        "    'Ireland': 'Europe',\n",
        "    'Hungary': 'Europe',\n",
        "    'Holand-Netherlands': 'Europe'\n",
        "}"
      ],
      "metadata": {
        "id": "jtgal47TxrlU"
      },
      "id": "jtgal47TxrlU",
      "execution_count": null,
      "outputs": []
    },
    {
      "cell_type": "code",
      "source": [
        "train_df['continent'] = train_df['native.country'].map(country_to_continent)\n",
        "test_df['continent'] = test_df['native.country'].map(country_to_continent)"
      ],
      "metadata": {
        "id": "j2ievw2JyDeU"
      },
      "id": "j2ievw2JyDeU",
      "execution_count": null,
      "outputs": []
    },
    {
      "cell_type": "code",
      "source": [
        "train_df = pd.get_dummies(train_df, columns=['continent'])\n",
        "test_df = pd.get_dummies(test_df, columns=['continent'])"
      ],
      "metadata": {
        "id": "55AQydTan0fg"
      },
      "id": "55AQydTan0fg",
      "execution_count": null,
      "outputs": []
    },
    {
      "cell_type": "code",
      "source": [
        "train_df = train_df.drop(['native.country', 'continent_Unknown'], axis=1)\n",
        "test_df = test_df.drop(['native.country', 'continent_Unknown'], axis=1)"
      ],
      "metadata": {
        "id": "fqPsp-_1oTIt"
      },
      "id": "fqPsp-_1oTIt",
      "execution_count": null,
      "outputs": []
    },
    {
      "cell_type": "markdown",
      "source": [
        "## New Variables - per capita income"
      ],
      "metadata": {
        "id": "LjWRn7vc0qqd"
      },
      "id": "LjWRn7vc0qqd"
    },
    {
      "cell_type": "code",
      "source": [
        "# web scrapping\n",
        "\n",
        "url = \"https://www.nationsonline.org/oneworld/human_development.htm\"\n",
        "response = requests.get(url)\n",
        "\n",
        "soup = BeautifulSoup(response.text, 'html.parser')\n",
        "tables = soup.find_all('table')\n",
        "\n",
        "data = []\n",
        "headers = []\n",
        "\n",
        "# Find the table with the appropriate structure\n",
        "for table in tables:\n",
        "    rows = table.find_all('tr')\n",
        "    if len(rows) > 1:\n",
        "        headers = [header.text.strip() for header in rows[0].find_all('td')]\n",
        "        data = [[cell.text.strip() for cell in row.find_all('td')] for row in rows[1:]]\n",
        "        break"
      ],
      "metadata": {
        "id": "oyGGSUYm12BH",
        "colab": {
          "base_uri": "https://localhost:8080/"
        },
        "outputId": "3603f50e-0bec-4ea0-f6cc-20fc1e5beaf9"
      },
      "id": "oyGGSUYm12BH",
      "execution_count": null,
      "outputs": [
        {
          "output_type": "stream",
          "name": "stdout",
          "text": [
            "Empty DataFrame\n",
            "Columns: []\n",
            "Index: []\n"
          ]
        }
      ]
    },
    {
      "cell_type": "code",
      "source": [
        "df_gdp = pd.DataFrame(data, columns=headers)"
      ],
      "metadata": {
        "id": "pOIMznb3uecp"
      },
      "id": "pOIMznb3uecp",
      "execution_count": null,
      "outputs": []
    },
    {
      "cell_type": "code",
      "source": [
        "df_gdp.head(2)"
      ],
      "metadata": {
        "colab": {
          "base_uri": "https://localhost:8080/",
          "height": 49
        },
        "id": "3KKwjVP-uuSh",
        "outputId": "3ea43adb-e88d-4552-9374-baad17e73b09"
      },
      "id": "3KKwjVP-uuSh",
      "execution_count": null,
      "outputs": [
        {
          "output_type": "execute_result",
          "data": {
            "text/plain": [
              "Empty DataFrame\n",
              "Columns: []\n",
              "Index: []"
            ],
            "text/html": [
              "\n",
              "  <div id=\"df-d3f6f1b9-8702-4e24-a5aa-9d41948ed909\">\n",
              "    <div class=\"colab-df-container\">\n",
              "      <div>\n",
              "<style scoped>\n",
              "    .dataframe tbody tr th:only-of-type {\n",
              "        vertical-align: middle;\n",
              "    }\n",
              "\n",
              "    .dataframe tbody tr th {\n",
              "        vertical-align: top;\n",
              "    }\n",
              "\n",
              "    .dataframe thead th {\n",
              "        text-align: right;\n",
              "    }\n",
              "</style>\n",
              "<table border=\"1\" class=\"dataframe\">\n",
              "  <thead>\n",
              "    <tr style=\"text-align: right;\">\n",
              "      <th></th>\n",
              "    </tr>\n",
              "  </thead>\n",
              "  <tbody>\n",
              "  </tbody>\n",
              "</table>\n",
              "</div>\n",
              "      <button class=\"colab-df-convert\" onclick=\"convertToInteractive('df-d3f6f1b9-8702-4e24-a5aa-9d41948ed909')\"\n",
              "              title=\"Convert this dataframe to an interactive table.\"\n",
              "              style=\"display:none;\">\n",
              "        \n",
              "  <svg xmlns=\"http://www.w3.org/2000/svg\" height=\"24px\"viewBox=\"0 0 24 24\"\n",
              "       width=\"24px\">\n",
              "    <path d=\"M0 0h24v24H0V0z\" fill=\"none\"/>\n",
              "    <path d=\"M18.56 5.44l.94 2.06.94-2.06 2.06-.94-2.06-.94-.94-2.06-.94 2.06-2.06.94zm-11 1L8.5 8.5l.94-2.06 2.06-.94-2.06-.94L8.5 2.5l-.94 2.06-2.06.94zm10 10l.94 2.06.94-2.06 2.06-.94-2.06-.94-.94-2.06-.94 2.06-2.06.94z\"/><path d=\"M17.41 7.96l-1.37-1.37c-.4-.4-.92-.59-1.43-.59-.52 0-1.04.2-1.43.59L10.3 9.45l-7.72 7.72c-.78.78-.78 2.05 0 2.83L4 21.41c.39.39.9.59 1.41.59.51 0 1.02-.2 1.41-.59l7.78-7.78 2.81-2.81c.8-.78.8-2.07 0-2.86zM5.41 20L4 18.59l7.72-7.72 1.47 1.35L5.41 20z\"/>\n",
              "  </svg>\n",
              "      </button>\n",
              "      \n",
              "  <style>\n",
              "    .colab-df-container {\n",
              "      display:flex;\n",
              "      flex-wrap:wrap;\n",
              "      gap: 12px;\n",
              "    }\n",
              "\n",
              "    .colab-df-convert {\n",
              "      background-color: #E8F0FE;\n",
              "      border: none;\n",
              "      border-radius: 50%;\n",
              "      cursor: pointer;\n",
              "      display: none;\n",
              "      fill: #1967D2;\n",
              "      height: 32px;\n",
              "      padding: 0 0 0 0;\n",
              "      width: 32px;\n",
              "    }\n",
              "\n",
              "    .colab-df-convert:hover {\n",
              "      background-color: #E2EBFA;\n",
              "      box-shadow: 0px 1px 2px rgba(60, 64, 67, 0.3), 0px 1px 3px 1px rgba(60, 64, 67, 0.15);\n",
              "      fill: #174EA6;\n",
              "    }\n",
              "\n",
              "    [theme=dark] .colab-df-convert {\n",
              "      background-color: #3B4455;\n",
              "      fill: #D2E3FC;\n",
              "    }\n",
              "\n",
              "    [theme=dark] .colab-df-convert:hover {\n",
              "      background-color: #434B5C;\n",
              "      box-shadow: 0px 1px 3px 1px rgba(0, 0, 0, 0.15);\n",
              "      filter: drop-shadow(0px 1px 2px rgba(0, 0, 0, 0.3));\n",
              "      fill: #FFFFFF;\n",
              "    }\n",
              "  </style>\n",
              "\n",
              "      <script>\n",
              "        const buttonEl =\n",
              "          document.querySelector('#df-d3f6f1b9-8702-4e24-a5aa-9d41948ed909 button.colab-df-convert');\n",
              "        buttonEl.style.display =\n",
              "          google.colab.kernel.accessAllowed ? 'block' : 'none';\n",
              "\n",
              "        async function convertToInteractive(key) {\n",
              "          const element = document.querySelector('#df-d3f6f1b9-8702-4e24-a5aa-9d41948ed909');\n",
              "          const dataTable =\n",
              "            await google.colab.kernel.invokeFunction('convertToInteractive',\n",
              "                                                     [key], {});\n",
              "          if (!dataTable) return;\n",
              "\n",
              "          const docLinkHtml = 'Like what you see? Visit the ' +\n",
              "            '<a target=\"_blank\" href=https://colab.research.google.com/notebooks/data_table.ipynb>data table notebook</a>'\n",
              "            + ' to learn more about interactive tables.';\n",
              "          element.innerHTML = '';\n",
              "          dataTable['output_type'] = 'display_data';\n",
              "          await google.colab.output.renderOutput(dataTable, element);\n",
              "          const docLink = document.createElement('div');\n",
              "          docLink.innerHTML = docLinkHtml;\n",
              "          element.appendChild(docLink);\n",
              "        }\n",
              "      </script>\n",
              "    </div>\n",
              "  </div>\n",
              "  "
            ]
          },
          "metadata": {},
          "execution_count": 44
        }
      ]
    },
    {
      "cell_type": "code",
      "source": [
        "df_gdp = df_gdp.drop(['#', 'GDP (nominal) per capita (2017)', 'vs. World PPP  GDP per capita ($17,100)'], axis=1)"
      ],
      "metadata": {
        "id": "jooyWqvpvS_y"
      },
      "id": "jooyWqvpvS_y",
      "execution_count": null,
      "outputs": []
    },
    {
      "cell_type": "code",
      "source": [
        "df_gdp.rename(columns={'GDP (PPP)  per capita  (2017)': 'gdp_per_capita'}, inplace=True)"
      ],
      "metadata": {
        "id": "8-39PeMRwFCK"
      },
      "id": "8-39PeMRwFCK",
      "execution_count": null,
      "outputs": []
    },
    {
      "cell_type": "code",
      "source": [
        "df_gdp"
      ],
      "metadata": {
        "colab": {
          "base_uri": "https://localhost:8080/",
          "height": 424
        },
        "id": "liUYWLgawME-",
        "outputId": "a36ba0d1-1764-4e3c-f2bd-2f38280d04e0"
      },
      "id": "liUYWLgawME-",
      "execution_count": null,
      "outputs": [
        {
          "output_type": "execute_result",
          "data": {
            "text/plain": [
              "                      Country gdp_per_capita\n",
              "0                       Qatar       $128,647\n",
              "1                       Macao       $115,367\n",
              "2                  Luxembourg       $107,641\n",
              "3                   Singapore        $94,105\n",
              "4                      Brunei        $79,003\n",
              "..                        ...            ...\n",
              "183                   Burundi           $735\n",
              "184  Central African Republic           $727\n",
              "185                      Guam           N.A.\n",
              "186                      Cuba           N.A.\n",
              "187            American Samoa           N.A.\n",
              "\n",
              "[188 rows x 2 columns]"
            ],
            "text/html": [
              "\n",
              "  <div id=\"df-b19fd383-5223-4271-a998-26d7e29ccf34\">\n",
              "    <div class=\"colab-df-container\">\n",
              "      <div>\n",
              "<style scoped>\n",
              "    .dataframe tbody tr th:only-of-type {\n",
              "        vertical-align: middle;\n",
              "    }\n",
              "\n",
              "    .dataframe tbody tr th {\n",
              "        vertical-align: top;\n",
              "    }\n",
              "\n",
              "    .dataframe thead th {\n",
              "        text-align: right;\n",
              "    }\n",
              "</style>\n",
              "<table border=\"1\" class=\"dataframe\">\n",
              "  <thead>\n",
              "    <tr style=\"text-align: right;\">\n",
              "      <th></th>\n",
              "      <th>Country</th>\n",
              "      <th>gdp_per_capita</th>\n",
              "    </tr>\n",
              "  </thead>\n",
              "  <tbody>\n",
              "    <tr>\n",
              "      <th>0</th>\n",
              "      <td>Qatar</td>\n",
              "      <td>$128,647</td>\n",
              "    </tr>\n",
              "    <tr>\n",
              "      <th>1</th>\n",
              "      <td>Macao</td>\n",
              "      <td>$115,367</td>\n",
              "    </tr>\n",
              "    <tr>\n",
              "      <th>2</th>\n",
              "      <td>Luxembourg</td>\n",
              "      <td>$107,641</td>\n",
              "    </tr>\n",
              "    <tr>\n",
              "      <th>3</th>\n",
              "      <td>Singapore</td>\n",
              "      <td>$94,105</td>\n",
              "    </tr>\n",
              "    <tr>\n",
              "      <th>4</th>\n",
              "      <td>Brunei</td>\n",
              "      <td>$79,003</td>\n",
              "    </tr>\n",
              "    <tr>\n",
              "      <th>...</th>\n",
              "      <td>...</td>\n",
              "      <td>...</td>\n",
              "    </tr>\n",
              "    <tr>\n",
              "      <th>183</th>\n",
              "      <td>Burundi</td>\n",
              "      <td>$735</td>\n",
              "    </tr>\n",
              "    <tr>\n",
              "      <th>184</th>\n",
              "      <td>Central African Republic</td>\n",
              "      <td>$727</td>\n",
              "    </tr>\n",
              "    <tr>\n",
              "      <th>185</th>\n",
              "      <td>Guam</td>\n",
              "      <td>N.A.</td>\n",
              "    </tr>\n",
              "    <tr>\n",
              "      <th>186</th>\n",
              "      <td>Cuba</td>\n",
              "      <td>N.A.</td>\n",
              "    </tr>\n",
              "    <tr>\n",
              "      <th>187</th>\n",
              "      <td>American Samoa</td>\n",
              "      <td>N.A.</td>\n",
              "    </tr>\n",
              "  </tbody>\n",
              "</table>\n",
              "<p>188 rows × 2 columns</p>\n",
              "</div>\n",
              "      <button class=\"colab-df-convert\" onclick=\"convertToInteractive('df-b19fd383-5223-4271-a998-26d7e29ccf34')\"\n",
              "              title=\"Convert this dataframe to an interactive table.\"\n",
              "              style=\"display:none;\">\n",
              "        \n",
              "  <svg xmlns=\"http://www.w3.org/2000/svg\" height=\"24px\"viewBox=\"0 0 24 24\"\n",
              "       width=\"24px\">\n",
              "    <path d=\"M0 0h24v24H0V0z\" fill=\"none\"/>\n",
              "    <path d=\"M18.56 5.44l.94 2.06.94-2.06 2.06-.94-2.06-.94-.94-2.06-.94 2.06-2.06.94zm-11 1L8.5 8.5l.94-2.06 2.06-.94-2.06-.94L8.5 2.5l-.94 2.06-2.06.94zm10 10l.94 2.06.94-2.06 2.06-.94-2.06-.94-.94-2.06-.94 2.06-2.06.94z\"/><path d=\"M17.41 7.96l-1.37-1.37c-.4-.4-.92-.59-1.43-.59-.52 0-1.04.2-1.43.59L10.3 9.45l-7.72 7.72c-.78.78-.78 2.05 0 2.83L4 21.41c.39.39.9.59 1.41.59.51 0 1.02-.2 1.41-.59l7.78-7.78 2.81-2.81c.8-.78.8-2.07 0-2.86zM5.41 20L4 18.59l7.72-7.72 1.47 1.35L5.41 20z\"/>\n",
              "  </svg>\n",
              "      </button>\n",
              "      \n",
              "  <style>\n",
              "    .colab-df-container {\n",
              "      display:flex;\n",
              "      flex-wrap:wrap;\n",
              "      gap: 12px;\n",
              "    }\n",
              "\n",
              "    .colab-df-convert {\n",
              "      background-color: #E8F0FE;\n",
              "      border: none;\n",
              "      border-radius: 50%;\n",
              "      cursor: pointer;\n",
              "      display: none;\n",
              "      fill: #1967D2;\n",
              "      height: 32px;\n",
              "      padding: 0 0 0 0;\n",
              "      width: 32px;\n",
              "    }\n",
              "\n",
              "    .colab-df-convert:hover {\n",
              "      background-color: #E2EBFA;\n",
              "      box-shadow: 0px 1px 2px rgba(60, 64, 67, 0.3), 0px 1px 3px 1px rgba(60, 64, 67, 0.15);\n",
              "      fill: #174EA6;\n",
              "    }\n",
              "\n",
              "    [theme=dark] .colab-df-convert {\n",
              "      background-color: #3B4455;\n",
              "      fill: #D2E3FC;\n",
              "    }\n",
              "\n",
              "    [theme=dark] .colab-df-convert:hover {\n",
              "      background-color: #434B5C;\n",
              "      box-shadow: 0px 1px 3px 1px rgba(0, 0, 0, 0.15);\n",
              "      filter: drop-shadow(0px 1px 2px rgba(0, 0, 0, 0.3));\n",
              "      fill: #FFFFFF;\n",
              "    }\n",
              "  </style>\n",
              "\n",
              "      <script>\n",
              "        const buttonEl =\n",
              "          document.querySelector('#df-b19fd383-5223-4271-a998-26d7e29ccf34 button.colab-df-convert');\n",
              "        buttonEl.style.display =\n",
              "          google.colab.kernel.accessAllowed ? 'block' : 'none';\n",
              "\n",
              "        async function convertToInteractive(key) {\n",
              "          const element = document.querySelector('#df-b19fd383-5223-4271-a998-26d7e29ccf34');\n",
              "          const dataTable =\n",
              "            await google.colab.kernel.invokeFunction('convertToInteractive',\n",
              "                                                     [key], {});\n",
              "          if (!dataTable) return;\n",
              "\n",
              "          const docLinkHtml = 'Like what you see? Visit the ' +\n",
              "            '<a target=\"_blank\" href=https://colab.research.google.com/notebooks/data_table.ipynb>data table notebook</a>'\n",
              "            + ' to learn more about interactive tables.';\n",
              "          element.innerHTML = '';\n",
              "          dataTable['output_type'] = 'display_data';\n",
              "          await google.colab.output.renderOutput(dataTable, element);\n",
              "          const docLink = document.createElement('div');\n",
              "          docLink.innerHTML = docLinkHtml;\n",
              "          element.appendChild(docLink);\n",
              "        }\n",
              "      </script>\n",
              "    </div>\n",
              "  </div>\n",
              "  "
            ]
          },
          "metadata": {},
          "execution_count": 31
        }
      ]
    },
    {
      "cell_type": "code",
      "source": [
        "df_gdp = df_gdp.replace(to_replace='N.A.', value='0')"
      ],
      "metadata": {
        "id": "Hq_4fJKau2R5"
      },
      "id": "Hq_4fJKau2R5",
      "execution_count": null,
      "outputs": []
    },
    {
      "cell_type": "code",
      "source": [
        "df_gdp = df_gdp.replace(to_replace='$', value='')"
      ],
      "metadata": {
        "id": "eKkPxbQEwuX4"
      },
      "id": "eKkPxbQEwuX4",
      "execution_count": null,
      "outputs": []
    },
    {
      "cell_type": "code",
      "source": [
        "df_gdp['gdp_per_capita'] = df_gdp['gdp_per_capita'].str.replace('$', '').str.replace(',', '')\n",
        "df_gdp['gdp_per_capita'] = df_gdp['gdp_per_capita'].astype(int)"
      ],
      "metadata": {
        "colab": {
          "base_uri": "https://localhost:8080/"
        },
        "id": "NlDp3ckPwzxv",
        "outputId": "9d70778f-6d73-4ece-8a64-da736540cd06"
      },
      "id": "NlDp3ckPwzxv",
      "execution_count": null,
      "outputs": [
        {
          "output_type": "stream",
          "name": "stderr",
          "text": [
            "<ipython-input-37-5a0b0ae0df33>:1: FutureWarning: The default value of regex will change from True to False in a future version. In addition, single character regular expressions will *not* be treated as literal strings when regex=True.\n",
            "  df_gdp['gdp_per_capita'] = df_gdp['gdp_per_capita'].str.replace('$', '').str.replace(',', '')\n"
          ]
        }
      ]
    },
    {
      "cell_type": "code",
      "source": [
        "df_gdp.sort_values(by='Country', ascending=True)"
      ],
      "metadata": {
        "colab": {
          "base_uri": "https://localhost:8080/",
          "height": 424
        },
        "id": "wccoE8K7xNmQ",
        "outputId": "e3dd1065-151f-4076-c805-0a6c612351e5"
      },
      "id": "wccoE8K7xNmQ",
      "execution_count": null,
      "outputs": [
        {
          "output_type": "execute_result",
          "data": {
            "text/plain": [
              "            Country  gdp_per_capita\n",
              "167     Afghanistan            1976\n",
              "96          Albania           12943\n",
              "83          Algeria           15293\n",
              "187  American Samoa               0\n",
              "126          Angola            6658\n",
              "..              ...             ...\n",
              "153         Vanuatu            3215\n",
              "125         Vietnam            6790\n",
              "159           Yemen            2606\n",
              "141          Zambia            4033\n",
              "160        Zimbabwe            2434\n",
              "\n",
              "[188 rows x 2 columns]"
            ],
            "text/html": [
              "\n",
              "  <div id=\"df-59b1b949-ccf2-4716-a960-facc30c74e88\">\n",
              "    <div class=\"colab-df-container\">\n",
              "      <div>\n",
              "<style scoped>\n",
              "    .dataframe tbody tr th:only-of-type {\n",
              "        vertical-align: middle;\n",
              "    }\n",
              "\n",
              "    .dataframe tbody tr th {\n",
              "        vertical-align: top;\n",
              "    }\n",
              "\n",
              "    .dataframe thead th {\n",
              "        text-align: right;\n",
              "    }\n",
              "</style>\n",
              "<table border=\"1\" class=\"dataframe\">\n",
              "  <thead>\n",
              "    <tr style=\"text-align: right;\">\n",
              "      <th></th>\n",
              "      <th>Country</th>\n",
              "      <th>gdp_per_capita</th>\n",
              "    </tr>\n",
              "  </thead>\n",
              "  <tbody>\n",
              "    <tr>\n",
              "      <th>167</th>\n",
              "      <td>Afghanistan</td>\n",
              "      <td>1976</td>\n",
              "    </tr>\n",
              "    <tr>\n",
              "      <th>96</th>\n",
              "      <td>Albania</td>\n",
              "      <td>12943</td>\n",
              "    </tr>\n",
              "    <tr>\n",
              "      <th>83</th>\n",
              "      <td>Algeria</td>\n",
              "      <td>15293</td>\n",
              "    </tr>\n",
              "    <tr>\n",
              "      <th>187</th>\n",
              "      <td>American Samoa</td>\n",
              "      <td>0</td>\n",
              "    </tr>\n",
              "    <tr>\n",
              "      <th>126</th>\n",
              "      <td>Angola</td>\n",
              "      <td>6658</td>\n",
              "    </tr>\n",
              "    <tr>\n",
              "      <th>...</th>\n",
              "      <td>...</td>\n",
              "      <td>...</td>\n",
              "    </tr>\n",
              "    <tr>\n",
              "      <th>153</th>\n",
              "      <td>Vanuatu</td>\n",
              "      <td>3215</td>\n",
              "    </tr>\n",
              "    <tr>\n",
              "      <th>125</th>\n",
              "      <td>Vietnam</td>\n",
              "      <td>6790</td>\n",
              "    </tr>\n",
              "    <tr>\n",
              "      <th>159</th>\n",
              "      <td>Yemen</td>\n",
              "      <td>2606</td>\n",
              "    </tr>\n",
              "    <tr>\n",
              "      <th>141</th>\n",
              "      <td>Zambia</td>\n",
              "      <td>4033</td>\n",
              "    </tr>\n",
              "    <tr>\n",
              "      <th>160</th>\n",
              "      <td>Zimbabwe</td>\n",
              "      <td>2434</td>\n",
              "    </tr>\n",
              "  </tbody>\n",
              "</table>\n",
              "<p>188 rows × 2 columns</p>\n",
              "</div>\n",
              "      <button class=\"colab-df-convert\" onclick=\"convertToInteractive('df-59b1b949-ccf2-4716-a960-facc30c74e88')\"\n",
              "              title=\"Convert this dataframe to an interactive table.\"\n",
              "              style=\"display:none;\">\n",
              "        \n",
              "  <svg xmlns=\"http://www.w3.org/2000/svg\" height=\"24px\"viewBox=\"0 0 24 24\"\n",
              "       width=\"24px\">\n",
              "    <path d=\"M0 0h24v24H0V0z\" fill=\"none\"/>\n",
              "    <path d=\"M18.56 5.44l.94 2.06.94-2.06 2.06-.94-2.06-.94-.94-2.06-.94 2.06-2.06.94zm-11 1L8.5 8.5l.94-2.06 2.06-.94-2.06-.94L8.5 2.5l-.94 2.06-2.06.94zm10 10l.94 2.06.94-2.06 2.06-.94-2.06-.94-.94-2.06-.94 2.06-2.06.94z\"/><path d=\"M17.41 7.96l-1.37-1.37c-.4-.4-.92-.59-1.43-.59-.52 0-1.04.2-1.43.59L10.3 9.45l-7.72 7.72c-.78.78-.78 2.05 0 2.83L4 21.41c.39.39.9.59 1.41.59.51 0 1.02-.2 1.41-.59l7.78-7.78 2.81-2.81c.8-.78.8-2.07 0-2.86zM5.41 20L4 18.59l7.72-7.72 1.47 1.35L5.41 20z\"/>\n",
              "  </svg>\n",
              "      </button>\n",
              "      \n",
              "  <style>\n",
              "    .colab-df-container {\n",
              "      display:flex;\n",
              "      flex-wrap:wrap;\n",
              "      gap: 12px;\n",
              "    }\n",
              "\n",
              "    .colab-df-convert {\n",
              "      background-color: #E8F0FE;\n",
              "      border: none;\n",
              "      border-radius: 50%;\n",
              "      cursor: pointer;\n",
              "      display: none;\n",
              "      fill: #1967D2;\n",
              "      height: 32px;\n",
              "      padding: 0 0 0 0;\n",
              "      width: 32px;\n",
              "    }\n",
              "\n",
              "    .colab-df-convert:hover {\n",
              "      background-color: #E2EBFA;\n",
              "      box-shadow: 0px 1px 2px rgba(60, 64, 67, 0.3), 0px 1px 3px 1px rgba(60, 64, 67, 0.15);\n",
              "      fill: #174EA6;\n",
              "    }\n",
              "\n",
              "    [theme=dark] .colab-df-convert {\n",
              "      background-color: #3B4455;\n",
              "      fill: #D2E3FC;\n",
              "    }\n",
              "\n",
              "    [theme=dark] .colab-df-convert:hover {\n",
              "      background-color: #434B5C;\n",
              "      box-shadow: 0px 1px 3px 1px rgba(0, 0, 0, 0.15);\n",
              "      filter: drop-shadow(0px 1px 2px rgba(0, 0, 0, 0.3));\n",
              "      fill: #FFFFFF;\n",
              "    }\n",
              "  </style>\n",
              "\n",
              "      <script>\n",
              "        const buttonEl =\n",
              "          document.querySelector('#df-59b1b949-ccf2-4716-a960-facc30c74e88 button.colab-df-convert');\n",
              "        buttonEl.style.display =\n",
              "          google.colab.kernel.accessAllowed ? 'block' : 'none';\n",
              "\n",
              "        async function convertToInteractive(key) {\n",
              "          const element = document.querySelector('#df-59b1b949-ccf2-4716-a960-facc30c74e88');\n",
              "          const dataTable =\n",
              "            await google.colab.kernel.invokeFunction('convertToInteractive',\n",
              "                                                     [key], {});\n",
              "          if (!dataTable) return;\n",
              "\n",
              "          const docLinkHtml = 'Like what you see? Visit the ' +\n",
              "            '<a target=\"_blank\" href=https://colab.research.google.com/notebooks/data_table.ipynb>data table notebook</a>'\n",
              "            + ' to learn more about interactive tables.';\n",
              "          element.innerHTML = '';\n",
              "          dataTable['output_type'] = 'display_data';\n",
              "          await google.colab.output.renderOutput(dataTable, element);\n",
              "          const docLink = document.createElement('div');\n",
              "          docLink.innerHTML = docLinkHtml;\n",
              "          element.appendChild(docLink);\n",
              "        }\n",
              "      </script>\n",
              "    </div>\n",
              "  </div>\n",
              "  "
            ]
          },
          "metadata": {},
          "execution_count": 44
        }
      ]
    },
    {
      "cell_type": "code",
      "source": [
        "df_gdp.to_excel('teste.xlsx', index=False)"
      ],
      "metadata": {
        "id": "uGte-_JV0Hpe"
      },
      "id": "uGte-_JV0Hpe",
      "execution_count": null,
      "outputs": []
    },
    {
      "cell_type": "code",
      "source": [
        "filtered_df = df_gdp[df_gdp['Country'] == 'Puerto Rico']\n",
        "print(filtered_df)"
      ],
      "metadata": {
        "colab": {
          "base_uri": "https://localhost:8080/"
        },
        "id": "DnuGNhJxzc5V",
        "outputId": "e7427f19-afe1-44e2-81d4-324b8f5aedcc"
      },
      "id": "DnuGNhJxzc5V",
      "execution_count": null,
      "outputs": [
        {
          "output_type": "stream",
          "name": "stdout",
          "text": [
            "             Country gdp_per_capita\n",
            "Country  Puerto Rico    Puerto Rico\n"
          ]
        }
      ]
    },
    {
      "cell_type": "code",
      "source": [
        "df['native.country'].unique()"
      ],
      "metadata": {
        "colab": {
          "base_uri": "https://localhost:8080/"
        },
        "id": "WGsfZa25xWq3",
        "outputId": "cab7f66b-d7dd-4140-90f7-6001b3ad59b6"
      },
      "id": "WGsfZa25xWq3",
      "execution_count": null,
      "outputs": [
        {
          "output_type": "execute_result",
          "data": {
            "text/plain": [
              "array(['United-States', 'Cuba', 'Jamaica', 'India', '?', 'Mexico',\n",
              "       'South', 'Puerto-Rico', 'Honduras', 'England', 'Canada', 'Germany',\n",
              "       'Iran', 'Philippines', 'Italy', 'Poland', 'Columbia', 'Cambodia',\n",
              "       'Thailand', 'Ecuador', 'Laos', 'Taiwan', 'Haiti', 'Portugal',\n",
              "       'Dominican-Republic', 'El-Salvador', 'France', 'Guatemala',\n",
              "       'China', 'Japan', 'Yugoslavia', 'Peru',\n",
              "       'Outlying-US(Guam-USVI-etc)', 'Scotland', 'Trinadad&Tobago',\n",
              "       'Greece', 'Nicaragua', 'Vietnam', 'Hong', 'Ireland', 'Hungary',\n",
              "       'Holand-Netherlands'], dtype=object)"
            ]
          },
          "metadata": {},
          "execution_count": 98
        }
      ]
    },
    {
      "cell_type": "code",
      "source": [
        "train_df['native.country'] = train_df['native.country'].str.replace('-', ' ')\n",
        "test_df['native.country'] = test_df['native.country'].str.replace('-', ' ')"
      ],
      "metadata": {
        "id": "XyBmCOYhx4dQ"
      },
      "id": "XyBmCOYhx4dQ",
      "execution_count": null,
      "outputs": []
    },
    {
      "cell_type": "code",
      "source": [
        "train_df['gdp_per_capita'] = train_df['native.country'].map(df_gdp.set_index('Country')['gdp_per_capita'])\n",
        "test_df['gdp_per_capita'] = test_df['native.country'].map(df_gdp.set_index('Country')['gdp_per_capita'])"
      ],
      "metadata": {
        "id": "Fah6TDb6yyUP"
      },
      "id": "Fah6TDb6yyUP",
      "execution_count": null,
      "outputs": []
    },
    {
      "cell_type": "code",
      "source": [
        "train_df['gdp_per_capita'] = train_df['gdp_per_capita'].replace('Puerto Rico', 0)\n",
        "test_df['gdp_per_capita'] = test_df['gdp_per_capita'].replace('Puerto Rico', 0)"
      ],
      "metadata": {
        "id": "G16Fiqx84DOl"
      },
      "id": "G16Fiqx84DOl",
      "execution_count": null,
      "outputs": []
    },
    {
      "cell_type": "code",
      "source": [
        "#train_df['gdp_per_capita'] = train_df['gdp_per_capita'].astype(int)\n",
        "#test_df['gdp_per_capita'] = test_df['gdp_per_capita'].astype(int)"
      ],
      "metadata": {
        "id": "oQaiQbuC4SE7"
      },
      "id": "oQaiQbuC4SE7",
      "execution_count": null,
      "outputs": []
    },
    {
      "cell_type": "code",
      "source": [
        "train_df['gdp_per_capita'].unique()"
      ],
      "metadata": {
        "colab": {
          "base_uri": "https://localhost:8080/"
        },
        "id": "oipKsN84zXQn",
        "outputId": "1c394a6e-6876-4a45-ee44-913115a58c06"
      },
      "id": "oipKsN84zXQn",
      "execution_count": null,
      "outputs": [
        {
          "output_type": "execute_result",
          "data": {
            "text/plain": [
              "array([59928.,     0., 18656.,    nan,  8361., 52556., 16842., 44033.,\n",
              "        7166., 42067., 46510.,  8168., 13463.,  6790.,  4997.,  9066.,\n",
              "        1819., 76745., 40924., 16064.,  8023., 17910., 32554., 20885.,\n",
              "       28799., 29924.,  5855., 11612.,  7038., 28583.,  4018.])"
            ]
          },
          "metadata": {},
          "execution_count": 118
        }
      ]
    },
    {
      "cell_type": "code",
      "source": [
        "train_df.fillna(0, inplace=True)\n",
        "test_df.fillna(0, inplace=True)"
      ],
      "metadata": {
        "id": "exisMma12_Ze"
      },
      "id": "exisMma12_Ze",
      "execution_count": null,
      "outputs": []
    },
    {
      "cell_type": "code",
      "source": [
        "test_df['gdp_per_capita'].unique()"
      ],
      "metadata": {
        "colab": {
          "base_uri": "https://localhost:8080/"
        },
        "id": "iAWFh0fx3odb",
        "outputId": "a2791d76-0019-41ef-9226-b135f1a3837d"
      },
      "id": "iAWFh0fx3odb",
      "execution_count": null,
      "outputs": [
        {
          "output_type": "execute_result",
          "data": {
            "text/plain": [
              "array([59928.,     0., 46510.,  1819., 29924.,  9066., 18656., 52556.,\n",
              "        8168.,  7166., 42067., 40924., 16842.,  8361., 28583., 16064.,\n",
              "       20885., 44033.,  6790., 76745., 11612.,  8023., 13463.,  7038.,\n",
              "       17910., 32554.,  4018.,  5855., 28799.,  4997.])"
            ]
          },
          "metadata": {},
          "execution_count": 120
        }
      ]
    },
    {
      "cell_type": "markdown",
      "source": [
        "## New Variables - HDI"
      ],
      "metadata": {
        "id": "G5WqFHsT7ukS"
      },
      "id": "G5WqFHsT7ukS"
    },
    {
      "cell_type": "code",
      "source": [
        "url = \"https://www.theglobaleconomy.com/rankings/human_development/\"\n",
        "response = requests.get(url)\n",
        "\n",
        "soup = BeautifulSoup(response.text, 'html.parser')\n",
        "table = soup.find('table')\n",
        "\n",
        "data = []\n",
        "headers = []\n",
        "\n",
        "for row in table.find_all('tr'):\n",
        "    if not headers:\n",
        "        headers = [header.text for header in row.find_all('th')]\n",
        "    else:\n",
        "        row_data = [cell.text for cell in row.find_all('td')]\n",
        "        data.append(row_data)\n",
        "\n",
        "df = pd.DataFrame(data, columns=headers)"
      ],
      "metadata": {
        "colab": {
          "base_uri": "https://localhost:8080/"
        },
        "id": "21Qnae-I9GAr",
        "outputId": "4ad7a92c-cb52-4bb1-9d78-8975a6b531f0"
      },
      "id": "21Qnae-I9GAr",
      "execution_count": null,
      "outputs": [
        {
          "output_type": "stream",
          "name": "stdout",
          "text": [
            "    \\r\\n\\t\\t\\t\\t\\t\\t\\t\\t\\tCountries\\r\\n\\t\\t\\t\\t\\t\\t\\t\\t  \\\n",
            "0                                    \\nSwitzerland\\n\\n    \n",
            "1                                         \\nNorway\\n\\n    \n",
            "2                                        \\nIceland\\n\\n    \n",
            "3                                      \\nHong Kong\\n\\n    \n",
            "4                                      \\nAustralia\\n\\n    \n",
            "..                                                 ...    \n",
            "179                                      \\nBurundi\\n\\n    \n",
            "180                                \\nC.A. Republic\\n\\n    \n",
            "181                                        \\nNiger\\n\\n    \n",
            "182                                         \\nChad\\n\\n    \n",
            "183                                 \\nSouth Africa\\n\\n    \n",
            "\n",
            "    \\r\\n\\t\\t\\t\\t\\t\\t\\t\\t\\tHuman development, 2021\\r\\n\\t\\t\\t\\t\\t\\t\\t\\t  \\\n",
            "0                            0.962\\r\\n\\t\\t\\t\\t\\t\\t\\t\\t                  \n",
            "1                            0.961\\r\\n\\t\\t\\t\\t\\t\\t\\t\\t                  \n",
            "2                            0.959\\r\\n\\t\\t\\t\\t\\t\\t\\t\\t                  \n",
            "3                            0.952\\r\\n\\t\\t\\t\\t\\t\\t\\t\\t                  \n",
            "4                            0.951\\r\\n\\t\\t\\t\\t\\t\\t\\t\\t                  \n",
            "..                                                 ...                  \n",
            "179                          0.426\\r\\n\\t\\t\\t\\t\\t\\t\\t\\t                  \n",
            "180                          0.404\\r\\n\\t\\t\\t\\t\\t\\t\\t\\t                  \n",
            "181                            0.4\\r\\n\\t\\t\\t\\t\\t\\t\\t\\t                  \n",
            "182                          0.394\\r\\n\\t\\t\\t\\t\\t\\t\\t\\t                  \n",
            "183                          0.385\\r\\n\\t\\t\\t\\t\\t\\t\\t\\t                  \n",
            "\n",
            "    \\r\\n\\t\\t\\t\\t\\t\\t\\t\\t\\tGlobal rank\\r\\n\\t\\t\\t\\t\\t\\t\\t\\t  \\\n",
            "0                                1\\r\\n\\t\\t\\t\\t\\t\\t\\t\\t      \n",
            "1                                2\\r\\n\\t\\t\\t\\t\\t\\t\\t\\t      \n",
            "2                                3\\r\\n\\t\\t\\t\\t\\t\\t\\t\\t      \n",
            "3                                4\\r\\n\\t\\t\\t\\t\\t\\t\\t\\t      \n",
            "4                                5\\r\\n\\t\\t\\t\\t\\t\\t\\t\\t      \n",
            "..                                                 ...      \n",
            "179                            180\\r\\n\\t\\t\\t\\t\\t\\t\\t\\t      \n",
            "180                            181\\r\\n\\t\\t\\t\\t\\t\\t\\t\\t      \n",
            "181                            182\\r\\n\\t\\t\\t\\t\\t\\t\\t\\t      \n",
            "182                            183\\r\\n\\t\\t\\t\\t\\t\\t\\t\\t      \n",
            "183                            184\\r\\n\\t\\t\\t\\t\\t\\t\\t\\t      \n",
            "\n",
            "    \\r\\n\\t\\t\\t\\t\\t\\t\\t\\t\\tAvailable data\\r\\n\\t\\t\\t\\t\\t\\t\\t\\t  \n",
            "0                      1980 - 2021\\r\\n\\t\\t\\t\\t\\t\\t\\t\\t        \n",
            "1                      1980 - 2021\\r\\n\\t\\t\\t\\t\\t\\t\\t\\t        \n",
            "2                      1980 - 2021\\r\\n\\t\\t\\t\\t\\t\\t\\t\\t        \n",
            "3                      1980 - 2021\\r\\n\\t\\t\\t\\t\\t\\t\\t\\t        \n",
            "4                      1980 - 2021\\r\\n\\t\\t\\t\\t\\t\\t\\t\\t        \n",
            "..                                                 ...        \n",
            "179                    1980 - 2021\\r\\n\\t\\t\\t\\t\\t\\t\\t\\t        \n",
            "180                    1980 - 2021\\r\\n\\t\\t\\t\\t\\t\\t\\t\\t        \n",
            "181                    1980 - 2021\\r\\n\\t\\t\\t\\t\\t\\t\\t\\t        \n",
            "182                    2000 - 2021\\r\\n\\t\\t\\t\\t\\t\\t\\t\\t        \n",
            "183                    1980 - 2021\\r\\n\\t\\t\\t\\t\\t\\t\\t\\t        \n",
            "\n",
            "[184 rows x 4 columns]\n"
          ]
        }
      ]
    },
    {
      "cell_type": "markdown",
      "source": [
        "# **Feature Engineering** - IGNORAR (modo simplista de label encoder)"
      ],
      "metadata": {
        "id": "IO9LywHeFtNk"
      },
      "id": "IO9LywHeFtNk"
    },
    {
      "cell_type": "code",
      "source": [
        "# continuous_vars = ['age','education','education.num','capital.gain','capital.loss','hours.per.week']"
      ],
      "metadata": {
        "id": "ArMJSbRtHjtS"
      },
      "id": "ArMJSbRtHjtS",
      "execution_count": null,
      "outputs": []
    },
    {
      "cell_type": "code",
      "source": [
        "# Transform income into numeric\n",
        "train_df['income'].replace('<=50K', 0, inplace=True)\n",
        "train_df['income'].replace('>50K', 1, inplace=True)\n",
        "\n",
        "test_df['income'].replace('<=50K', 0, inplace=True)\n",
        "test_df['income'].replace('>50K', 1, inplace=True)"
      ],
      "metadata": {
        "id": "mKSwsSMlJ534"
      },
      "id": "mKSwsSMlJ534",
      "execution_count": null,
      "outputs": []
    },
    {
      "cell_type": "code",
      "source": [
        "categorical_vars =  ['workclass','marital.status','occupation','relationship','race','sex','native.country']\n",
        "\n",
        "# Create a dictionary to store the label encoders for each variable\n",
        "label_encoders = {}\n",
        "\n",
        "for variable in categorical_vars:\n",
        "    label_encoder = LabelEncoder() # Create a label encoder object\n",
        "    encoded_variable = label_encoder.fit_transform(train_df[variable]) # Fit the label encoder to the variable and transform the variable\n",
        "    train_df[variable] = encoded_variable # Update the original dataframe with the encoded variable\n",
        "    label_encoders[variable] = label_encoder # Store the label encoder object in the dictionary\n",
        "\n",
        "for variable in categorical_vars:\n",
        "    label_encoder = LabelEncoder() # Create a label encoder object\n",
        "    encoded_variable = label_encoder.fit_transform(test_df[variable]) # Fit the label encoder to the variable and transform the variable\n",
        "    test_df[variable] = encoded_variable # Update the original dataframe with the encoded variable\n",
        "    label_encoders[variable] = label_encoder # Store the label encoder object in the dictionary"
      ],
      "metadata": {
        "id": "_-1Xh2p5FvyT"
      },
      "id": "_-1Xh2p5FvyT",
      "execution_count": null,
      "outputs": []
    },
    {
      "cell_type": "markdown",
      "source": [
        "# **Splitting the dataset**"
      ],
      "metadata": {
        "id": "3NyCPjD4Ggpb"
      },
      "id": "3NyCPjD4Ggpb"
    },
    {
      "cell_type": "code",
      "source": [
        "train_df.info()"
      ],
      "metadata": {
        "colab": {
          "base_uri": "https://localhost:8080/"
        },
        "id": "HqOL8igF4CMO",
        "outputId": "6ac712c1-86c1-42bb-f749-30f07cc59501"
      },
      "id": "HqOL8igF4CMO",
      "execution_count": null,
      "outputs": [
        {
          "output_type": "stream",
          "name": "stdout",
          "text": [
            "<class 'pandas.core.frame.DataFrame'>\n",
            "Int64Index: 33974 entries, 40654 to 38123\n",
            "Data columns (total 57 columns):\n",
            " #   Column                                Non-Null Count  Dtype\n",
            "---  ------                                --------------  -----\n",
            " 0   education.num                         33974 non-null  int64\n",
            " 1   income                                33974 non-null  int64\n",
            " 2   age.category_child_teenager           33974 non-null  uint8\n",
            " 3   age.category_young_adulthodd          33974 non-null  uint8\n",
            " 4   age.category_middle_adulthood         33974 non-null  uint8\n",
            " 5   age.category_young_old                33974 non-null  uint8\n",
            " 6   age.category_old_old                  33974 non-null  uint8\n",
            " 7   workclass_Federal-gov                 33974 non-null  uint8\n",
            " 8   workclass_Local-gov                   33974 non-null  uint8\n",
            " 9   workclass_Never-worked                33974 non-null  uint8\n",
            " 10  workclass_Private                     33974 non-null  uint8\n",
            " 11  workclass_Self-emp-inc                33974 non-null  uint8\n",
            " 12  workclass_Self-emp-not-inc            33974 non-null  uint8\n",
            " 13  workclass_State-gov                   33974 non-null  uint8\n",
            " 14  workclass_Without-pay                 33974 non-null  uint8\n",
            " 15  marital.status_Divorced               33974 non-null  uint8\n",
            " 16  marital.status_Married-AF-spouse      33974 non-null  uint8\n",
            " 17  marital.status_Married-civ-spouse     33974 non-null  uint8\n",
            " 18  marital.status_Married-spouse-absent  33974 non-null  uint8\n",
            " 19  marital.status_Never-married          33974 non-null  uint8\n",
            " 20  marital.status_Separated              33974 non-null  uint8\n",
            " 21  marital.status_Widowed                33974 non-null  uint8\n",
            " 22  occupation_Adm-clerical               33974 non-null  uint8\n",
            " 23  occupation_Armed-Forces               33974 non-null  uint8\n",
            " 24  occupation_Craft-repair               33974 non-null  uint8\n",
            " 25  occupation_Exec-managerial            33974 non-null  uint8\n",
            " 26  occupation_Farming-fishing            33974 non-null  uint8\n",
            " 27  occupation_Handlers-cleaners          33974 non-null  uint8\n",
            " 28  occupation_Machine-op-inspct          33974 non-null  uint8\n",
            " 29  occupation_Other-service              33974 non-null  uint8\n",
            " 30  occupation_Priv-house-serv            33974 non-null  uint8\n",
            " 31  occupation_Prof-specialty             33974 non-null  uint8\n",
            " 32  occupation_Protective-serv            33974 non-null  uint8\n",
            " 33  occupation_Sales                      33974 non-null  uint8\n",
            " 34  occupation_Tech-support               33974 non-null  uint8\n",
            " 35  occupation_Transport-moving           33974 non-null  uint8\n",
            " 36  relationship_Husband                  33974 non-null  uint8\n",
            " 37  relationship_Not-in-family            33974 non-null  uint8\n",
            " 38  relationship_Other-relative           33974 non-null  uint8\n",
            " 39  relationship_Own-child                33974 non-null  uint8\n",
            " 40  relationship_Unmarried                33974 non-null  uint8\n",
            " 41  relationship_Wife                     33974 non-null  uint8\n",
            " 42  race_Amer-Indian-Eskimo               33974 non-null  uint8\n",
            " 43  race_Asian-Pac-Islander               33974 non-null  uint8\n",
            " 44  race_Black                            33974 non-null  uint8\n",
            " 45  race_Other                            33974 non-null  uint8\n",
            " 46  race_White                            33974 non-null  uint8\n",
            " 47  sex_Female                            33974 non-null  uint8\n",
            " 48  sex_Male                              33974 non-null  uint8\n",
            " 49  hpw.category_Part-time                33974 non-null  uint8\n",
            " 50  hpw.category_Full-time                33974 non-null  uint8\n",
            " 51  hpw.category_Over-time                33974 non-null  uint8\n",
            " 52  continent_Asia                        33974 non-null  uint8\n",
            " 53  continent_Europe                      33974 non-null  uint8\n",
            " 54  continent_North America               33974 non-null  uint8\n",
            " 55  continent_Oceania                     33974 non-null  uint8\n",
            " 56  continent_South America               33974 non-null  uint8\n",
            "dtypes: int64(2), uint8(55)\n",
            "memory usage: 2.6 MB\n"
          ]
        }
      ]
    },
    {
      "cell_type": "code",
      "source": [
        "X_train = train_df.drop('income', axis=1)\n",
        "y_train = train_df['income']\n",
        "\n",
        "X_test = test_df.drop('income', axis=1)\n",
        "y_test = test_df['income']"
      ],
      "metadata": {
        "id": "DiWuIxMvGjYE"
      },
      "id": "DiWuIxMvGjYE",
      "execution_count": null,
      "outputs": []
    },
    {
      "cell_type": "markdown",
      "source": [
        "# **Model building & Evaluation**"
      ],
      "metadata": {
        "id": "dZvinN2bBSv1"
      },
      "id": "dZvinN2bBSv1"
    },
    {
      "cell_type": "code",
      "source": [
        "train_df = train_df.drop(['capital.gain', 'capital.loss'], axis=1)\n",
        "test_df = test_df.drop(['capital.gain', 'capital.loss'], axis=1)"
      ],
      "metadata": {
        "id": "PPownOJUwA_a"
      },
      "id": "PPownOJUwA_a",
      "execution_count": null,
      "outputs": []
    },
    {
      "cell_type": "code",
      "source": [
        "models = {\n",
        "    'Logistic Regression': LogisticRegression(),\n",
        "    'Decision Tree': DecisionTreeClassifier(),\n",
        "    'Random Forest': RandomForestClassifier(),\n",
        "    'Support Vector Machines (SVM)': SVC(),\n",
        "    'K-Nearest Neighbors (KNN)': KNeighborsClassifier(),\n",
        "    'Naive Bayes': GaussianNB()\n",
        "}"
      ],
      "metadata": {
        "id": "sdMA758LGqb5"
      },
      "id": "sdMA758LGqb5",
      "execution_count": null,
      "outputs": []
    },
    {
      "cell_type": "code",
      "source": [
        "results = {}\n",
        "\n",
        "for name, model in models.items():\n",
        "    model.fit(X_train, y_train)  # X_train and y_train represent your training data\n",
        "    y_pred = model.predict(X_test)  # X_test represents your test data\n",
        "    accuracy = accuracy_score(y_test, y_pred)  # y_test represents the true values of the target variable\n",
        "    results[name] = accuracy"
      ],
      "metadata": {
        "colab": {
          "base_uri": "https://localhost:8080/"
        },
        "id": "ym8pE-3AGsLT",
        "outputId": "9d2d9d1c-3ca7-4e83-a2a3-c5ea43f819ba"
      },
      "id": "ym8pE-3AGsLT",
      "execution_count": null,
      "outputs": [
        {
          "output_type": "stream",
          "name": "stderr",
          "text": [
            "lbfgs failed to converge (status=1):\n",
            "STOP: TOTAL NO. of ITERATIONS REACHED LIMIT.\n",
            "\n",
            "Increase the number of iterations (max_iter) or scale the data as shown in:\n",
            "    https://scikit-learn.org/stable/modules/preprocessing.html\n",
            "Please also refer to the documentation for alternative solver options:\n",
            "    https://scikit-learn.org/stable/modules/linear_model.html#logistic-regression\n"
          ]
        }
      ]
    },
    {
      "cell_type": "code",
      "source": [
        "for name, accuracy in results.items():\n",
        "    print(f\"{name}: Accuracy = {accuracy}\")"
      ],
      "metadata": {
        "colab": {
          "base_uri": "https://localhost:8080/"
        },
        "id": "L3zOSeukGuDK",
        "outputId": "1c6f1657-f691-41ee-9643-453204317fdb"
      },
      "id": "L3zOSeukGuDK",
      "execution_count": null,
      "outputs": [
        {
          "output_type": "stream",
          "name": "stdout",
          "text": [
            "Logistic Regression: Accuracy = 0.8457734871674123\n",
            "Decision Tree: Accuracy = 0.8478926300918296\n",
            "Random Forest: Accuracy = 0.8535436778902755\n",
            "Support Vector Machines (SVM): Accuracy = 0.7999764539675065\n",
            "K-Nearest Neighbors (KNN): Accuracy = 0.8567223922769014\n",
            "Naive Bayes: Accuracy = 0.8030374381916647\n"
          ]
        }
      ]
    },
    {
      "cell_type": "code",
      "source": [
        "# performance making the label encoder for every variable\n",
        "'''\n",
        "Logistic Regression: Accuracy = 0.8036445536445537\n",
        "Decision Tree: Accuracy = 0.8251433251433251\n",
        "Random Forest: Accuracy = 0.8505323505323505\n",
        "Support Vector Machines (SVM): Accuracy = 0.8025184275184275\n",
        "K-Nearest Neighbors (KNN): Accuracy = 0.8434684684684685\n",
        "Naive Bayes: Accuracy = 0.797911547911548\n",
        "'''"
      ],
      "metadata": {
        "id": "6wKB91TTtJjE"
      },
      "id": "6wKB91TTtJjE",
      "execution_count": null,
      "outputs": []
    },
    {
      "cell_type": "markdown",
      "source": [
        "# **Treatment for imbalanced class**"
      ],
      "metadata": {
        "id": "MboA_5kzA8-h"
      },
      "id": "MboA_5kzA8-h"
    },
    {
      "cell_type": "markdown",
      "source": [
        "# **SHAP**"
      ],
      "metadata": {
        "id": "ZxUAfoFbNsLQ"
      },
      "id": "ZxUAfoFbNsLQ"
    },
    {
      "cell_type": "code",
      "source": [
        "# Create Random Forest Classifier\n",
        "rf = RandomForestClassifier()\n",
        "\n",
        "# Train the model using the training sets\n",
        "rf.fit(X_train, y_train)\n",
        "\n",
        "# Predict the response for test dataset\n",
        "y_pred = rf.predict(X_test)"
      ],
      "metadata": {
        "id": "pCDYPmzc6Ynq",
        "outputId": "8c401737-855b-4fdf-aa2a-7e96a3efe7b7",
        "colab": {
          "base_uri": "https://localhost:8080/",
          "height": 235
        }
      },
      "id": "pCDYPmzc6Ynq",
      "execution_count": null,
      "outputs": [
        {
          "output_type": "error",
          "ename": "NameError",
          "evalue": "ignored",
          "traceback": [
            "\u001b[0;31m---------------------------------------------------------------------------\u001b[0m",
            "\u001b[0;31mNameError\u001b[0m                                 Traceback (most recent call last)",
            "\u001b[0;32m<ipython-input-1-3327f4d50506>\u001b[0m in \u001b[0;36m<cell line: 2>\u001b[0;34m()\u001b[0m\n\u001b[1;32m      1\u001b[0m \u001b[0;31m# Create Random Forest Classifier\u001b[0m\u001b[0;34m\u001b[0m\u001b[0;34m\u001b[0m\u001b[0m\n\u001b[0;32m----> 2\u001b[0;31m \u001b[0mrf\u001b[0m \u001b[0;34m=\u001b[0m \u001b[0mRandomForestClassifier\u001b[0m\u001b[0;34m(\u001b[0m\u001b[0;34m)\u001b[0m\u001b[0;34m\u001b[0m\u001b[0;34m\u001b[0m\u001b[0m\n\u001b[0m\u001b[1;32m      3\u001b[0m \u001b[0;34m\u001b[0m\u001b[0m\n\u001b[1;32m      4\u001b[0m \u001b[0;31m# Train the model using the training sets\u001b[0m\u001b[0;34m\u001b[0m\u001b[0;34m\u001b[0m\u001b[0m\n\u001b[1;32m      5\u001b[0m \u001b[0mrf\u001b[0m\u001b[0;34m.\u001b[0m\u001b[0mfit\u001b[0m\u001b[0;34m(\u001b[0m\u001b[0mX_train\u001b[0m\u001b[0;34m,\u001b[0m \u001b[0my_train\u001b[0m\u001b[0;34m)\u001b[0m\u001b[0;34m\u001b[0m\u001b[0;34m\u001b[0m\u001b[0m\n",
            "\u001b[0;31mNameError\u001b[0m: name 'RandomForestClassifier' is not defined"
          ]
        }
      ]
    },
    {
      "cell_type": "code",
      "source": [
        "print(\"Accuracy:\",accuracy_score(y_test, y_pred))"
      ],
      "metadata": {
        "colab": {
          "base_uri": "https://localhost:8080/"
        },
        "id": "Rd5uT0NA6b2P",
        "outputId": "e741bcd5-8c5a-447d-9e89-a815d93f3fe4"
      },
      "id": "Rd5uT0NA6b2P",
      "execution_count": null,
      "outputs": [
        {
          "output_type": "stream",
          "name": "stdout",
          "text": [
            "Accuracy: 0.853072757240405\n"
          ]
        }
      ]
    },
    {
      "cell_type": "code",
      "source": [
        "# Create object that can calculate shap values\n",
        "explainer = shap.TreeExplainer(rf)\n",
        "\n",
        "# Calculate Shap values\n",
        "shap_values = explainer.shap_values(X_test)"
      ],
      "metadata": {
        "id": "gaObCntgO9A-"
      },
      "id": "gaObCntgO9A-",
      "execution_count": null,
      "outputs": []
    },
    {
      "cell_type": "code",
      "source": [
        "# Create summary_plot\n",
        "shap.summary_plot(shap_values, X_test)"
      ],
      "metadata": {
        "id": "egycn2iU6fDt"
      },
      "id": "egycn2iU6fDt",
      "execution_count": null,
      "outputs": []
    }
  ],
  "metadata": {
    "kernelspec": {
      "display_name": "Python 3 (ipykernel)",
      "language": "python",
      "name": "python3"
    },
    "language_info": {
      "codemirror_mode": {
        "name": "ipython",
        "version": 3
      },
      "file_extension": ".py",
      "mimetype": "text/x-python",
      "name": "python",
      "nbconvert_exporter": "python",
      "pygments_lexer": "ipython3",
      "version": "3.11.0"
    },
    "varInspector": {
      "cols": {
        "lenName": 16,
        "lenType": 16,
        "lenVar": 40
      },
      "kernels_config": {
        "python": {
          "delete_cmd_postfix": "",
          "delete_cmd_prefix": "del ",
          "library": "var_list.py",
          "varRefreshCmd": "print(var_dic_list())"
        },
        "r": {
          "delete_cmd_postfix": ") ",
          "delete_cmd_prefix": "rm(",
          "library": "var_list.r",
          "varRefreshCmd": "cat(var_dic_list()) "
        }
      },
      "types_to_exclude": [
        "module",
        "function",
        "builtin_function_or_method",
        "instance",
        "_Feature"
      ],
      "window_display": false
    },
    "colab": {
      "provenance": [],
      "collapsed_sections": [
        "0_QmaOtgIeqi",
        "WGwSw4ksBLNG",
        "KeO_8c7qY6U0",
        "_tVGzuidhrAp",
        "6qdhegr9hdrv",
        "Nbs3KNLdhiv1",
        "MDEayfBZnOZT",
        "6NjZTJk1nSlL",
        "EUv5AZCuniKv",
        "APRU87-wnlR4",
        "cNJ4UeP7nmHw",
        "5jlcwEw-nrKz",
        "PQ3fBS5GnvTr",
        "sB5wd-dznxyg",
        "94jIb-66n4Ap",
        "DfORkO1Un4Iv",
        "O-qXKCRPn-Dj",
        "LjWRn7vc0qqd",
        "G5WqFHsT7ukS",
        "IO9LywHeFtNk",
        "3NyCPjD4Ggpb",
        "dZvinN2bBSv1"
      ],
      "include_colab_link": true
    }
  },
  "nbformat": 4,
  "nbformat_minor": 5
}